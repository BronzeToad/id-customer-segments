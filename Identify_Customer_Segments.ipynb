{
 "cells": [
  {
   "cell_type": "markdown",
   "metadata": {},
   "source": [
    "# Project: Identify Customer Segments\n",
    "\n",
    "In this project, you will apply unsupervised learning techniques to identify segments of the population that form the core customer base for a mail-order sales company in Germany. These segments can then be used to direct marketing campaigns towards audiences that will have the highest expected rate of returns. The data that you will use has been provided by our partners at Bertelsmann Arvato Analytics, and represents a real-life data science task.\n",
    "\n",
    "This notebook will help you complete this task by providing a framework within which you will perform your analysis steps. In each step of the project, you will see some text describing the subtask that you will perform, followed by one or more code cells for you to complete your work. **Feel free to add additional code and markdown cells as you go along so that you can explore everything in precise chunks.** The code cells provided in the base template will outline only the major tasks, and will usually not be enough to cover all of the minor tasks that comprise it.\n",
    "\n",
    "It should be noted that while there will be precise guidelines on how you should handle certain tasks in the project, there will also be places where an exact specification is not provided. **There will be times in the project where you will need to make and justify your own decisions on how to treat the data.** These are places where there may not be only one way to handle the data. In real-life tasks, there may be many valid ways to approach an analysis task. One of the most important things you can do is clearly document your approach so that other scientists can understand the decisions you've made.\n",
    "\n",
    "At the end of most sections, there will be a Markdown cell labeled **Discussion**. In these cells, you will report your findings for the completed section, as well as document the decisions that you made in your approach to each subtask. **Your project will be evaluated not just on the code used to complete the tasks outlined, but also your communication about your observations and conclusions at each stage.**"
   ]
  },
  {
   "cell_type": "code",
   "execution_count": 1,
   "metadata": {},
   "outputs": [],
   "source": [
    "# import libraries\n",
    "import numpy as np\n",
    "import pandas as pd\n",
    "import matplotlib.pyplot as plt\n",
    "import seaborn as sns\n",
    "import time\n",
    "import operator\n",
    "import plotly.express as px\n",
    "from sklearn.preprocessing import StandardScaler\n",
    "from sklearn.decomposition import PCA\n",
    "from sklearn.cluster import KMeans\n",
    "\n",
    "# magic word for producing visualizations in notebook\n",
    "%matplotlib inline"
   ]
  },
  {
   "cell_type": "code",
   "execution_count": 2,
   "metadata": {},
   "outputs": [],
   "source": [
    "def copy_df(input_df):\n",
    "    \"\"\" copy dataframe and reset index \"\"\"\n",
    "    \n",
    "    output_df = input_df.copy().reset_index(drop=True)\n",
    "    return output_df"
   ]
  },
  {
   "cell_type": "markdown",
   "metadata": {},
   "source": [
    "### Step 0: Load the Data\n",
    "\n",
    "There are four files associated with this project (not including this one):\n",
    "\n",
    "- `Udacity_azdias_subset.csv`: Demographics data for the general population of Germany; 891211 persons (rows) x 85 features (columns).\n",
    "- `Udacity_CUSTOMERS_Subset.csv`: Demographics data for customers of a mail-order company; 191652 persons (rows) x 85 features (columns).\n",
    "- `Data_Dictionary.md`: Detailed information file about the features in the provided datasets.\n",
    "- `AZDIAS_Feature_Summary.csv`: Summary of feature attributes for demographics data; 85 features (rows) x 4 columns\n",
    "\n",
    "Each row of the demographics files represents a single person, but also includes information outside of individuals, including information about their household, building, and neighborhood. You will use this information to cluster the general population into groups with similar demographic properties. Then, you will see how the people in the customers dataset fit into those created clusters. The hope here is that certain clusters are over-represented in the customers data, as compared to the general population; those over-represented clusters will be assumed to be part of the core userbase. This information can then be used for further applications, such as targeting for a marketing campaign.\n",
    "\n",
    "To start off with, load in the demographics data for the general population into a pandas DataFrame, and do the same for the feature attributes summary. Note for all of the `.csv` data files in this project: they're semicolon (`;`) delimited, so you'll need an additional argument in your [`read_csv()`](https://pandas.pydata.org/pandas-docs/stable/generated/pandas.read_csv.html) call to read in the data properly. Also, considering the size of the main dataset, it may take some time for it to load completely.\n",
    "\n",
    "Once the dataset is loaded, it's recommended that you take a little bit of time just browsing the general structure of the dataset and feature summary file. You'll be getting deep into the innards of the cleaning in the first major step of the project, so gaining some general familiarity can help you get your bearings."
   ]
  },
  {
   "cell_type": "code",
   "execution_count": 3,
   "metadata": {},
   "outputs": [],
   "source": [
    "# Load in the general demographics data\n",
    "azdias = pd.read_csv('udacity_azdias_subset.csv', delimiter=';')\n",
    "\n",
    "# Load in the feature summary file\n",
    "feat_info = pd.read_csv('azdias_feature_summary.csv', delimiter=';')"
   ]
  },
  {
   "cell_type": "markdown",
   "metadata": {},
   "source": [
    "> Check the structure of the data after it's loaded (e.g. print the number of rows and columns, print the first few rows)"
   ]
  },
  {
   "cell_type": "code",
   "execution_count": 4,
   "metadata": {},
   "outputs": [
    {
     "name": "stdout",
     "output_type": "stream",
     "text": [
      "----- azdias dataframe -----\n",
      "number of rows: 891221\n",
      "number of columns: 85\n"
     ]
    }
   ],
   "source": [
    "# check rows and columns for azdias df\n",
    "rows, cols = azdias.shape\n",
    "print('----- azdias dataframe -----')\n",
    "print(f'number of rows: {rows}')\n",
    "print(f'number of columns: {cols}')"
   ]
  },
  {
   "cell_type": "code",
   "execution_count": 5,
   "metadata": {},
   "outputs": [
    {
     "data": {
      "text/plain": [
       "AGER_TYP                  int64\n",
       "ALTERSKATEGORIE_GROB      int64\n",
       "ANREDE_KZ                 int64\n",
       "CJT_GESAMTTYP           float64\n",
       "FINANZ_MINIMALIST         int64\n",
       "                         ...   \n",
       "PLZ8_HHZ                float64\n",
       "PLZ8_GBZ                float64\n",
       "ARBEIT                  float64\n",
       "ORTSGR_KLS9             float64\n",
       "RELAT_AB                float64\n",
       "Length: 85, dtype: object"
      ]
     },
     "execution_count": 5,
     "metadata": {},
     "output_type": "execute_result"
    }
   ],
   "source": [
    "# check data types for azdias df\n",
    "azdias.dtypes"
   ]
  },
  {
   "cell_type": "code",
   "execution_count": 6,
   "metadata": {},
   "outputs": [
    {
     "data": {
      "text/html": [
       "<div>\n",
       "<style scoped>\n",
       "    .dataframe tbody tr th:only-of-type {\n",
       "        vertical-align: middle;\n",
       "    }\n",
       "\n",
       "    .dataframe tbody tr th {\n",
       "        vertical-align: top;\n",
       "    }\n",
       "\n",
       "    .dataframe thead th {\n",
       "        text-align: right;\n",
       "    }\n",
       "</style>\n",
       "<table border=\"1\" class=\"dataframe\">\n",
       "  <thead>\n",
       "    <tr style=\"text-align: right;\">\n",
       "      <th></th>\n",
       "      <th>AGER_TYP</th>\n",
       "      <th>ALTERSKATEGORIE_GROB</th>\n",
       "      <th>ANREDE_KZ</th>\n",
       "      <th>CJT_GESAMTTYP</th>\n",
       "      <th>FINANZ_MINIMALIST</th>\n",
       "      <th>FINANZ_SPARER</th>\n",
       "      <th>FINANZ_VORSORGER</th>\n",
       "      <th>FINANZ_ANLEGER</th>\n",
       "      <th>FINANZ_UNAUFFAELLIGER</th>\n",
       "      <th>FINANZ_HAUSBAUER</th>\n",
       "      <th>...</th>\n",
       "      <th>PLZ8_ANTG1</th>\n",
       "      <th>PLZ8_ANTG2</th>\n",
       "      <th>PLZ8_ANTG3</th>\n",
       "      <th>PLZ8_ANTG4</th>\n",
       "      <th>PLZ8_BAUMAX</th>\n",
       "      <th>PLZ8_HHZ</th>\n",
       "      <th>PLZ8_GBZ</th>\n",
       "      <th>ARBEIT</th>\n",
       "      <th>ORTSGR_KLS9</th>\n",
       "      <th>RELAT_AB</th>\n",
       "    </tr>\n",
       "  </thead>\n",
       "  <tbody>\n",
       "    <tr>\n",
       "      <th>0</th>\n",
       "      <td>-1</td>\n",
       "      <td>2</td>\n",
       "      <td>1</td>\n",
       "      <td>2.0</td>\n",
       "      <td>3</td>\n",
       "      <td>4</td>\n",
       "      <td>3</td>\n",
       "      <td>5</td>\n",
       "      <td>5</td>\n",
       "      <td>3</td>\n",
       "      <td>...</td>\n",
       "      <td>NaN</td>\n",
       "      <td>NaN</td>\n",
       "      <td>NaN</td>\n",
       "      <td>NaN</td>\n",
       "      <td>NaN</td>\n",
       "      <td>NaN</td>\n",
       "      <td>NaN</td>\n",
       "      <td>NaN</td>\n",
       "      <td>NaN</td>\n",
       "      <td>NaN</td>\n",
       "    </tr>\n",
       "    <tr>\n",
       "      <th>1</th>\n",
       "      <td>-1</td>\n",
       "      <td>1</td>\n",
       "      <td>2</td>\n",
       "      <td>5.0</td>\n",
       "      <td>1</td>\n",
       "      <td>5</td>\n",
       "      <td>2</td>\n",
       "      <td>5</td>\n",
       "      <td>4</td>\n",
       "      <td>5</td>\n",
       "      <td>...</td>\n",
       "      <td>2.0</td>\n",
       "      <td>3.0</td>\n",
       "      <td>2.0</td>\n",
       "      <td>1.0</td>\n",
       "      <td>1.0</td>\n",
       "      <td>5.0</td>\n",
       "      <td>4.0</td>\n",
       "      <td>3.0</td>\n",
       "      <td>5.0</td>\n",
       "      <td>4.0</td>\n",
       "    </tr>\n",
       "    <tr>\n",
       "      <th>2</th>\n",
       "      <td>-1</td>\n",
       "      <td>3</td>\n",
       "      <td>2</td>\n",
       "      <td>3.0</td>\n",
       "      <td>1</td>\n",
       "      <td>4</td>\n",
       "      <td>1</td>\n",
       "      <td>2</td>\n",
       "      <td>3</td>\n",
       "      <td>5</td>\n",
       "      <td>...</td>\n",
       "      <td>3.0</td>\n",
       "      <td>3.0</td>\n",
       "      <td>1.0</td>\n",
       "      <td>0.0</td>\n",
       "      <td>1.0</td>\n",
       "      <td>4.0</td>\n",
       "      <td>4.0</td>\n",
       "      <td>3.0</td>\n",
       "      <td>5.0</td>\n",
       "      <td>2.0</td>\n",
       "    </tr>\n",
       "    <tr>\n",
       "      <th>3</th>\n",
       "      <td>2</td>\n",
       "      <td>4</td>\n",
       "      <td>2</td>\n",
       "      <td>2.0</td>\n",
       "      <td>4</td>\n",
       "      <td>2</td>\n",
       "      <td>5</td>\n",
       "      <td>2</td>\n",
       "      <td>1</td>\n",
       "      <td>2</td>\n",
       "      <td>...</td>\n",
       "      <td>2.0</td>\n",
       "      <td>2.0</td>\n",
       "      <td>2.0</td>\n",
       "      <td>0.0</td>\n",
       "      <td>1.0</td>\n",
       "      <td>3.0</td>\n",
       "      <td>4.0</td>\n",
       "      <td>2.0</td>\n",
       "      <td>3.0</td>\n",
       "      <td>3.0</td>\n",
       "    </tr>\n",
       "    <tr>\n",
       "      <th>4</th>\n",
       "      <td>-1</td>\n",
       "      <td>3</td>\n",
       "      <td>1</td>\n",
       "      <td>5.0</td>\n",
       "      <td>4</td>\n",
       "      <td>3</td>\n",
       "      <td>4</td>\n",
       "      <td>1</td>\n",
       "      <td>3</td>\n",
       "      <td>2</td>\n",
       "      <td>...</td>\n",
       "      <td>2.0</td>\n",
       "      <td>4.0</td>\n",
       "      <td>2.0</td>\n",
       "      <td>1.0</td>\n",
       "      <td>2.0</td>\n",
       "      <td>3.0</td>\n",
       "      <td>3.0</td>\n",
       "      <td>4.0</td>\n",
       "      <td>6.0</td>\n",
       "      <td>5.0</td>\n",
       "    </tr>\n",
       "  </tbody>\n",
       "</table>\n",
       "<p>5 rows × 85 columns</p>\n",
       "</div>"
      ],
      "text/plain": [
       "   AGER_TYP  ALTERSKATEGORIE_GROB  ANREDE_KZ  CJT_GESAMTTYP  \\\n",
       "0        -1                     2          1            2.0   \n",
       "1        -1                     1          2            5.0   \n",
       "2        -1                     3          2            3.0   \n",
       "3         2                     4          2            2.0   \n",
       "4        -1                     3          1            5.0   \n",
       "\n",
       "   FINANZ_MINIMALIST  FINANZ_SPARER  FINANZ_VORSORGER  FINANZ_ANLEGER  \\\n",
       "0                  3              4                 3               5   \n",
       "1                  1              5                 2               5   \n",
       "2                  1              4                 1               2   \n",
       "3                  4              2                 5               2   \n",
       "4                  4              3                 4               1   \n",
       "\n",
       "   FINANZ_UNAUFFAELLIGER  FINANZ_HAUSBAUER  ...  PLZ8_ANTG1  PLZ8_ANTG2  \\\n",
       "0                      5                 3  ...         NaN         NaN   \n",
       "1                      4                 5  ...         2.0         3.0   \n",
       "2                      3                 5  ...         3.0         3.0   \n",
       "3                      1                 2  ...         2.0         2.0   \n",
       "4                      3                 2  ...         2.0         4.0   \n",
       "\n",
       "   PLZ8_ANTG3  PLZ8_ANTG4  PLZ8_BAUMAX  PLZ8_HHZ  PLZ8_GBZ  ARBEIT  \\\n",
       "0         NaN         NaN          NaN       NaN       NaN     NaN   \n",
       "1         2.0         1.0          1.0       5.0       4.0     3.0   \n",
       "2         1.0         0.0          1.0       4.0       4.0     3.0   \n",
       "3         2.0         0.0          1.0       3.0       4.0     2.0   \n",
       "4         2.0         1.0          2.0       3.0       3.0     4.0   \n",
       "\n",
       "   ORTSGR_KLS9  RELAT_AB  \n",
       "0          NaN       NaN  \n",
       "1          5.0       4.0  \n",
       "2          5.0       2.0  \n",
       "3          3.0       3.0  \n",
       "4          6.0       5.0  \n",
       "\n",
       "[5 rows x 85 columns]"
      ]
     },
     "execution_count": 6,
     "metadata": {},
     "output_type": "execute_result"
    }
   ],
   "source": [
    "# take a look at first few records of azdias df\n",
    "azdias.head()"
   ]
  },
  {
   "cell_type": "code",
   "execution_count": 7,
   "metadata": {},
   "outputs": [
    {
     "data": {
      "text/plain": [
       "<bound method NDFrame.head of                attribute information_level         type missing_or_unknown\n",
       "0               AGER_TYP            person  categorical             [-1,0]\n",
       "1   ALTERSKATEGORIE_GROB            person      ordinal           [-1,0,9]\n",
       "2              ANREDE_KZ            person  categorical             [-1,0]\n",
       "3          CJT_GESAMTTYP            person  categorical                [0]\n",
       "4      FINANZ_MINIMALIST            person      ordinal               [-1]\n",
       "..                   ...               ...          ...                ...\n",
       "80              PLZ8_HHZ    macrocell_plz8      ordinal               [-1]\n",
       "81              PLZ8_GBZ    macrocell_plz8      ordinal               [-1]\n",
       "82                ARBEIT         community      ordinal             [-1,9]\n",
       "83           ORTSGR_KLS9         community      ordinal             [-1,0]\n",
       "84              RELAT_AB         community      ordinal             [-1,9]\n",
       "\n",
       "[85 rows x 4 columns]>"
      ]
     },
     "execution_count": 7,
     "metadata": {},
     "output_type": "execute_result"
    }
   ],
   "source": [
    "# take a look at first few records of feat_info\n",
    "feat_info.head"
   ]
  },
  {
   "cell_type": "code",
   "execution_count": 8,
   "metadata": {},
   "outputs": [],
   "source": [
    "def convert_to_na(dataframe):\n",
    "    \"\"\" Convert missing or unknown data values to NaN \"\"\"\n",
    "    \n",
    "    df = copy_df(dataframe)\n",
    "    feat_info = pd.read_csv('AZDIAS_Feature_Summary.csv', delimiter=';')\n",
    "\n",
    "    feat_info['missing_or_unknown'] = feat_info['missing_or_unknown'].apply(lambda x: x[1:-1].split(','))\n",
    "    for attr, nan_vals in zip(feat_info['attribute'], feat_info['missing_or_unknown']):\n",
    "        if nan_vals[0] != '':\n",
    "            for val in nan_vals:\n",
    "                if val.isnumeric() or val.lstrip('-').isnumeric():\n",
    "                    val = int(val)\n",
    "                df.loc[df[attr] == val, attr] = np.nan\n",
    "\n",
    "    return df"
   ]
  },
  {
   "cell_type": "code",
   "execution_count": 9,
   "metadata": {},
   "outputs": [],
   "source": [
    "# Identify missing or unknown data values and convert them to NaNs\n",
    "azdias = convert_to_na(azdias)"
   ]
  },
  {
   "cell_type": "markdown",
   "metadata": {},
   "source": [
    "#### Step 1.1.2: Assess Missing Data in Each Column\n",
    "\n",
    "How much missing data is present in each column? There are a few columns that are outliers in terms of the proportion of values that are missing. You will want to use matplotlib's [`hist()`](https://matplotlib.org/api/_as_gen/matplotlib.pyplot.hist.html) function to visualize the distribution of missing value counts to find these columns. Identify and document these columns. While some of these columns might have justifications for keeping or re-encoding the data, for this project you should just remove them from the dataframe. (Feel free to make remarks about these outlier columns in the discussion, however!)\n",
    "\n",
    "For the remaining features, are there any patterns in which columns have, or share, missing data?"
   ]
  },
  {
   "cell_type": "markdown",
   "metadata": {},
   "source": [
    "> Perform an assessment of how much missing data there is in each column of the dataset."
   ]
  },
  {
   "cell_type": "code",
   "execution_count": 10,
   "metadata": {},
   "outputs": [
    {
     "name": "stdout",
     "output_type": "stream",
     "text": [
      "              feat   count\n",
      "40        TITEL_KZ  889061\n",
      "0         AGER_TYP  685843\n",
      "47    KK_KUNDENTYP  584612\n",
      "64    KBA05_BAUMAX  476524\n",
      "11     GEBURTSJAHR  392318\n",
      "43        ALTER_HH  310267\n",
      "70             KKK  158064\n",
      "73        REGIOTYP  158064\n",
      "48  W_KEIT_KIND_HH  147988\n",
      "60     KBA05_ANTG1  133324\n"
     ]
    }
   ],
   "source": [
    "# create new df with feature name and count of missing values\n",
    "na_azdias = azdias.isna().sum().reset_index()\n",
    "na_azdias.rename({'index': 'feat', 0: 'count'}, axis='columns', inplace=True)\n",
    "na_azdias.sort_values(by='count', ascending=False, inplace=True)\n",
    "print(na_azdias.head(10))"
   ]
  },
  {
   "cell_type": "code",
   "execution_count": 11,
   "metadata": {},
   "outputs": [
    {
     "data": {
      "text/plain": [
       "<function matplotlib.pyplot.show(close=None, block=None)>"
      ]
     },
     "execution_count": 11,
     "metadata": {},
     "output_type": "execute_result"
    },
    {
     "data": {
      "image/png": "[encoded data removed]",
      "text/plain": [
       "<Figure size 432x288 with 1 Axes>"
      ]
     },
     "metadata": {
      "needs_background": "light"
     },
     "output_type": "display_data"
    }
   ],
   "source": [
    "# using hist function to identify outliers\n",
    "histogram = plt.hist(na_azdias['count'], 25, density=1)\n",
    "plt.show"
   ]
  },
  {
   "cell_type": "markdown",
   "metadata": {},
   "source": [
    "It's a bit hard to see, so let's try again after removing features with no missing values"
   ]
  },
  {
   "cell_type": "code",
   "execution_count": 12,
   "metadata": {},
   "outputs": [
    {
     "data": {
      "text/plain": [
       "<function matplotlib.pyplot.show(close=None, block=None)>"
      ]
     },
     "execution_count": 12,
     "metadata": {},
     "output_type": "execute_result"
    },
    {
     "data": {
      "image/png": "[encoded data removed]",
      "text/plain": [
       "<Figure size 432x288 with 1 Axes>"
      ]
     },
     "metadata": {
      "needs_background": "light"
     },
     "output_type": "display_data"
    }
   ],
   "source": [
    "na_azdias_hist = na_azdias.loc[(na_azdias['count'] > 0)]\n",
    "histogram = plt.hist(na_azdias_hist['count'], 25, density=1)\n",
    "plt.show"
   ]
  },
  {
   "cell_type": "markdown",
   "metadata": {},
   "source": [
    "If we use a boxplot instead, we don't need to remove records to output a clean visualization"
   ]
  },
  {
   "cell_type": "code",
   "execution_count": 13,
   "metadata": {},
   "outputs": [
    {
     "data": {
      "text/plain": [
       "<AxesSubplot:xlabel='count'>"
      ]
     },
     "execution_count": 13,
     "metadata": {},
     "output_type": "execute_result"
    },
    {
     "data": {
      "image/png": "[encoded data removed]",
      "text/plain": [
       "<Figure size 576x288 with 1 Axes>"
      ]
     },
     "metadata": {},
     "output_type": "display_data"
    }
   ],
   "source": [
    "# using seaborn boxplot to identify outliers\n",
    "sns.set(rc = {'figure.figsize':(8,4)})\n",
    "sns.boxplot(x=na_azdias['count'])"
   ]
  },
  {
   "cell_type": "markdown",
   "metadata": {},
   "source": [
    "It looks like there are six outliers - I'll remove those from the azdias dataset at a later step"
   ]
  },
  {
   "cell_type": "code",
   "execution_count": 14,
   "metadata": {},
   "outputs": [
    {
     "name": "stdout",
     "output_type": "stream",
     "text": [
      "            feat   count\n",
      "40      TITEL_KZ  889061\n",
      "0       AGER_TYP  685843\n",
      "47  KK_KUNDENTYP  584612\n",
      "64  KBA05_BAUMAX  476524\n",
      "11   GEBURTSJAHR  392318\n",
      "43      ALTER_HH  310267\n",
      "\n",
      "List of outliers to remove: ['TITEL_KZ', 'AGER_TYP', 'KK_KUNDENTYP', 'KBA05_BAUMAX', 'GEBURTSJAHR', 'ALTER_HH']\n"
     ]
    }
   ],
   "source": [
    "print(na_azdias.head(6))\n",
    "\n",
    "# create list of outliers\n",
    "outliers = []\n",
    "for i in range(0,6):\n",
    "    outliers.append(na_azdias.iloc[i]['feat'])\n",
    "print(f'\\nList of outliers to remove: {outliers}')"
   ]
  },
  {
   "cell_type": "markdown",
   "metadata": {},
   "source": [
    "> Investigate patterns in the amount of missing data in each column."
   ]
  },
  {
   "cell_type": "code",
   "execution_count": 15,
   "metadata": {},
   "outputs": [
    {
     "name": "stdout",
     "output_type": "stream",
     "text": [
      "             feat  cnt_na\n",
      "0        TITEL_KZ  889061\n",
      "1        AGER_TYP  685843\n",
      "2    KK_KUNDENTYP  584612\n",
      "3    KBA05_BAUMAX  476524\n",
      "4     GEBURTSJAHR  392318\n",
      "5        ALTER_HH  310267\n",
      "6             KKK  158064\n",
      "7        REGIOTYP  158064\n",
      "8  W_KEIT_KIND_HH  147988\n",
      "9     KBA05_ANTG1  133324\n"
     ]
    }
   ],
   "source": [
    "# copy df with count of missing\n",
    "missing = copy_df(na_azdias)\n",
    "missing.rename({'count': 'cnt_na'}, axis='columns', inplace=True)\n",
    "print(missing.head(10))"
   ]
  },
  {
   "cell_type": "code",
   "execution_count": 16,
   "metadata": {},
   "outputs": [
    {
     "name": "stdout",
     "output_type": "stream",
     "text": [
      "             feat  cnt_na  cnt_not_na\n",
      "0        TITEL_KZ  889061           0\n",
      "1        AGER_TYP  685843      203218\n",
      "2    KK_KUNDENTYP  584612      304449\n",
      "3    KBA05_BAUMAX  476524      412537\n",
      "4     GEBURTSJAHR  392318      496743\n",
      "5        ALTER_HH  310267      578794\n",
      "6             KKK  158064      730997\n",
      "7        REGIOTYP  158064      730997\n",
      "8  W_KEIT_KIND_HH  147988      741073\n",
      "9     KBA05_ANTG1  133324      755737\n"
     ]
    }
   ],
   "source": [
    "# add count of not missing\n",
    "missing['cnt_not_na'] = missing['cnt_na'].max() - missing['cnt_na']\n",
    "print(missing.head(10))"
   ]
  },
  {
   "cell_type": "code",
   "execution_count": 17,
   "metadata": {},
   "outputs": [
    {
     "name": "stdout",
     "output_type": "stream",
     "text": [
      "             feat  cnt_na  cnt_not_na  pct_na\n",
      "0        TITEL_KZ  889061           0  1.0000\n",
      "1        AGER_TYP  685843      203218  0.7714\n",
      "2    KK_KUNDENTYP  584612      304449  0.6576\n",
      "3    KBA05_BAUMAX  476524      412537  0.5360\n",
      "4     GEBURTSJAHR  392318      496743  0.4413\n",
      "5        ALTER_HH  310267      578794  0.3490\n",
      "6             KKK  158064      730997  0.1778\n",
      "7        REGIOTYP  158064      730997  0.1778\n",
      "8  W_KEIT_KIND_HH  147988      741073  0.1665\n",
      "9     KBA05_ANTG1  133324      755737  0.1500\n"
     ]
    }
   ],
   "source": [
    "# add percent of missing values\n",
    "missing['pct_na'] = round(missing['cnt_na'] / missing['cnt_na'].max(), 4)\n",
    "print(missing.head(10))"
   ]
  },
  {
   "cell_type": "code",
   "execution_count": 18,
   "metadata": {},
   "outputs": [
    {
     "data": {
      "text/plain": [
       "<function matplotlib.pyplot.show(close=None, block=None)>"
      ]
     },
     "execution_count": 18,
     "metadata": {},
     "output_type": "execute_result"
    },
    {
     "data": {
      "image/png": "[encoded data removed]",
      "text/plain": [
       "<Figure size 576x288 with 1 Axes>"
      ]
     },
     "metadata": {},
     "output_type": "display_data"
    }
   ],
   "source": [
    "# Most of the features are missing between 0% and 25% of their values\n",
    "fig = plt.hist(missing['pct_na'], 10, density=1)\n",
    "plt.show"
   ]
  },
  {
   "cell_type": "code",
   "execution_count": 19,
   "metadata": {},
   "outputs": [],
   "source": [
    "# create subset of missing df with records missing 1% through 25% of values\n",
    "missing_25 = copy_df(missing)\n",
    "mask = ((missing_25['pct_na'] <= 0.25) & (missing_25['pct_na'] > 0))\n",
    "missing_25 = missing_25.loc[mask]"
   ]
  },
  {
   "cell_type": "code",
   "execution_count": 20,
   "metadata": {},
   "outputs": [
    {
     "data": {
      "text/plain": [
       "<function matplotlib.pyplot.show(close=None, block=None)>"
      ]
     },
     "execution_count": 20,
     "metadata": {},
     "output_type": "execute_result"
    },
    {
     "data": {
      "image/png": "[encoded data removed]",
      "text/plain": [
       "<Figure size 576x288 with 1 Axes>"
      ]
     },
     "metadata": {},
     "output_type": "display_data"
    }
   ],
   "source": [
    "# plot new subset\n",
    "histogram = plt.hist(missing_25['pct_na'], 10, density=1)\n",
    "plt.show"
   ]
  },
  {
   "cell_type": "markdown",
   "metadata": {},
   "source": [
    "> Remove the outlier columns from the dataset. (You'll perform other data engineering tasks such as re-encoding and imputation later.)"
   ]
  },
  {
   "cell_type": "code",
   "execution_count": 21,
   "metadata": {},
   "outputs": [
    {
     "name": "stdout",
     "output_type": "stream",
     "text": [
      "Index(['ALTERSKATEGORIE_GROB', 'ANREDE_KZ', 'CJT_GESAMTTYP',\n",
      "       'FINANZ_MINIMALIST', 'FINANZ_SPARER', 'FINANZ_VORSORGER',\n",
      "       'FINANZ_ANLEGER', 'FINANZ_UNAUFFAELLIGER', 'FINANZ_HAUSBAUER',\n",
      "       'FINANZTYP', 'GFK_URLAUBERTYP', 'GREEN_AVANTGARDE', 'HEALTH_TYP',\n",
      "       'LP_LEBENSPHASE_FEIN', 'LP_LEBENSPHASE_GROB', 'LP_FAMILIE_FEIN',\n",
      "       'LP_FAMILIE_GROB', 'LP_STATUS_FEIN', 'LP_STATUS_GROB',\n",
      "       'NATIONALITAET_KZ', 'PRAEGENDE_JUGENDJAHRE', 'RETOURTYP_BK_S',\n",
      "       'SEMIO_SOZ', 'SEMIO_FAM', 'SEMIO_REL', 'SEMIO_MAT', 'SEMIO_VERT',\n",
      "       'SEMIO_LUST', 'SEMIO_ERL', 'SEMIO_KULT', 'SEMIO_RAT', 'SEMIO_KRIT',\n",
      "       'SEMIO_DOM', 'SEMIO_KAEM', 'SEMIO_PFLICHT', 'SEMIO_TRADV',\n",
      "       'SHOPPER_TYP', 'SOHO_KZ', 'VERS_TYP', 'ZABEOTYP', 'ANZ_PERSONEN',\n",
      "       'ANZ_TITEL', 'HH_EINKOMMEN_SCORE', 'W_KEIT_KIND_HH', 'WOHNDAUER_2008',\n",
      "       'ANZ_HAUSHALTE_AKTIV', 'ANZ_HH_TITEL', 'GEBAEUDETYP', 'KONSUMNAEHE',\n",
      "       'MIN_GEBAEUDEJAHR', 'OST_WEST_KZ', 'WOHNLAGE', 'CAMEO_DEUG_2015',\n",
      "       'CAMEO_DEU_2015', 'CAMEO_INTL_2015', 'KBA05_ANTG1', 'KBA05_ANTG2',\n",
      "       'KBA05_ANTG3', 'KBA05_ANTG4', 'KBA05_GBZ', 'BALLRAUM', 'EWDICHTE',\n",
      "       'INNENSTADT', 'GEBAEUDETYP_RASTER', 'KKK', 'MOBI_REGIO',\n",
      "       'ONLINE_AFFINITAET', 'REGIOTYP', 'KBA13_ANZAHL_PKW', 'PLZ8_ANTG1',\n",
      "       'PLZ8_ANTG2', 'PLZ8_ANTG3', 'PLZ8_ANTG4', 'PLZ8_BAUMAX', 'PLZ8_HHZ',\n",
      "       'PLZ8_GBZ', 'ARBEIT', 'ORTSGR_KLS9', 'RELAT_AB'],\n",
      "      dtype='object')\n"
     ]
    }
   ],
   "source": [
    "# remove outliers from azdias df using outliers list created above\n",
    "azdias.drop(labels=outliers, axis=1, inplace=True)\n",
    "print(azdias.columns)"
   ]
  },
  {
   "cell_type": "markdown",
   "metadata": {},
   "source": [
    "#### Discussion 1.1.2: Assess Missing Data in Each Column\n",
    "\n",
    "While most features were missing between 0% and 25% of their data, there were a few notable outliers:\n",
    "\n",
    "|      Feature \t| Percent Missing \t|\n",
    "|-------------:\t|-----------------\t|\n",
    "|     TITEL_KZ \t|            100% \t|\n",
    "|     AGER_TYP \t|             77% \t|\n",
    "| KK_KUNDENTYP \t|             66% \t|\n",
    "| KBA05_BAUMAX \t|             54% \t|\n",
    "|  GEBURTSJAHR \t|             44% \t|\n",
    "|     ALTER_HH \t|             35% \t|"
   ]
  },
  {
   "cell_type": "code",
   "execution_count": 22,
   "metadata": {},
   "outputs": [
    {
     "data": {
      "text/html": [
       "<div>\n",
       "<style scoped>\n",
       "    .dataframe tbody tr th:only-of-type {\n",
       "        vertical-align: middle;\n",
       "    }\n",
       "\n",
       "    .dataframe tbody tr th {\n",
       "        vertical-align: top;\n",
       "    }\n",
       "\n",
       "    .dataframe thead th {\n",
       "        text-align: right;\n",
       "    }\n",
       "</style>\n",
       "<table border=\"1\" class=\"dataframe\">\n",
       "  <thead>\n",
       "    <tr style=\"text-align: right;\">\n",
       "      <th></th>\n",
       "      <th>feat</th>\n",
       "      <th>cnt_na</th>\n",
       "      <th>cnt_not_na</th>\n",
       "      <th>pct_na</th>\n",
       "    </tr>\n",
       "  </thead>\n",
       "  <tbody>\n",
       "    <tr>\n",
       "      <th>0</th>\n",
       "      <td>TITEL_KZ</td>\n",
       "      <td>889061</td>\n",
       "      <td>0</td>\n",
       "      <td>1.0000</td>\n",
       "    </tr>\n",
       "    <tr>\n",
       "      <th>1</th>\n",
       "      <td>AGER_TYP</td>\n",
       "      <td>685843</td>\n",
       "      <td>203218</td>\n",
       "      <td>0.7714</td>\n",
       "    </tr>\n",
       "    <tr>\n",
       "      <th>2</th>\n",
       "      <td>KK_KUNDENTYP</td>\n",
       "      <td>584612</td>\n",
       "      <td>304449</td>\n",
       "      <td>0.6576</td>\n",
       "    </tr>\n",
       "    <tr>\n",
       "      <th>3</th>\n",
       "      <td>KBA05_BAUMAX</td>\n",
       "      <td>476524</td>\n",
       "      <td>412537</td>\n",
       "      <td>0.5360</td>\n",
       "    </tr>\n",
       "    <tr>\n",
       "      <th>4</th>\n",
       "      <td>GEBURTSJAHR</td>\n",
       "      <td>392318</td>\n",
       "      <td>496743</td>\n",
       "      <td>0.4413</td>\n",
       "    </tr>\n",
       "    <tr>\n",
       "      <th>5</th>\n",
       "      <td>ALTER_HH</td>\n",
       "      <td>310267</td>\n",
       "      <td>578794</td>\n",
       "      <td>0.3490</td>\n",
       "    </tr>\n",
       "  </tbody>\n",
       "</table>\n",
       "</div>"
      ],
      "text/plain": [
       "           feat  cnt_na  cnt_not_na  pct_na\n",
       "0      TITEL_KZ  889061           0  1.0000\n",
       "1      AGER_TYP  685843      203218  0.7714\n",
       "2  KK_KUNDENTYP  584612      304449  0.6576\n",
       "3  KBA05_BAUMAX  476524      412537  0.5360\n",
       "4   GEBURTSJAHR  392318      496743  0.4413\n",
       "5      ALTER_HH  310267      578794  0.3490"
      ]
     },
     "execution_count": 22,
     "metadata": {},
     "output_type": "execute_result"
    }
   ],
   "source": [
    "# outliers dataframe\n",
    "missing[missing.feat.isin(outliers)]"
   ]
  },
  {
   "cell_type": "markdown",
   "metadata": {},
   "source": [
    "#### Step 1.1.3: Assess Missing Data in Each Row\n",
    "\n",
    "Now, you'll perform a similar assessment for the rows of the dataset. How much data is missing in each row? As with the columns, you should see some groups of points that have a very different numbers of missing values. Divide the data into two subsets: one for data points that are above some threshold for missing values, and a second subset for points below that threshold.\n",
    "\n",
    "In order to know what to do with the outlier rows, we should see if the distribution of data values on columns that are not missing data (or are missing very little data) are similar or different between the two groups. Select at least five of these columns and compare the distribution of values.\n",
    "- You can use seaborn's [`countplot()`](https://seaborn.pydata.org/generated/seaborn.countplot.html) function to create a bar chart of code frequencies and matplotlib's [`subplot()`](https://matplotlib.org/api/_as_gen/matplotlib.pyplot.subplot.html) function to put bar charts for the two subplots side by side.\n",
    "- To reduce repeated code, you might want to write a function that can perform this comparison, taking as one of its arguments a column to be compared.\n",
    "\n",
    "Depending on what you observe in your comparison, this will have implications on how you approach your conclusions later in the analysis. If the distributions of non-missing features look similar between the data with many missing values and the data with few or no missing values, then we could argue that simply dropping those points from the analysis won't present a major issue. On the other hand, if the data with many missing values looks very different from the data with few or no missing values, then we should make a note on those data as special. We'll revisit these data later on. **Either way, you should continue your analysis for now using just the subset of the data with few or no missing values.**"
   ]
  },
  {
   "cell_type": "markdown",
   "metadata": {},
   "source": [
    "#### How much data is missing in each row of the dataset?"
   ]
  },
  {
   "cell_type": "code",
   "execution_count": 23,
   "metadata": {},
   "outputs": [
    {
     "data": {
      "text/html": [
       "<div>\n",
       "<style scoped>\n",
       "    .dataframe tbody tr th:only-of-type {\n",
       "        vertical-align: middle;\n",
       "    }\n",
       "\n",
       "    .dataframe tbody tr th {\n",
       "        vertical-align: top;\n",
       "    }\n",
       "\n",
       "    .dataframe thead th {\n",
       "        text-align: right;\n",
       "    }\n",
       "</style>\n",
       "<table border=\"1\" class=\"dataframe\">\n",
       "  <thead>\n",
       "    <tr style=\"text-align: right;\">\n",
       "      <th></th>\n",
       "      <th>ALTERSKATEGORIE_GROB</th>\n",
       "      <th>ANREDE_KZ</th>\n",
       "      <th>CJT_GESAMTTYP</th>\n",
       "      <th>FINANZ_MINIMALIST</th>\n",
       "      <th>FINANZ_SPARER</th>\n",
       "      <th>FINANZ_VORSORGER</th>\n",
       "      <th>FINANZ_ANLEGER</th>\n",
       "      <th>FINANZ_UNAUFFAELLIGER</th>\n",
       "      <th>FINANZ_HAUSBAUER</th>\n",
       "      <th>FINANZTYP</th>\n",
       "      <th>...</th>\n",
       "      <th>PLZ8_ANTG3</th>\n",
       "      <th>PLZ8_ANTG4</th>\n",
       "      <th>PLZ8_BAUMAX</th>\n",
       "      <th>PLZ8_HHZ</th>\n",
       "      <th>PLZ8_GBZ</th>\n",
       "      <th>ARBEIT</th>\n",
       "      <th>ORTSGR_KLS9</th>\n",
       "      <th>RELAT_AB</th>\n",
       "      <th>cnt_na_rows</th>\n",
       "      <th>pct_na_rows</th>\n",
       "    </tr>\n",
       "  </thead>\n",
       "  <tbody>\n",
       "    <tr>\n",
       "      <th>0</th>\n",
       "      <td>2.0</td>\n",
       "      <td>1.0</td>\n",
       "      <td>2.0</td>\n",
       "      <td>3.0</td>\n",
       "      <td>4.0</td>\n",
       "      <td>3.0</td>\n",
       "      <td>5.0</td>\n",
       "      <td>5.0</td>\n",
       "      <td>3.0</td>\n",
       "      <td>4.0</td>\n",
       "      <td>...</td>\n",
       "      <td>NaN</td>\n",
       "      <td>NaN</td>\n",
       "      <td>NaN</td>\n",
       "      <td>NaN</td>\n",
       "      <td>NaN</td>\n",
       "      <td>NaN</td>\n",
       "      <td>NaN</td>\n",
       "      <td>NaN</td>\n",
       "      <td>43</td>\n",
       "      <td>0.5375</td>\n",
       "    </tr>\n",
       "    <tr>\n",
       "      <th>1</th>\n",
       "      <td>1.0</td>\n",
       "      <td>2.0</td>\n",
       "      <td>5.0</td>\n",
       "      <td>1.0</td>\n",
       "      <td>5.0</td>\n",
       "      <td>2.0</td>\n",
       "      <td>5.0</td>\n",
       "      <td>4.0</td>\n",
       "      <td>5.0</td>\n",
       "      <td>1.0</td>\n",
       "      <td>...</td>\n",
       "      <td>2.0</td>\n",
       "      <td>1.0</td>\n",
       "      <td>1.0</td>\n",
       "      <td>5.0</td>\n",
       "      <td>4.0</td>\n",
       "      <td>3.0</td>\n",
       "      <td>5.0</td>\n",
       "      <td>4.0</td>\n",
       "      <td>0</td>\n",
       "      <td>0.0000</td>\n",
       "    </tr>\n",
       "    <tr>\n",
       "      <th>2</th>\n",
       "      <td>3.0</td>\n",
       "      <td>2.0</td>\n",
       "      <td>3.0</td>\n",
       "      <td>1.0</td>\n",
       "      <td>4.0</td>\n",
       "      <td>1.0</td>\n",
       "      <td>2.0</td>\n",
       "      <td>3.0</td>\n",
       "      <td>5.0</td>\n",
       "      <td>1.0</td>\n",
       "      <td>...</td>\n",
       "      <td>1.0</td>\n",
       "      <td>0.0</td>\n",
       "      <td>1.0</td>\n",
       "      <td>4.0</td>\n",
       "      <td>4.0</td>\n",
       "      <td>3.0</td>\n",
       "      <td>5.0</td>\n",
       "      <td>2.0</td>\n",
       "      <td>0</td>\n",
       "      <td>0.0000</td>\n",
       "    </tr>\n",
       "    <tr>\n",
       "      <th>3</th>\n",
       "      <td>4.0</td>\n",
       "      <td>2.0</td>\n",
       "      <td>2.0</td>\n",
       "      <td>4.0</td>\n",
       "      <td>2.0</td>\n",
       "      <td>5.0</td>\n",
       "      <td>2.0</td>\n",
       "      <td>1.0</td>\n",
       "      <td>2.0</td>\n",
       "      <td>6.0</td>\n",
       "      <td>...</td>\n",
       "      <td>2.0</td>\n",
       "      <td>0.0</td>\n",
       "      <td>1.0</td>\n",
       "      <td>3.0</td>\n",
       "      <td>4.0</td>\n",
       "      <td>2.0</td>\n",
       "      <td>3.0</td>\n",
       "      <td>3.0</td>\n",
       "      <td>7</td>\n",
       "      <td>0.0875</td>\n",
       "    </tr>\n",
       "    <tr>\n",
       "      <th>4</th>\n",
       "      <td>3.0</td>\n",
       "      <td>1.0</td>\n",
       "      <td>5.0</td>\n",
       "      <td>4.0</td>\n",
       "      <td>3.0</td>\n",
       "      <td>4.0</td>\n",
       "      <td>1.0</td>\n",
       "      <td>3.0</td>\n",
       "      <td>2.0</td>\n",
       "      <td>5.0</td>\n",
       "      <td>...</td>\n",
       "      <td>2.0</td>\n",
       "      <td>1.0</td>\n",
       "      <td>2.0</td>\n",
       "      <td>3.0</td>\n",
       "      <td>3.0</td>\n",
       "      <td>4.0</td>\n",
       "      <td>6.0</td>\n",
       "      <td>5.0</td>\n",
       "      <td>0</td>\n",
       "      <td>0.0000</td>\n",
       "    </tr>\n",
       "  </tbody>\n",
       "</table>\n",
       "<p>5 rows × 81 columns</p>\n",
       "</div>"
      ],
      "text/plain": [
       "   ALTERSKATEGORIE_GROB  ANREDE_KZ  CJT_GESAMTTYP  FINANZ_MINIMALIST  \\\n",
       "0                   2.0        1.0            2.0                3.0   \n",
       "1                   1.0        2.0            5.0                1.0   \n",
       "2                   3.0        2.0            3.0                1.0   \n",
       "3                   4.0        2.0            2.0                4.0   \n",
       "4                   3.0        1.0            5.0                4.0   \n",
       "\n",
       "   FINANZ_SPARER  FINANZ_VORSORGER  FINANZ_ANLEGER  FINANZ_UNAUFFAELLIGER  \\\n",
       "0            4.0               3.0             5.0                    5.0   \n",
       "1            5.0               2.0             5.0                    4.0   \n",
       "2            4.0               1.0             2.0                    3.0   \n",
       "3            2.0               5.0             2.0                    1.0   \n",
       "4            3.0               4.0             1.0                    3.0   \n",
       "\n",
       "   FINANZ_HAUSBAUER  FINANZTYP  ...  PLZ8_ANTG3  PLZ8_ANTG4  PLZ8_BAUMAX  \\\n",
       "0               3.0        4.0  ...         NaN         NaN          NaN   \n",
       "1               5.0        1.0  ...         2.0         1.0          1.0   \n",
       "2               5.0        1.0  ...         1.0         0.0          1.0   \n",
       "3               2.0        6.0  ...         2.0         0.0          1.0   \n",
       "4               2.0        5.0  ...         2.0         1.0          2.0   \n",
       "\n",
       "   PLZ8_HHZ  PLZ8_GBZ  ARBEIT  ORTSGR_KLS9  RELAT_AB  cnt_na_rows  pct_na_rows  \n",
       "0       NaN       NaN     NaN          NaN       NaN           43       0.5375  \n",
       "1       5.0       4.0     3.0          5.0       4.0            0       0.0000  \n",
       "2       4.0       4.0     3.0          5.0       2.0            0       0.0000  \n",
       "3       3.0       4.0     2.0          3.0       3.0            7       0.0875  \n",
       "4       3.0       3.0     4.0          6.0       5.0            0       0.0000  \n",
       "\n",
       "[5 rows x 81 columns]"
      ]
     },
     "execution_count": 23,
     "metadata": {},
     "output_type": "execute_result"
    }
   ],
   "source": [
    "# add columns to azdias df with count of missing row values and percent missing\n",
    "azdias['cnt_na_rows'] = len(azdias.columns) - azdias.count(axis=1)\n",
    "azdias['pct_na_rows'] = azdias['cnt_na_rows'] / len(azdias.columns)\n",
    "azdias.head()"
   ]
  },
  {
   "cell_type": "code",
   "execution_count": 24,
   "metadata": {},
   "outputs": [
    {
     "data": {
      "text/plain": [
       "<function matplotlib.pyplot.show(close=None, block=None)>"
      ]
     },
     "execution_count": 24,
     "metadata": {},
     "output_type": "execute_result"
    },
    {
     "data": {
      "image/png": "[encoded data removed]",
      "text/plain": [
       "<Figure size 576x288 with 1 Axes>"
      ]
     },
     "metadata": {},
     "output_type": "display_data"
    }
   ],
   "source": [
    "# plot by count of missing values by row\n",
    "histogram = plt.hist(azdias['cnt_na_rows'], 10, density=1)\n",
    "plt.show"
   ]
  },
  {
   "cell_type": "markdown",
   "metadata": {},
   "source": [
    "The vast majority aren't missing any records, let's remove those to analyze the records that do have missing values."
   ]
  },
  {
   "cell_type": "code",
   "execution_count": 25,
   "metadata": {},
   "outputs": [
    {
     "name": "stdout",
     "output_type": "stream",
     "text": [
      "(268012, 81)\n"
     ]
    }
   ],
   "source": [
    "# remove records with no missing values\n",
    "na_rows = azdias.copy()\n",
    "na_rows = na_rows[na_rows['cnt_na_rows'] > 0]\n",
    "print(na_rows.shape)"
   ]
  },
  {
   "cell_type": "code",
   "execution_count": 26,
   "metadata": {},
   "outputs": [
    {
     "data": {
      "text/plain": [
       "<function matplotlib.pyplot.show(close=None, block=None)>"
      ]
     },
     "execution_count": 26,
     "metadata": {},
     "output_type": "execute_result"
    },
    {
     "data": {
      "image/png": "[encoded data removed]",
      "text/plain": [
       "<Figure size 576x288 with 1 Axes>"
      ]
     },
     "metadata": {},
     "output_type": "display_data"
    }
   ],
   "source": [
    "# plot new subset\n",
    "fig = plt.hist(na_rows['cnt_na_rows'], 10, density=1)\n",
    "plt.show"
   ]
  },
  {
   "cell_type": "markdown",
   "metadata": {},
   "source": [
    "> Write code to divide the data into two subsets based on the number of missing values in each row.\n",
    "\n",
    "There's a clear divide between records missing more than 25, and those missing less than 25"
   ]
  },
  {
   "cell_type": "code",
   "execution_count": 27,
   "metadata": {},
   "outputs": [],
   "source": [
    "# create two subsets\n",
    "na_rows_over = na_rows[na_rows['cnt_na_rows'] > 25].copy()\n",
    "na_rows_under = na_rows[na_rows['cnt_na_rows'] <= 25].copy()"
   ]
  },
  {
   "cell_type": "code",
   "execution_count": 28,
   "metadata": {},
   "outputs": [
    {
     "data": {
      "image/png": "[encoded data removed]",
      "text/plain": [
       "<Figure size 1296x432 with 2 Axes>"
      ]
     },
     "metadata": {},
     "output_type": "display_data"
    }
   ],
   "source": [
    "# plot both subsets\n",
    "fig, (ax_under, ax_over) = plt.subplots(1, 2, figsize=(18, 6))\n",
    "sns.countplot(data=na_rows_under, x='cnt_na_rows', ax=ax_under)\n",
    "sns.countplot(data=na_rows_over, x='cnt_na_rows', ax=ax_over)\n",
    "plt.tight_layout()"
   ]
  },
  {
   "cell_type": "markdown",
   "metadata": {},
   "source": [
    "> Compare the distribution of values for at least five columns where there are no or few missing values, between the two subsets."
   ]
  },
  {
   "cell_type": "code",
   "execution_count": 29,
   "metadata": {},
   "outputs": [
    {
     "data": {
      "image/png": "[encoded data removed]",
      "text/plain": [
       "<Figure size 864x288 with 2 Axes>"
      ]
     },
     "metadata": {},
     "output_type": "display_data"
    },
    {
     "data": {
      "image/png": "[encoded data removed]",
      "text/plain": [
       "<Figure size 864x288 with 2 Axes>"
      ]
     },
     "metadata": {},
     "output_type": "display_data"
    },
    {
     "data": {
      "image/png": "[encoded data removed]",
      "text/plain": [
       "<Figure size 864x288 with 2 Axes>"
      ]
     },
     "metadata": {},
     "output_type": "display_data"
    },
    {
     "data": {
      "image/png": "[encoded data removed]",
      "text/plain": [
       "<Figure size 864x288 with 2 Axes>"
      ]
     },
     "metadata": {},
     "output_type": "display_data"
    },
    {
     "data": {
      "image/png": "[encoded data removed]",
      "text/plain": [
       "<Figure size 864x288 with 2 Axes>"
      ]
     },
     "metadata": {},
     "output_type": "display_data"
    }
   ],
   "source": [
    "clean_cols = ['FINANZTYP', 'GREEN_AVANTGARDE', 'ANREDE_KZ', 'SEMIO_KAEM', 'ZABEOTYP']\n",
    "\n",
    "for col in clean_cols:\n",
    "    lim = (max(na_rows_under[col].value_counts().iloc[0], na_rows_over[col].value_counts().iloc[0])) * 1.1\n",
    "    lab = 'Count NA'\n",
    "    title_under = 'Under 25 Missing Values'\n",
    "    title_over = 'Over 25 Missing Values'\n",
    "    fig, (ax_under, ax_over) = plt.subplots(1, 2, figsize=(12, 4))\n",
    "\n",
    "    sns.countplot(data=na_rows_under, x=col, ax=ax_under, palette='Set2')\n",
    "    ax_under.set_ylabel(lab)\n",
    "    ax_under.set_ylim(top=lim)\n",
    "    ax_under.set_title(title_under)\n",
    "\n",
    "    sns.countplot(data=na_rows_over, x=col, ax=ax_over, palette='Set2')\n",
    "    ax_over.set_ylabel(lab)\n",
    "    ax_over.set_ylim(top=lim)\n",
    "    ax_over.set_title(title_over)\n",
    "    \n",
    "    plt.tight_layout()"
   ]
  },
  {
   "cell_type": "markdown",
   "metadata": {},
   "source": [
    "#### Discussion 1.1.3: Assess Missing Data in Each Row\n",
    "\n",
    "It looks like there is a pattern emerging for records with over 25 missing values. In three of the example features selected (FINANZTYP, SEMIO_KAEM, ZABEOTYP) the responses associated with missing feature values are evenly distributed. However, if we look at the chart for records with more than 25 missing feature values, in each example there is one response that stands out as a possible predictor for other missing feature values.\n",
    "\n",
    "We probably want to remove some portion of those records with a lot of missing feature values from the rest of our analysis."
   ]
  },
  {
   "cell_type": "code",
   "execution_count": 30,
   "metadata": {},
   "outputs": [
    {
     "name": "stdout",
     "output_type": "stream",
     "text": [
      "Percentage of azdias df with more than 25 missing feature values: 10.46%\n"
     ]
    }
   ],
   "source": [
    "# check percentage of df that has more than 25 missing values\n",
    "pct_over_25 = round((len(na_rows_over) / len(azdias))*100, 2)\n",
    "print(f'Percentage of azdias df with more than 25 missing feature values: {pct_over_25}%')"
   ]
  },
  {
   "cell_type": "code",
   "execution_count": 31,
   "metadata": {},
   "outputs": [
    {
     "name": "stdout",
     "output_type": "stream",
     "text": [
      "Index(['ALTERSKATEGORIE_GROB', 'ANREDE_KZ', 'CJT_GESAMTTYP',\n",
      "       'FINANZ_MINIMALIST', 'FINANZ_SPARER', 'FINANZ_VORSORGER',\n",
      "       'FINANZ_ANLEGER', 'FINANZ_UNAUFFAELLIGER', 'FINANZ_HAUSBAUER',\n",
      "       'FINANZTYP', 'GFK_URLAUBERTYP', 'GREEN_AVANTGARDE', 'HEALTH_TYP',\n",
      "       'LP_LEBENSPHASE_FEIN', 'LP_LEBENSPHASE_GROB', 'LP_FAMILIE_FEIN',\n",
      "       'LP_FAMILIE_GROB', 'LP_STATUS_FEIN', 'LP_STATUS_GROB',\n",
      "       'NATIONALITAET_KZ', 'PRAEGENDE_JUGENDJAHRE', 'RETOURTYP_BK_S',\n",
      "       'SEMIO_SOZ', 'SEMIO_FAM', 'SEMIO_REL', 'SEMIO_MAT', 'SEMIO_VERT',\n",
      "       'SEMIO_LUST', 'SEMIO_ERL', 'SEMIO_KULT', 'SEMIO_RAT', 'SEMIO_KRIT',\n",
      "       'SEMIO_DOM', 'SEMIO_KAEM', 'SEMIO_PFLICHT', 'SEMIO_TRADV',\n",
      "       'SHOPPER_TYP', 'SOHO_KZ', 'VERS_TYP', 'ZABEOTYP', 'ANZ_PERSONEN',\n",
      "       'ANZ_TITEL', 'HH_EINKOMMEN_SCORE', 'W_KEIT_KIND_HH', 'WOHNDAUER_2008',\n",
      "       'ANZ_HAUSHALTE_AKTIV', 'ANZ_HH_TITEL', 'GEBAEUDETYP', 'KONSUMNAEHE',\n",
      "       'MIN_GEBAEUDEJAHR', 'OST_WEST_KZ', 'WOHNLAGE', 'CAMEO_DEUG_2015',\n",
      "       'CAMEO_DEU_2015', 'CAMEO_INTL_2015', 'KBA05_ANTG1', 'KBA05_ANTG2',\n",
      "       'KBA05_ANTG3', 'KBA05_ANTG4', 'KBA05_GBZ', 'BALLRAUM', 'EWDICHTE',\n",
      "       'INNENSTADT', 'GEBAEUDETYP_RASTER', 'KKK', 'MOBI_REGIO',\n",
      "       'ONLINE_AFFINITAET', 'REGIOTYP', 'KBA13_ANZAHL_PKW', 'PLZ8_ANTG1',\n",
      "       'PLZ8_ANTG2', 'PLZ8_ANTG3', 'PLZ8_ANTG4', 'PLZ8_BAUMAX', 'PLZ8_HHZ',\n",
      "       'PLZ8_GBZ', 'ARBEIT', 'ORTSGR_KLS9', 'RELAT_AB'],\n",
      "      dtype='object')\n"
     ]
    }
   ],
   "source": [
    "# prep subset\n",
    "azdias_og = copy_df(azdias)\n",
    "azdias = copy_df(na_rows_over)\n",
    "azdias.drop(['cnt_na_rows', 'pct_na_rows'], inplace=True, axis=1)\n",
    "print(azdias.columns)"
   ]
  },
  {
   "cell_type": "markdown",
   "metadata": {},
   "source": [
    "### Step 1.2: Select and Re-Encode Features\n",
    "\n",
    "Checking for missing data isn't the only way in which you can prepare a dataset for analysis. Since the unsupervised learning techniques to be used will only work on data that is encoded numerically, you need to make a few encoding changes or additional assumptions to be able to make progress. In addition, while almost all of the values in the dataset are encoded using numbers, not all of them represent numeric values. Check the third column of the feature summary (`feat_info`) for a summary of types of measurement.\n",
    "- For numeric and interval data, these features can be kept without changes.\n",
    "- Most of the variables in the dataset are ordinal in nature. While ordinal values may technically be non-linear in spacing, make the simplifying assumption that the ordinal variables can be treated as being interval in nature (that is, kept without any changes).\n",
    "- Special handling may be necessary for the remaining two variable types: categorical, and 'mixed'.\n",
    "\n",
    "In the first two parts of this sub-step, you will perform an investigation of the categorical and mixed-type features and make a decision on each of them, whether you will keep, drop, or re-encode each. Then, in the last part, you will create a new data frame with only the selected and engineered columns.\n",
    "\n",
    "Data wrangling is often the trickiest part of the data analysis process, and there's a lot of it to be done here. But stick with it: once you're done with this step, you'll be ready to get to the machine learning parts of the project!"
   ]
  },
  {
   "cell_type": "markdown",
   "metadata": {},
   "source": [
    "> How many features are there of each data type?"
   ]
  },
  {
   "cell_type": "code",
   "execution_count": 32,
   "metadata": {},
   "outputs": [],
   "source": [
    "# first let's remove the outlier columns from feat_info\n",
    "feat_info = feat_info.set_index('attribute').drop(outliers).reset_index()"
   ]
  },
  {
   "cell_type": "code",
   "execution_count": 33,
   "metadata": {},
   "outputs": [
    {
     "data": {
      "text/plain": [
       "ordinal        49\n",
       "categorical    18\n",
       "mixed           6\n",
       "numeric         6\n",
       "Name: type, dtype: int64"
      ]
     },
     "execution_count": 33,
     "metadata": {},
     "output_type": "execute_result"
    }
   ],
   "source": [
    "# check current data types\n",
    "feat_info['type'].value_counts()"
   ]
  },
  {
   "cell_type": "markdown",
   "metadata": {},
   "source": [
    "#### Step 1.2.1: Re-Encode Categorical Features\n",
    "\n",
    "For categorical data, you would ordinarily need to encode the levels as dummy variables. Depending on the number of categories, perform one of the following:\n",
    "- For binary (two-level) categoricals that take numeric values, you can keep them without needing to do anything.\n",
    "- There is one binary variable that takes on non-numeric values. For this one, you need to re-encode the values as numbers or create a dummy variable.\n",
    "- For multi-level categoricals (three or more values), you can choose to encode the values using multiple dummy variables (e.g. via [OneHotEncoder](http://scikit-learn.org/stable/modules/generated/sklearn.preprocessing.OneHotEncoder.html)), or (to keep things straightforward) just drop them from the analysis. As always, document your choices in the Discussion section."
   ]
  },
  {
   "cell_type": "markdown",
   "metadata": {},
   "source": [
    "> Assess categorical variables: which are binary, which are multi-level, and which one needs to be re-encoded?"
   ]
  },
  {
   "cell_type": "code",
   "execution_count": 34,
   "metadata": {},
   "outputs": [],
   "source": [
    "def list_cols_by_type(input_type):\n",
    "    lst = feat_info[feat_info.type == input_type]\n",
    "    lst = lst['attribute'].unique()\n",
    "    print(f'\\nFeatures with data type {input_type}: \\n {lst}')\n",
    "    print()\n",
    "    return lst"
   ]
  },
  {
   "cell_type": "code",
   "execution_count": 35,
   "metadata": {},
   "outputs": [],
   "source": [
    "def unique_vals_by_col(data, col_list):\n",
    "    columns = sorted(col_list)\n",
    "    for col in columns:\n",
    "        vals = list(data[col].unique())\n",
    "        print(f'{col}: {vals}')"
   ]
  },
  {
   "cell_type": "code",
   "execution_count": 36,
   "metadata": {},
   "outputs": [
    {
     "name": "stdout",
     "output_type": "stream",
     "text": [
      "\n",
      "Features with data type categorical: \n",
      " ['ANREDE_KZ' 'CJT_GESAMTTYP' 'FINANZTYP' 'GFK_URLAUBERTYP'\n",
      " 'GREEN_AVANTGARDE' 'LP_FAMILIE_FEIN' 'LP_FAMILIE_GROB' 'LP_STATUS_FEIN'\n",
      " 'LP_STATUS_GROB' 'NATIONALITAET_KZ' 'SHOPPER_TYP' 'SOHO_KZ' 'VERS_TYP'\n",
      " 'ZABEOTYP' 'GEBAEUDETYP' 'OST_WEST_KZ' 'CAMEO_DEUG_2015' 'CAMEO_DEU_2015']\n",
      "\n"
     ]
    }
   ],
   "source": [
    "# get lists of categorical features\n",
    "categorical_cols = list_cols_by_type('categorical')"
   ]
  },
  {
   "cell_type": "code",
   "execution_count": 37,
   "metadata": {},
   "outputs": [
    {
     "name": "stdout",
     "output_type": "stream",
     "text": [
      "ANREDE_KZ: [1.0, 2.0]\n",
      "CAMEO_DEUG_2015: [nan, '4', '8', '3', '2', '5', '9', '6']\n",
      "CAMEO_DEU_2015: [nan, '4E', '8A', '3B', '2C', '2B', '3C', '4C', '5A', '9E', '3A', '4A', '3D', '2A', '8C', '6A']\n",
      "CJT_GESAMTTYP: [2.0, 6.0, 3.0, 4.0, 5.0, 1.0, nan]\n",
      "FINANZTYP: [4.0, 3.0, 1.0, 2.0, 6.0, 5.0]\n",
      "GEBAEUDETYP: [nan, 1.0, 2.0, 3.0, 6.0, 8.0, 4.0]\n",
      "GFK_URLAUBERTYP: [10.0, 5.0, 11.0, 7.0, 1.0, 9.0, 8.0, 12.0, nan, 2.0, 4.0, 6.0, 3.0]\n",
      "GREEN_AVANTGARDE: [0, 1]\n",
      "LP_FAMILIE_FEIN: [2.0, nan, 1.0, 10.0, 3.0, 9.0, 11.0, 8.0, 5.0, 6.0, 7.0, 4.0]\n",
      "LP_FAMILIE_GROB: [2.0, nan, 1.0, 5.0, 3.0, 4.0]\n",
      "LP_STATUS_FEIN: [1.0, 5.0, 4.0, 9.0, 2.0, 6.0, nan, 8.0, 10.0, 3.0, 7.0]\n",
      "LP_STATUS_GROB: [1.0, 2.0, 4.0, 3.0, nan, 5.0]\n",
      "NATIONALITAET_KZ: [nan, 1.0, 3.0, 2.0]\n",
      "OST_WEST_KZ: [nan, 'W', 'O']\n",
      "SHOPPER_TYP: [nan, 3.0, 1.0, 2.0, 0.0]\n",
      "SOHO_KZ: [nan, 0.0, 1.0]\n",
      "VERS_TYP: [nan, 2.0, 1.0]\n",
      "ZABEOTYP: [3.0, 4.0, 2.0, 1.0, 5.0, 6.0]\n"
     ]
    }
   ],
   "source": [
    "# take a look at the values for categorical features\n",
    "unique_vals_by_col(azdias, categorical_cols)"
   ]
  },
  {
   "cell_type": "markdown",
   "metadata": {},
   "source": [
    "**Binary categorical features**\n",
    "- ANREDE_KZ\n",
    "- GREEN_AVANTGARDE **\n",
    "- SOHO_KZ\n",
    "- VERS_TYP\n",
    "- OST_WEST_KZ **\n",
    "\n",
    "**Multi-level categorical features**\n",
    "- CJT_GESAMTTYP *\n",
    "- FINANZTYP *\n",
    "- GFK_URLAUBERTYP *\n",
    "- LP_FAMILIE_FEIN *\n",
    "- LP_FAMILIE_GROB *\n",
    "- LP_STATUS_FEIN *\n",
    "- LP_STATUS_GROB *\n",
    "- NATIONALITAET_KZ *\n",
    "- SHOPPER_TYP *\n",
    "- ZABEOTYP *\n",
    "- GEBAEUDETYP *\n",
    "- CAMEO_DEUG_2015 **\n",
    "- CAMEO_DEU_2015 **"
   ]
  },
  {
   "cell_type": "markdown",
   "metadata": {},
   "source": [
    "> Re-encode categorical variable(s) to be kept in the analysis."
   ]
  },
  {
   "cell_type": "code",
   "execution_count": 38,
   "metadata": {},
   "outputs": [
    {
     "name": "stdout",
     "output_type": "stream",
     "text": [
      "float64\n"
     ]
    }
   ],
   "source": [
    "# convert GREEN_AVANTGARDE to float\n",
    "azdias['GREEN_AVANTGARDE'] = azdias['GREEN_AVANTGARDE'].astype(float)\n",
    "print(azdias['GREEN_AVANTGARDE'].dtype)"
   ]
  },
  {
   "cell_type": "code",
   "execution_count": 39,
   "metadata": {},
   "outputs": [
    {
     "name": "stdout",
     "output_type": "stream",
     "text": [
      "Index(['ALTERSKATEGORIE_GROB', 'ANREDE_KZ', 'CJT_GESAMTTYP',\n",
      "       'FINANZ_MINIMALIST', 'FINANZ_SPARER', 'FINANZ_VORSORGER',\n",
      "       'FINANZ_ANLEGER', 'FINANZ_UNAUFFAELLIGER', 'FINANZ_HAUSBAUER',\n",
      "       'FINANZTYP', 'GFK_URLAUBERTYP', 'GREEN_AVANTGARDE', 'HEALTH_TYP',\n",
      "       'LP_LEBENSPHASE_FEIN', 'LP_LEBENSPHASE_GROB', 'LP_FAMILIE_FEIN',\n",
      "       'LP_FAMILIE_GROB', 'LP_STATUS_FEIN', 'LP_STATUS_GROB',\n",
      "       'NATIONALITAET_KZ', 'PRAEGENDE_JUGENDJAHRE', 'RETOURTYP_BK_S',\n",
      "       'SEMIO_SOZ', 'SEMIO_FAM', 'SEMIO_REL', 'SEMIO_MAT', 'SEMIO_VERT',\n",
      "       'SEMIO_LUST', 'SEMIO_ERL', 'SEMIO_KULT', 'SEMIO_RAT', 'SEMIO_KRIT',\n",
      "       'SEMIO_DOM', 'SEMIO_KAEM', 'SEMIO_PFLICHT', 'SEMIO_TRADV',\n",
      "       'SHOPPER_TYP', 'SOHO_KZ', 'VERS_TYP', 'ZABEOTYP', 'ANZ_PERSONEN',\n",
      "       'ANZ_TITEL', 'HH_EINKOMMEN_SCORE', 'W_KEIT_KIND_HH', 'WOHNDAUER_2008',\n",
      "       'ANZ_HAUSHALTE_AKTIV', 'ANZ_HH_TITEL', 'GEBAEUDETYP', 'KONSUMNAEHE',\n",
      "       'MIN_GEBAEUDEJAHR', 'OST_WEST_KZ', 'WOHNLAGE', 'CAMEO_INTL_2015',\n",
      "       'KBA05_ANTG1', 'KBA05_ANTG2', 'KBA05_ANTG3', 'KBA05_ANTG4', 'KBA05_GBZ',\n",
      "       'BALLRAUM', 'EWDICHTE', 'INNENSTADT', 'GEBAEUDETYP_RASTER', 'KKK',\n",
      "       'MOBI_REGIO', 'ONLINE_AFFINITAET', 'REGIOTYP', 'KBA13_ANZAHL_PKW',\n",
      "       'PLZ8_ANTG1', 'PLZ8_ANTG2', 'PLZ8_ANTG3', 'PLZ8_ANTG4', 'PLZ8_BAUMAX',\n",
      "       'PLZ8_HHZ', 'PLZ8_GBZ', 'ARBEIT', 'ORTSGR_KLS9', 'RELAT_AB'],\n",
      "      dtype='object')\n"
     ]
    }
   ],
   "source": [
    "# drop CAMEO_DEUG_2015 and CAMEO_DEU_2015\n",
    "azdias.drop(labels=['CAMEO_DEUG_2015','CAMEO_DEU_2015'], axis=1, inplace=True)\n",
    "print(azdias.columns)"
   ]
  },
  {
   "cell_type": "code",
   "execution_count": 40,
   "metadata": {},
   "outputs": [
    {
     "data": {
      "text/plain": [
       "1.0    95\n",
       "0.0    17\n",
       "Name: OST_WEST_KZ, dtype: int64"
      ]
     },
     "execution_count": 40,
     "metadata": {},
     "output_type": "execute_result"
    }
   ],
   "source": [
    "# map OST_WEST_KZ to numeric\n",
    "con = [\n",
    "    azdias['OST_WEST_KZ'] == 'O',\n",
    "    azdias['OST_WEST_KZ'] == 'W'\n",
    "]\n",
    "res = [\n",
    "    0.0,\n",
    "    1.0\n",
    "]\n",
    "\n",
    "azdias['OST_WEST_KZ'] = np.select(con, res, default=np.nan)\n",
    "azdias['OST_WEST_KZ'].value_counts()"
   ]
  },
  {
   "cell_type": "markdown",
   "metadata": {},
   "source": [
    "#### Discussion 1.2.1: Re-Encode Categorical Features\n",
    "\n",
    "There were two binary categorical features that need to be re-encoded. I'll re-encoded GREEN_AVANTGARDE as a float; this is probably not necessary, but it's a quick fix and could prevent future issues. Also, OST_WEST_KZ needed to be re-encoded as numeric.\n",
    "\n",
    "I dropped two of the multi-level categorical features (CAMEO_DEUG_2015, CAMEO_DEU_2015) for the sake of simplicity. The remaining multi-level categorical features were added to list of columns that will be one-hot-encoded in a later step."
   ]
  },
  {
   "cell_type": "markdown",
   "metadata": {},
   "source": [
    "#### Step 1.2.2: Engineer Mixed-Type Features\n",
    "\n",
    "There are a handful of features that are marked as \"mixed\" in the feature summary that require special treatment in order to be included in the analysis. There are two in particular that deserve attention; the handling of the rest are up to your own choices:\n",
    "- \"PRAEGENDE_JUGENDJAHRE\" combines information on three dimensions: generation by decade, movement (mainstream vs. avantgarde), and nation (east vs. west). While there aren't enough levels to disentangle east from west, you should create two new variables to capture the other two dimensions: an interval-type variable for decade, and a binary variable for movement.\n",
    "- \"CAMEO_INTL_2015\" combines information on two axes: wealth and life stage. Break up the two-digit codes by their 'tens'-place and 'ones'-place digits into two new ordinal variables (which, for the purposes of this project, is equivalent to just treating them as their raw numeric values).\n",
    "- If you decide to keep or engineer new features around the other mixed-type features, make sure you note your steps in the Discussion section.\n",
    "\n",
    "Be sure to check `Data_Dictionary.md` for the details needed to finish these tasks."
   ]
  },
  {
   "cell_type": "code",
   "execution_count": 41,
   "metadata": {},
   "outputs": [
    {
     "name": "stdout",
     "output_type": "stream",
     "text": [
      "\n",
      "Features with data type mixed: \n",
      " ['LP_LEBENSPHASE_FEIN' 'LP_LEBENSPHASE_GROB' 'PRAEGENDE_JUGENDJAHRE'\n",
      " 'WOHNLAGE' 'CAMEO_INTL_2015' 'PLZ8_BAUMAX']\n",
      "\n"
     ]
    }
   ],
   "source": [
    "# get lists of mixed features\n",
    "mixed_cols = list_cols_by_type('mixed')"
   ]
  },
  {
   "cell_type": "code",
   "execution_count": 42,
   "metadata": {},
   "outputs": [
    {
     "name": "stdout",
     "output_type": "stream",
     "text": [
      "CAMEO_INTL_2015: [nan, '25', '51', '23', '14', '13', '24', '31', '55', '22', '12', '54']\n",
      "LP_LEBENSPHASE_FEIN: [15.0, nan, 7.0, 19.0, 33.0, 22.0, 1.0, 37.0, 14.0, 6.0, 5.0, 11.0, 30.0, 4.0, 38.0, 29.0, 12.0, 28.0, 32.0, 31.0, 18.0, 24.0, 2.0, 9.0, 13.0, 3.0, 17.0, 27.0, 34.0, 8.0, 40.0, 25.0, 16.0, 21.0, 10.0, 35.0, 39.0, 20.0, 23.0, 26.0, 36.0]\n",
      "LP_LEBENSPHASE_GROB: [4.0, nan, 2.0, 5.0, 11.0, 6.0, 1.0, 12.0, 3.0, 9.0, 8.0, 10.0, 7.0]\n",
      "PLZ8_BAUMAX: [nan]\n",
      "PRAEGENDE_JUGENDJAHRE: [nan, 8.0, 14.0, 3.0, 5.0, 1.0, 10.0, 15.0, 11.0]\n",
      "WOHNLAGE: [nan, 0.0, 3.0, 5.0, 4.0, 2.0, 7.0, 1.0, 8.0]\n"
     ]
    }
   ],
   "source": [
    "# take a look at the values for mixed features\n",
    "unique_vals_by_col(azdias, mixed_cols)"
   ]
  },
  {
   "cell_type": "code",
   "execution_count": 43,
   "metadata": {},
   "outputs": [],
   "source": [
    "def eng_new_feats(data, col):\n",
    "    df = copy_df(data)\n",
    "\n",
    "    if col == 'PRAEGENDE_JUGENDJAHRE':\n",
    "        var1 = 'PRAEGENDE_JUGENDJAHRE_DECADE'\n",
    "        var2 = 'PRAEGENDE_JUGENDJAHRE_MOVEMENT'\n",
    "\n",
    "        con1 = [\n",
    "            df[col] <= 2,\n",
    "            df[col] <= 4,\n",
    "            df[col] <= 7,\n",
    "            df[col] <= 9,\n",
    "            df[col] <= 13,\n",
    "            df[col] <= 15\n",
    "        ]\n",
    "        res1 = [\n",
    "            40.0, 50.0, 60.0, 70.0, 80.0, 90.0\n",
    "        ]\n",
    "\n",
    "        con2 = [\n",
    "            df[col].isin([1,3,5,8,10,12,14]),\n",
    "            df[col].isin([2,4,6,7,9,11,13,15])\n",
    "        ]\n",
    "        res2 = [\n",
    "            0.0, 1.0\n",
    "        ]\n",
    "\n",
    "    elif col == 'CAMEO_INTL_2015':\n",
    "        var1 = 'CAMEO_INTL_2015_WEALTH'\n",
    "        var2 = 'CAMEO_INTL_2015_LIFESTAGE'\n",
    "\n",
    "        df[col] = df[col].astype(float)\n",
    "\n",
    "        con1 = [\n",
    "            df[col] < 20,\n",
    "            df[col] < 30,\n",
    "            df[col] < 40,\n",
    "            df[col] < 50,\n",
    "            df[col] < 60\n",
    "        ]\n",
    "        res1 = [\n",
    "            10.0, 20.0, 30.0, 40.0, 50.0\n",
    "        ]\n",
    "\n",
    "        con2 = [\n",
    "            df[col].isin([11,21,31,41,51]),\n",
    "            df[col].isin([12,22,32,42,52]),\n",
    "            df[col].isin([13,23,33,43,53]),\n",
    "            df[col].isin([14,24,34,44,54]),\n",
    "            df[col].isin([15,25,35,45,55])\n",
    "        ]\n",
    "        res2 = [\n",
    "            1.0, 2.0, 3.0, 4.0, 5.0\n",
    "        ]\n",
    "\n",
    "    else:\n",
    "        print(f'Logic for {col} not defined...')\n",
    "        return df\n",
    "\n",
    "    df[var1] = np.select(con1, res1, default=np.nan)\n",
    "    df[var2] = np.select(con2, res2, default=np.nan)\n",
    "\n",
    "    print(f'New variables for {col} have been created: {var1}, {var2}')\n",
    "\n",
    "    return df"
   ]
  },
  {
   "cell_type": "markdown",
   "metadata": {},
   "source": [
    "##### Investigate \"PRAEGENDE_JUGENDJAHRE\" and engineer two new variables."
   ]
  },
  {
   "cell_type": "code",
   "execution_count": 44,
   "metadata": {},
   "outputs": [
    {
     "data": {
      "text/plain": [
       "14.0    5729\n",
       "8.0     4376\n",
       "5.0     1729\n",
       "3.0     1354\n",
       "1.0      604\n",
       "10.0       8\n",
       "15.0       4\n",
       "11.0       1\n",
       "Name: PRAEGENDE_JUGENDJAHRE, dtype: int64"
      ]
     },
     "execution_count": 44,
     "metadata": {},
     "output_type": "execute_result"
    }
   ],
   "source": [
    "# check counts before creating new variables\n",
    "azdias['PRAEGENDE_JUGENDJAHRE'].value_counts()"
   ]
  },
  {
   "cell_type": "code",
   "execution_count": 45,
   "metadata": {},
   "outputs": [
    {
     "name": "stdout",
     "output_type": "stream",
     "text": [
      "New variables for PRAEGENDE_JUGENDJAHRE have been created: PRAEGENDE_JUGENDJAHRE_DECADE, PRAEGENDE_JUGENDJAHRE_MOVEMENT\n"
     ]
    }
   ],
   "source": [
    "# create new variables\n",
    "azdias = eng_new_feats(azdias, 'PRAEGENDE_JUGENDJAHRE')"
   ]
  },
  {
   "cell_type": "code",
   "execution_count": 46,
   "metadata": {},
   "outputs": [
    {
     "name": "stdout",
     "output_type": "stream",
     "text": [
      "90.0    5733\n",
      "70.0    4376\n",
      "60.0    1729\n",
      "50.0    1354\n",
      "40.0     604\n",
      "80.0       9\n",
      "Name: PRAEGENDE_JUGENDJAHRE_DECADE, dtype: int64 \n",
      "\n",
      "0.0    13800\n",
      "1.0        5\n",
      "Name: PRAEGENDE_JUGENDJAHRE_MOVEMENT, dtype: int64\n"
     ]
    }
   ],
   "source": [
    "# check counts after creating new variables\n",
    "print(azdias['PRAEGENDE_JUGENDJAHRE_DECADE'].value_counts(), '\\n')\n",
    "print(azdias['PRAEGENDE_JUGENDJAHRE_MOVEMENT'].value_counts())"
   ]
  },
  {
   "cell_type": "markdown",
   "metadata": {},
   "source": [
    "##### Investigate \"CAMEO_INTL_2015\" and engineer two new variables."
   ]
  },
  {
   "cell_type": "code",
   "execution_count": 47,
   "metadata": {},
   "outputs": [
    {
     "data": {
      "text/plain": [
       "24    6\n",
       "25    4\n",
       "23    4\n",
       "31    4\n",
       "22    3\n",
       "14    2\n",
       "13    2\n",
       "51    1\n",
       "55    1\n",
       "12    1\n",
       "54    1\n",
       "Name: CAMEO_INTL_2015, dtype: int64"
      ]
     },
     "execution_count": 47,
     "metadata": {},
     "output_type": "execute_result"
    }
   ],
   "source": [
    "# check counts before creating new variables\n",
    "azdias['CAMEO_INTL_2015'].value_counts()"
   ]
  },
  {
   "cell_type": "code",
   "execution_count": 48,
   "metadata": {},
   "outputs": [
    {
     "name": "stdout",
     "output_type": "stream",
     "text": [
      "New variables for CAMEO_INTL_2015 have been created: CAMEO_INTL_2015_WEALTH, CAMEO_INTL_2015_LIFESTAGE\n"
     ]
    }
   ],
   "source": [
    "# create new variables\n",
    "azdias = eng_new_feats(azdias, 'CAMEO_INTL_2015')"
   ]
  },
  {
   "cell_type": "code",
   "execution_count": 49,
   "metadata": {},
   "outputs": [
    {
     "name": "stdout",
     "output_type": "stream",
     "text": [
      "20.0    17\n",
      "10.0     5\n",
      "30.0     4\n",
      "50.0     3\n",
      "Name: CAMEO_INTL_2015_WEALTH, dtype: int64 \n",
      "\n",
      "4.0    9\n",
      "3.0    6\n",
      "5.0    5\n",
      "1.0    5\n",
      "2.0    4\n",
      "Name: CAMEO_INTL_2015_LIFESTAGE, dtype: int64\n"
     ]
    }
   ],
   "source": [
    "# check counts after creating new variables\n",
    "print(azdias['CAMEO_INTL_2015_WEALTH'].value_counts(), '\\n')\n",
    "print(azdias['CAMEO_INTL_2015_LIFESTAGE'].value_counts())"
   ]
  },
  {
   "cell_type": "code",
   "execution_count": 50,
   "metadata": {},
   "outputs": [],
   "source": [
    "# drop original mixed type features\n",
    "azdias.drop(labels=mixed_cols, axis=1, inplace=True)"
   ]
  },
  {
   "cell_type": "markdown",
   "metadata": {},
   "source": [
    "#### Discussion 1.2.2: Engineer Mixed-Type Features\n",
    "\n",
    "I employed the np.select method above to create four new features:\n",
    "- PRAEGENDE_JUGENDJAHRE_DECADE\n",
    "- PRAEGENDE_JUGENDJAHRE_MOVEMENT\n",
    "- CAMEO_INTL_2015_WEALTH\n",
    "- CAMEO_INTL_2015_LIFESTAGE\n",
    "\n",
    "I also dropped the mixed type features from our working dataset"
   ]
  },
  {
   "cell_type": "markdown",
   "metadata": {},
   "source": [
    "#### Step 1.2.3: Complete Feature Selection\n",
    "\n",
    "In order to finish this step up, you need to make sure that your data frame now only has the columns that you want to keep. To summarize, the dataframe should consist of the following:\n",
    "- All numeric, interval, and ordinal type columns from the original dataset.\n",
    "- Binary categorical features (all numerically-encoded).\n",
    "- Engineered features from other multi-level categorical features and mixed features.\n",
    "\n",
    "Make sure that for any new columns that you have engineered, that you've excluded the original columns from the final dataset. Otherwise, their values will interfere with the analysis later on the project. For example, you should not keep \"PRAEGENDE_JUGENDJAHRE\", since its values won't be useful for the algorithm: only the values derived from it in the engineered features you created should be retained. As a reminder, your data should only be from **the subset with few or no missing values**."
   ]
  },
  {
   "cell_type": "markdown",
   "metadata": {},
   "source": [
    "> If there are other re-engineering tasks you need to perform, make sure you take care of them here. (Dealing with missing data will come in step 2.1.)"
   ]
  },
  {
   "cell_type": "code",
   "execution_count": 51,
   "metadata": {},
   "outputs": [
    {
     "name": "stdout",
     "output_type": "stream",
     "text": [
      "\n",
      "Features with data type ordinal: \n",
      " ['ALTERSKATEGORIE_GROB' 'FINANZ_MINIMALIST' 'FINANZ_SPARER'\n",
      " 'FINANZ_VORSORGER' 'FINANZ_ANLEGER' 'FINANZ_UNAUFFAELLIGER'\n",
      " 'FINANZ_HAUSBAUER' 'HEALTH_TYP' 'RETOURTYP_BK_S' 'SEMIO_SOZ' 'SEMIO_FAM'\n",
      " 'SEMIO_REL' 'SEMIO_MAT' 'SEMIO_VERT' 'SEMIO_LUST' 'SEMIO_ERL'\n",
      " 'SEMIO_KULT' 'SEMIO_RAT' 'SEMIO_KRIT' 'SEMIO_DOM' 'SEMIO_KAEM'\n",
      " 'SEMIO_PFLICHT' 'SEMIO_TRADV' 'HH_EINKOMMEN_SCORE' 'W_KEIT_KIND_HH'\n",
      " 'WOHNDAUER_2008' 'KONSUMNAEHE' 'KBA05_ANTG1' 'KBA05_ANTG2' 'KBA05_ANTG3'\n",
      " 'KBA05_ANTG4' 'KBA05_GBZ' 'BALLRAUM' 'EWDICHTE' 'INNENSTADT'\n",
      " 'GEBAEUDETYP_RASTER' 'KKK' 'MOBI_REGIO' 'ONLINE_AFFINITAET' 'REGIOTYP'\n",
      " 'PLZ8_ANTG1' 'PLZ8_ANTG2' 'PLZ8_ANTG3' 'PLZ8_ANTG4' 'PLZ8_HHZ' 'PLZ8_GBZ'\n",
      " 'ARBEIT' 'ORTSGR_KLS9' 'RELAT_AB']\n",
      "\n",
      "ALTERSKATEGORIE_GROB: [2.0, 3.0, nan, 1.0, 4.0]\n",
      "ARBEIT: [nan, 4.0, 2.0, 3.0, 1.0, 5.0]\n",
      "BALLRAUM: [nan, 6.0, 2.0, 5.0, 3.0, 1.0, 4.0, 7.0]\n",
      "EWDICHTE: [nan, 5.0, 3.0, 6.0, 4.0, 2.0, 1.0]\n",
      "FINANZ_ANLEGER: [5.0, 4.0, 2.0, 3.0, 1.0]\n",
      "FINANZ_HAUSBAUER: [3.0, 1.0, 4.0, 2.0, 5.0]\n",
      "FINANZ_MINIMALIST: [3.0, 4.0, 2.0, 5.0, 1.0]\n",
      "FINANZ_SPARER: [4.0, 3.0, 5.0, 2.0, 1.0]\n",
      "FINANZ_UNAUFFAELLIGER: [5.0, 4.0, 3.0, 1.0, 2.0]\n",
      "FINANZ_VORSORGER: [3.0, 4.0, 2.0, 5.0, 1.0]\n",
      "GEBAEUDETYP_RASTER: [nan, 3.0, 5.0, 4.0, 2.0, 1.0]\n",
      "HEALTH_TYP: [nan, 2.0, 3.0, 1.0]\n",
      "HH_EINKOMMEN_SCORE: [2.0, nan, 4.0, 3.0, 5.0, 1.0]\n",
      "INNENSTADT: [nan, 5.0, 7.0, 6.0, 8.0, 3.0, 4.0, 2.0, 1.0]\n",
      "KBA05_ANTG1: [nan]\n",
      "KBA05_ANTG2: [nan]\n",
      "KBA05_ANTG3: [nan]\n",
      "KBA05_ANTG4: [nan]\n",
      "KBA05_GBZ: [nan]\n",
      "KKK: [nan, 3.0, 2.0, 4.0, 1.0]\n",
      "KONSUMNAEHE: [nan, 5.0, 4.0, 1.0, 2.0, 3.0, 6.0, 7.0]\n",
      "MOBI_REGIO: [nan]\n",
      "ONLINE_AFFINITAET: [1.0, 2.0, 4.0, 0.0, 5.0, 3.0, nan]\n",
      "ORTSGR_KLS9: [nan, 6.0, 5.0, 3.0, 2.0, 4.0, 8.0, 1.0, 7.0, 9.0]\n",
      "PLZ8_ANTG1: [nan]\n",
      "PLZ8_ANTG2: [nan]\n",
      "PLZ8_ANTG3: [nan]\n",
      "PLZ8_ANTG4: [nan]\n",
      "PLZ8_GBZ: [nan]\n",
      "PLZ8_HHZ: [nan]\n",
      "REGIOTYP: [nan, 6.0, 3.0, 5.0, 4.0, 2.0, 7.0]\n",
      "RELAT_AB: [nan, 3.0, 4.0, 1.0, 5.0, 2.0]\n",
      "RETOURTYP_BK_S: [5.0, 3.0, 2.0, 1.0, nan, 4.0]\n",
      "SEMIO_DOM: [6.0, 2.0, 3.0, 4.0, 5.0, 7.0, 1.0]\n",
      "SEMIO_ERL: [3.0, 6.0, 7.0, 4.0, 1.0, 5.0, 2.0]\n",
      "SEMIO_FAM: [6.0, 1.0, 4.0, 7.0, 5.0, 3.0]\n",
      "SEMIO_KAEM: [6.0, 7.0, 3.0, 4.0, 2.0, 5.0, 1.0]\n",
      "SEMIO_KRIT: [7.0, 5.0, 1.0, 3.0, 4.0]\n",
      "SEMIO_KULT: [3.0, 1.0, 5.0, 7.0, 2.0, 4.0]\n",
      "SEMIO_LUST: [5.0, 1.0, 2.0, 4.0, 7.0]\n",
      "SEMIO_MAT: [5.0, 2.0, 4.0, 6.0, 7.0, 1.0]\n",
      "SEMIO_PFLICHT: [5.0, 4.0, 3.0]\n",
      "SEMIO_RAT: [4.0, 6.0, 5.0, 1.0, 7.0, 2.0]\n",
      "SEMIO_REL: [7.0, 1.0, 5.0, 4.0, 2.0, 6.0]\n",
      "SEMIO_SOZ: [2.0, 3.0, 7.0, 4.0]\n",
      "SEMIO_TRADV: [3.0, 1.0, 6.0, 4.0, 5.0, 7.0, 2.0]\n",
      "SEMIO_VERT: [1.0, 4.0, 7.0, 2.0]\n",
      "WOHNDAUER_2008: [nan, 9.0, 3.0, 8.0, 5.0, 4.0, 6.0, 7.0, 2.0, 1.0]\n",
      "W_KEIT_KIND_HH: [nan, 3.0, 2.0, 1.0, 6.0, 4.0, 5.0]\n"
     ]
    }
   ],
   "source": [
    "# check ordinal columns\n",
    "ordinal_cols = list_cols_by_type('ordinal')\n",
    "unique_vals_by_col(azdias, ordinal_cols)"
   ]
  },
  {
   "cell_type": "code",
   "execution_count": 52,
   "metadata": {},
   "outputs": [
    {
     "name": "stdout",
     "output_type": "stream",
     "text": [
      "\n",
      "Features with data type numeric: \n",
      " ['ANZ_PERSONEN' 'ANZ_TITEL' 'ANZ_HAUSHALTE_AKTIV' 'ANZ_HH_TITEL'\n",
      " 'MIN_GEBAEUDEJAHR' 'KBA13_ANZAHL_PKW']\n",
      "\n",
      "ANZ_HAUSHALTE_AKTIV: [nan, 1.0, 30.0, 3.0, 5.0, 6.0, 2.0, 13.0, 23.0, 9.0, 7.0, 10.0, 4.0, 56.0, 8.0, 11.0]\n",
      "ANZ_HH_TITEL: [nan, 0.0, 1.0]\n",
      "ANZ_PERSONEN: [nan, 1.0, 2.0, 7.0, 3.0, 4.0, 5.0, 0.0, 6.0, 10.0, 9.0, 8.0, 29.0]\n",
      "ANZ_TITEL: [nan, 0.0, 1.0, 2.0]\n",
      "KBA13_ANZAHL_PKW: [nan, 739.0, 1231.0, 480.0, 85.0, 707.0, 553.0, 786.0, 791.0, 539.0]\n",
      "MIN_GEBAEUDEJAHR: [nan, 2014.0, 2011.0, 2012.0, 2015.0, 1999.0, 2013.0, 2002.0, 2016.0, 2004.0, 2005.0, 1994.0, 2009.0, 1997.0, 2006.0, 2008.0, 2010.0, 2000.0, 2001.0, 2007.0]\n"
     ]
    }
   ],
   "source": [
    "# check numeric columns\n",
    "numeric_cols = list_cols_by_type('numeric')\n",
    "unique_vals_by_col(azdias, numeric_cols)"
   ]
  },
  {
   "cell_type": "markdown",
   "metadata": {},
   "source": [
    "A few of the numeric columns are a bit broad. I'll create groups to clean them up."
   ]
  },
  {
   "cell_type": "code",
   "execution_count": 53,
   "metadata": {},
   "outputs": [],
   "source": [
    "def grp_num_cols(data, col):\n",
    "    df = copy_df(data)\n",
    "    \n",
    "    if col == 'ANZ_PERSONEN':\n",
    "        con = [\n",
    "            df[col] >= 10.0,\n",
    "            df[col] >= 5.0,\n",
    "            df[col] == 0.0,\n",
    "            df[col] == 1.0,\n",
    "            df[col] == 2.0,\n",
    "            df[col] == 3.0,\n",
    "            df[col] == 4.0\n",
    "        ]\n",
    "        res = [\n",
    "            10.0, 5.0, 0.0, 1.0, 2.0, 3.0, 4.0\n",
    "        ]\n",
    "\n",
    "    elif col == 'ANZ_TITEL':\n",
    "        con = [\n",
    "            df[col] >= 10.0,\n",
    "            df[col] >= 5.0,\n",
    "            df[col] == 0.0,\n",
    "            df[col] == 1.0,\n",
    "            df[col] == 2.0,\n",
    "            df[col] == 3.0,\n",
    "            df[col] == 4.0\n",
    "        ]\n",
    "        res = [\n",
    "            10.0, 5.0, 0.0, 1.0, 2.0, 3.0, 4.0\n",
    "        ]\n",
    "\n",
    "    elif col == 'ANZ_HAUSHALTE_AKTIV':\n",
    "        con = [\n",
    "            df[col] >= 20.0,\n",
    "            df[col] >= 15.0,\n",
    "            df[col] >= 10.0,\n",
    "            df[col] >= 5.0,\n",
    "            df[col] >= 1.0,\n",
    "            df[col] == 0.0,\n",
    "        ]\n",
    "        res = [\n",
    "            20.0, 15.0, 10.0, 5.0, 1.0, 0.0\n",
    "        ]\n",
    "\n",
    "    elif col == 'ANZ_HH_TITEL':\n",
    "        con = [\n",
    "            df[col] == 0.0,\n",
    "            df[col] == 1.0,\n",
    "            df[col] >= 2.0\n",
    "        ]\n",
    "        res = [\n",
    "            0.0, 1.0, 2.0\n",
    "        ]\n",
    "\n",
    "    elif col == 'MIN_GEBAEUDEJAHR':\n",
    "        con = [\n",
    "            df[col] >= 2015.0,\n",
    "            df[col] >= 2010.0,\n",
    "            df[col] >= 2005.0,\n",
    "            df[col] >= 2000.0,\n",
    "            df[col] == 0.0,\n",
    "            df[col] <= 1999.0\n",
    "        ]\n",
    "        res = [\n",
    "            2015.0, 2010.0, 2005.0, 2000.0, 0.0, 1999.0\n",
    "        ]\n",
    "\n",
    "    elif col == 'KBA13_ANZAHL_PKW':\n",
    "        con = [\n",
    "            df[col] >= 1000.0,\n",
    "            df[col] >= 900.0,\n",
    "            df[col] >= 800.0,\n",
    "            df[col] >= 700.0,\n",
    "            df[col] >= 600.0,\n",
    "            df[col] >= 500.0,\n",
    "            df[col] >= 400.0,\n",
    "            df[col] >= 300.0,\n",
    "            df[col] >= 200.0,\n",
    "            df[col] >= 100.0,\n",
    "            df[col] >= 1.0\n",
    "        ]\n",
    "        res = [\n",
    "            1000.0, 900.0, 800.0, 700.0, 600.0, 500.0, \n",
    "            400.0, 300.0, 200.0, 100.0, 1.0\n",
    "        ]\n",
    "\n",
    "    else:\n",
    "        print(f'Logic for {col} not defined...')\n",
    "        return df\n",
    "\n",
    "    df[col] = np.select(con, res, default=np.nan)\n",
    "    print(f'Values for {col} have been grouped...')\n",
    "\n",
    "    return df"
   ]
  },
  {
   "cell_type": "code",
   "execution_count": 54,
   "metadata": {},
   "outputs": [
    {
     "name": "stdout",
     "output_type": "stream",
     "text": [
      "Values for ANZ_PERSONEN have been grouped...\n",
      "Values for ANZ_TITEL have been grouped...\n",
      "Values for ANZ_HAUSHALTE_AKTIV have been grouped...\n",
      "Values for ANZ_HH_TITEL have been grouped...\n",
      "Values for MIN_GEBAEUDEJAHR have been grouped...\n",
      "Values for KBA13_ANZAHL_PKW have been grouped...\n"
     ]
    }
   ],
   "source": [
    "# group numeric columns\n",
    "cols = [\n",
    "    'ANZ_PERSONEN', 'ANZ_TITEL', 'ANZ_HAUSHALTE_AKTIV', \n",
    "    'ANZ_HH_TITEL', 'MIN_GEBAEUDEJAHR', 'KBA13_ANZAHL_PKW'\n",
    "]\n",
    "\n",
    "for c in cols:\n",
    "    azdias = grp_num_cols(azdias, c)"
   ]
  },
  {
   "cell_type": "code",
   "execution_count": 55,
   "metadata": {},
   "outputs": [
    {
     "name": "stdout",
     "output_type": "stream",
     "text": [
      "ALTERSKATEGORIE_GROB: [2.0, 3.0, nan, 1.0, 4.0]\n",
      "ANREDE_KZ: [1.0, 2.0]\n",
      "ANZ_HAUSHALTE_AKTIV: [nan, 1.0, 20.0, 5.0, 10.0]\n",
      "ANZ_HH_TITEL: [nan, 0.0, 1.0]\n",
      "ANZ_PERSONEN: [nan, 1.0, 2.0, 5.0, 3.0, 4.0, 0.0, 10.0]\n",
      "ANZ_TITEL: [nan, 0.0, 1.0, 2.0]\n",
      "ARBEIT: [nan, 4.0, 2.0, 3.0, 1.0, 5.0]\n",
      "BALLRAUM: [nan, 6.0, 2.0, 5.0, 3.0, 1.0, 4.0, 7.0]\n",
      "CAMEO_INTL_2015_LIFESTAGE: [nan, 5.0, 1.0, 3.0, 4.0, 2.0]\n",
      "CAMEO_INTL_2015_WEALTH: [nan, 20.0, 50.0, 10.0, 30.0]\n",
      "CJT_GESAMTTYP: [2.0, 6.0, 3.0, 4.0, 5.0, 1.0, nan]\n",
      "EWDICHTE: [nan, 5.0, 3.0, 6.0, 4.0, 2.0, 1.0]\n",
      "FINANZTYP: [4.0, 3.0, 1.0, 2.0, 6.0, 5.0]\n",
      "FINANZ_ANLEGER: [5.0, 4.0, 2.0, 3.0, 1.0]\n",
      "FINANZ_HAUSBAUER: [3.0, 1.0, 4.0, 2.0, 5.0]\n",
      "FINANZ_MINIMALIST: [3.0, 4.0, 2.0, 5.0, 1.0]\n",
      "FINANZ_SPARER: [4.0, 3.0, 5.0, 2.0, 1.0]\n",
      "FINANZ_UNAUFFAELLIGER: [5.0, 4.0, 3.0, 1.0, 2.0]\n",
      "FINANZ_VORSORGER: [3.0, 4.0, 2.0, 5.0, 1.0]\n",
      "GEBAEUDETYP: [nan, 1.0, 2.0, 3.0, 6.0, 8.0, 4.0]\n",
      "GEBAEUDETYP_RASTER: [nan, 3.0, 5.0, 4.0, 2.0, 1.0]\n",
      "GFK_URLAUBERTYP: [10.0, 5.0, 11.0, 7.0, 1.0, 9.0, 8.0, 12.0, nan, 2.0, 4.0, 6.0, 3.0]\n",
      "GREEN_AVANTGARDE: [0.0, 1.0]\n",
      "HEALTH_TYP: [nan, 2.0, 3.0, 1.0]\n",
      "HH_EINKOMMEN_SCORE: [2.0, nan, 4.0, 3.0, 5.0, 1.0]\n",
      "INNENSTADT: [nan, 5.0, 7.0, 6.0, 8.0, 3.0, 4.0, 2.0, 1.0]\n",
      "KBA05_ANTG1: [nan]\n",
      "KBA05_ANTG2: [nan]\n",
      "KBA05_ANTG3: [nan]\n",
      "KBA05_ANTG4: [nan]\n",
      "KBA05_GBZ: [nan]\n",
      "KBA13_ANZAHL_PKW: [nan, 700.0, 1000.0, 400.0, 1.0, 500.0]\n",
      "KKK: [nan, 3.0, 2.0, 4.0, 1.0]\n",
      "KONSUMNAEHE: [nan, 5.0, 4.0, 1.0, 2.0, 3.0, 6.0, 7.0]\n",
      "LP_FAMILIE_FEIN: [2.0, nan, 1.0, 10.0, 3.0, 9.0, 11.0, 8.0, 5.0, 6.0, 7.0, 4.0]\n",
      "LP_FAMILIE_GROB: [2.0, nan, 1.0, 5.0, 3.0, 4.0]\n",
      "LP_STATUS_FEIN: [1.0, 5.0, 4.0, 9.0, 2.0, 6.0, nan, 8.0, 10.0, 3.0, 7.0]\n",
      "LP_STATUS_GROB: [1.0, 2.0, 4.0, 3.0, nan, 5.0]\n",
      "MIN_GEBAEUDEJAHR: [nan, 2010.0, 2015.0, 1999.0, 2000.0, 2005.0]\n",
      "MOBI_REGIO: [nan]\n",
      "NATIONALITAET_KZ: [nan, 1.0, 3.0, 2.0]\n",
      "ONLINE_AFFINITAET: [1.0, 2.0, 4.0, 0.0, 5.0, 3.0, nan]\n",
      "ORTSGR_KLS9: [nan, 6.0, 5.0, 3.0, 2.0, 4.0, 8.0, 1.0, 7.0, 9.0]\n",
      "OST_WEST_KZ: [nan, 1.0, 0.0]\n",
      "PLZ8_ANTG1: [nan]\n",
      "PLZ8_ANTG2: [nan]\n",
      "PLZ8_ANTG3: [nan]\n",
      "PLZ8_ANTG4: [nan]\n",
      "PLZ8_GBZ: [nan]\n",
      "PLZ8_HHZ: [nan]\n",
      "PRAEGENDE_JUGENDJAHRE_DECADE: [nan, 70.0, 90.0, 50.0, 60.0, 40.0, 80.0]\n",
      "PRAEGENDE_JUGENDJAHRE_MOVEMENT: [nan, 0.0, 1.0]\n",
      "REGIOTYP: [nan, 6.0, 3.0, 5.0, 4.0, 2.0, 7.0]\n",
      "RELAT_AB: [nan, 3.0, 4.0, 1.0, 5.0, 2.0]\n",
      "RETOURTYP_BK_S: [5.0, 3.0, 2.0, 1.0, nan, 4.0]\n",
      "SEMIO_DOM: [6.0, 2.0, 3.0, 4.0, 5.0, 7.0, 1.0]\n",
      "SEMIO_ERL: [3.0, 6.0, 7.0, 4.0, 1.0, 5.0, 2.0]\n",
      "SEMIO_FAM: [6.0, 1.0, 4.0, 7.0, 5.0, 3.0]\n",
      "SEMIO_KAEM: [6.0, 7.0, 3.0, 4.0, 2.0, 5.0, 1.0]\n",
      "SEMIO_KRIT: [7.0, 5.0, 1.0, 3.0, 4.0]\n",
      "SEMIO_KULT: [3.0, 1.0, 5.0, 7.0, 2.0, 4.0]\n",
      "SEMIO_LUST: [5.0, 1.0, 2.0, 4.0, 7.0]\n",
      "SEMIO_MAT: [5.0, 2.0, 4.0, 6.0, 7.0, 1.0]\n",
      "SEMIO_PFLICHT: [5.0, 4.0, 3.0]\n",
      "SEMIO_RAT: [4.0, 6.0, 5.0, 1.0, 7.0, 2.0]\n",
      "SEMIO_REL: [7.0, 1.0, 5.0, 4.0, 2.0, 6.0]\n",
      "SEMIO_SOZ: [2.0, 3.0, 7.0, 4.0]\n",
      "SEMIO_TRADV: [3.0, 1.0, 6.0, 4.0, 5.0, 7.0, 2.0]\n",
      "SEMIO_VERT: [1.0, 4.0, 7.0, 2.0]\n",
      "SHOPPER_TYP: [nan, 3.0, 1.0, 2.0, 0.0]\n",
      "SOHO_KZ: [nan, 0.0, 1.0]\n",
      "VERS_TYP: [nan, 2.0, 1.0]\n",
      "WOHNDAUER_2008: [nan, 9.0, 3.0, 8.0, 5.0, 4.0, 6.0, 7.0, 2.0, 1.0]\n",
      "W_KEIT_KIND_HH: [nan, 3.0, 2.0, 1.0, 6.0, 4.0, 5.0]\n",
      "ZABEOTYP: [3.0, 4.0, 2.0, 1.0, 5.0, 6.0]\n",
      "None\n"
     ]
    }
   ],
   "source": [
    "# create column list and check values\n",
    "azdias_cols = list(azdias.columns)\n",
    "print(unique_vals_by_col(azdias, azdias_cols))"
   ]
  },
  {
   "cell_type": "markdown",
   "metadata": {},
   "source": [
    "There are a handful of columns with no data that should be removed before one-hot-encoding"
   ]
  },
  {
   "cell_type": "code",
   "execution_count": 56,
   "metadata": {},
   "outputs": [],
   "source": [
    "# remove columns with no data\n",
    "remove_cols = [\n",
    "    'KBA05_ANTG1', 'KBA05_ANTG2', 'KBA05_ANTG3', 'KBA05_ANTG4', \n",
    "    'KBA05_GBZ', 'PLZ8_ANTG1', 'PLZ8_ANTG2', 'PLZ8_ANTG3', \n",
    "    'PLZ8_ANTG4', 'PLZ8_HHZ', 'PLZ8_GBZ', 'MOBI_REGIO'\n",
    "]\n",
    "\n",
    "for c in remove_cols:\n",
    "    azdias.drop(c, axis=1, inplace=True)"
   ]
  },
  {
   "cell_type": "code",
   "execution_count": 57,
   "metadata": {},
   "outputs": [
    {
     "name": "stdout",
     "output_type": "stream",
     "text": [
      "Shape before one-hot-encode: (93260, 63)\n",
      "Shape after one-hot-encode: (93260, 336)\n"
     ]
    }
   ],
   "source": [
    "# one-hot-encode columns\n",
    "azdias_cols = list(azdias.columns)\n",
    "\n",
    "azdias_before = copy_df(azdias)\n",
    "azdias = pd.get_dummies(data=azdias, columns=azdias_cols)\n",
    "\n",
    "print(f'Shape before one-hot-encode: {azdias_before.shape}')\n",
    "print(f'Shape after one-hot-encode: {azdias.shape}')"
   ]
  },
  {
   "cell_type": "markdown",
   "metadata": {},
   "source": [
    "I want to make sure the final column list will work for any similar dataset. For that reason, I'll create a dictionary with all the features in the azdias df and their possible values. Then I'll use that dictionary to create a list of possible columns names. Next I'll add the missing columns to the azdias dataset (after one-hot-encode)."
   ]
  },
  {
   "cell_type": "code",
   "execution_count": 58,
   "metadata": {},
   "outputs": [],
   "source": [
    "def all_possible_cols():\n",
    "    \"\"\" creates list of all possible columns after one-hot-encode \"\"\"\n",
    "\n",
    "    # create feature dictionary\n",
    "    feat_dict = {}\n",
    "    feat_dict['ALTERSKATEGORIE_GROB'] = [1.0, 2.0, 3.0, 4.0, 9.0]\n",
    "    feat_dict['ANREDE_KZ'] = [1.0, 2.0]\n",
    "    feat_dict['ANZ_HAUSHALTE_AKTIV'] = [0.0, 1.0, 5.0, 10.0, 15.0, 20.0]\n",
    "    feat_dict['ANZ_HH_TITEL'] = [0.0, 1.0, 2.0]\n",
    "    feat_dict['ANZ_PERSONEN'] = [0.0, 1.0, 2.0, 3.0, 4.0, 5.0, 10.0]\n",
    "    feat_dict['ANZ_TITEL'] = [0.0, 1.0, 2.0, 3.0, 4.0, 5.0, 10.0]\n",
    "    feat_dict['ARBEIT'] = [1.0, 2.0, 3.0, 4.0, 5.0]\n",
    "    feat_dict['BALLRAUM'] = [1.0, 2.0, 3.0, 4.0, 5.0, 6.0, 7.0]\n",
    "    feat_dict['CAMEO_INTL_2015_LIFESTAGE'] = [1.0, 2.0, 3.0, 4.0, 5.0]\n",
    "    feat_dict['CAMEO_INTL_2015_WEALTH'] = [10.0, 20.0, 30.0, 40.0, 50.0]\n",
    "    feat_dict['CJT_GESAMTTYP'] = [1.0, 2.0, 3.0, 4.0, 5.0, 6.0]\n",
    "    feat_dict['EWDICHTE'] = [1.0, 2.0, 3.0, 4.0, 5.0, 6.0]\n",
    "    feat_dict['FINANZTYP'] = [1.0, 2.0, 3.0, 4.0, 5.0, 6.0]\n",
    "    feat_dict['FINANZ_ANLEGER'] = [1.0, 2.0, 3.0, 4.0, 5.0]\n",
    "    feat_dict['FINANZ_HAUSBAUER'] = [1.0, 2.0, 3.0, 4.0, 5.0]\n",
    "    feat_dict['FINANZ_MINIMALIST'] = [1.0, 2.0, 3.0, 4.0, 5.0]\n",
    "    feat_dict['FINANZ_SPARER'] = [1.0, 2.0, 3.0, 4.0, 5.0]\n",
    "    feat_dict['FINANZ_UNAUFFAELLIGER'] = [1.0, 2.0, 3.0, 4.0, 5.0]\n",
    "    feat_dict['FINANZ_VORSORGER'] = [1.0, 2.0, 3.0, 4.0, 5.0]\n",
    "    feat_dict['GEBAEUDETYP'] = [1.0, 2.0, 3.0, 4.0, 5.0, 6.0, 7.0, 8.0]\n",
    "    feat_dict['GEBAEUDETYP_RASTER'] = [1.0, 2.0, 3.0, 4.0, 5.0]\n",
    "    feat_dict['GFK_URLAUBERTYP'] = [1.0, 2.0, 3.0, 4.0, 5.0, 6.0, 7.0, 8.0, 9.0, 10.0, 11.0, 12.0]\n",
    "    feat_dict['GREEN_AVANTGARDE'] = [0.0, 1.0]\n",
    "    feat_dict['HEALTH_TYP'] = [1.0, 2.0, 3.0]\n",
    "    feat_dict['HH_EINKOMMEN_SCORE'] = [1.0, 2.0, 3.0, 4.0, 5.0, 6.0]\n",
    "    feat_dict['INNENSTADT'] = [1.0, 2.0, 3.0, 4.0, 5.0, 6.0, 7.0, 8.0]\n",
    "    feat_dict['KBA13_ANZAHL_PKW'] = [1.0, 100.0, 200.0, 300.0, 400.0, 500.0, 600.0, 700.0, 800.0, 900.0, 1000.0]\n",
    "    feat_dict['KKK'] = [1.0, 2.0, 3.0, 4.0]\n",
    "    feat_dict['KONSUMNAEHE'] = [1.0, 2.0, 3.0, 4.0, 5.0, 6.0, 7.0]\n",
    "    feat_dict['LP_FAMILIE_FEIN'] = [1.0, 2.0, 3.0, 4.0, 5.0, 6.0, 7.0, 8.0, 9.0, 10.0, 11.0]\n",
    "    feat_dict['LP_FAMILIE_GROB'] = [1.0, 2.0, 3.0, 4.0, 5.0]\n",
    "    feat_dict['LP_STATUS_FEIN'] = [1.0, 2.0, 3.0, 4.0, 5.0, 6.0, 7.0, 8.0, 9.0, 10.0]\n",
    "    feat_dict['LP_STATUS_GROB'] = [1.0, 2.0, 3.0, 4.0, 5.0]\n",
    "    feat_dict['MIN_GEBAEUDEJAHR'] = [0.0, 1999.0, 2000.0, 2005.0, 2010.0, 2015.0]\n",
    "    feat_dict['NATIONALITAET_KZ'] = [1.0, 2.0, 3.0]\n",
    "    feat_dict['ONLINE_AFFINITAET'] = [0.0, 1.0, 2.0, 3.0, 4.0, 5.0]\n",
    "    feat_dict['ORTSGR_KLS9'] = [1.0, 2.0, 3.0, 4.0, 5.0, 6.0, 7.0, 8.0, 9.0]\n",
    "    feat_dict['OST_WEST_KZ'] = [0.0, 1.0]\n",
    "    feat_dict['PRAEGENDE_JUGENDJAHRE_DECADE'] = [40.0, 50.0, 60.0, 70.0, 80.0, 90.0]\n",
    "    feat_dict['PRAEGENDE_JUGENDJAHRE_MOVEMENT'] = [0.0, 1.0]\n",
    "    feat_dict['REGIOTYP'] = [1.0, 2.0, 3.0, 4.0, 5.0, 6.0, 7.0]\n",
    "    feat_dict['RELAT_AB'] = [1.0, 2.0, 3.0, 4.0, 5.0]\n",
    "    feat_dict['RETOURTYP_BK_S'] = [1.0, 2.0, 3.0, 4.0, 5.0]\n",
    "    feat_dict['SEMIO_DOM'] = [1.0, 2.0, 3.0, 4.0, 5.0, 6.0, 7.0]\n",
    "    feat_dict['SEMIO_ERL'] = [1.0, 2.0, 3.0, 4.0, 5.0, 6.0, 7.0]\n",
    "    feat_dict['SEMIO_FAM'] = [1.0, 2.0, 3.0, 4.0, 5.0, 6.0, 7.0]\n",
    "    feat_dict['SEMIO_KAEM'] = [1.0, 2.0, 3.0, 4.0, 5.0, 6.0, 7.0]\n",
    "    feat_dict['SEMIO_KRIT'] = [1.0, 2.0, 3.0, 4.0, 5.0, 6.0, 7.0]\n",
    "    feat_dict['SEMIO_KULT'] = [1.0, 2.0, 3.0, 4.0, 5.0, 6.0, 7.0]\n",
    "    feat_dict['SEMIO_LUST'] = [1.0, 2.0, 3.0, 4.0, 5.0, 6.0, 7.0]\n",
    "    feat_dict['SEMIO_MAT'] = [1.0, 2.0, 3.0, 4.0, 5.0, 6.0, 7.0]\n",
    "    feat_dict['SEMIO_PFLICHT'] = [1.0, 2.0, 3.0, 4.0, 5.0, 6.0, 7.0]\n",
    "    feat_dict['SEMIO_RAT'] = [1.0, 2.0, 3.0, 4.0, 5.0, 6.0, 7.0]\n",
    "    feat_dict['SEMIO_REL'] = [1.0, 2.0, 3.0, 4.0, 5.0, 6.0, 7.0]\n",
    "    feat_dict['SEMIO_SOZ'] = [1.0, 2.0, 3.0, 4.0, 5.0, 6.0, 7.0]\n",
    "    feat_dict['SEMIO_TRADV'] = [1.0, 2.0, 3.0, 4.0, 5.0, 6.0, 7.0]\n",
    "    feat_dict['SEMIO_VERT'] = [1.0, 2.0, 3.0, 4.0, 5.0, 6.0, 7.0]\n",
    "    feat_dict['SHOPPER_TYP'] = [0.0, 1.0, 2.0, 3.0]\n",
    "    feat_dict['SOHO_KZ'] = [0.0, 1.0]\n",
    "    feat_dict['VERS_TYP'] = [1.0, 2.0]\n",
    "    feat_dict['WOHNDAUER_2008'] = [1.0, 2.0, 3.0, 4.0, 5.0, 6.0, 7.0, 8.0, 9.0]\n",
    "    feat_dict['W_KEIT_KIND_HH'] = [1.0, 2.0, 3.0, 4.0, 5.0, 6.0]\n",
    "    feat_dict['ZABEOTYP'] = [1.0, 2.0, 3.0, 4.0, 5.0, 6.0]\n",
    "\n",
    "    # create list of possible columns from feature dictionary\n",
    "    cols = []\n",
    "    for k in list(feat_dict.keys()):\n",
    "        for v in feat_dict[k]:\n",
    "            res = str(k) + '_' + str(v)\n",
    "            cols.append(res)\n",
    "\n",
    "    return cols"
   ]
  },
  {
   "cell_type": "code",
   "execution_count": 59,
   "metadata": {},
   "outputs": [],
   "source": [
    "all_cols = all_possible_cols()"
   ]
  },
  {
   "cell_type": "code",
   "execution_count": 60,
   "metadata": {},
   "outputs": [],
   "source": [
    "def add_column(dataframe, col):\n",
    "    \"\"\" Add new column to dataframe and fill with 0s \"\"\"\n",
    "\n",
    "    df1 = copy_df(dataframe)\n",
    "    df2 = pd.DataFrame({col: []})\n",
    "    df3 = pd.concat([df1, df2], axis=1)\n",
    "\n",
    "    df3[col] = 0\n",
    "    \n",
    "    return df3"
   ]
  },
  {
   "cell_type": "code",
   "execution_count": 61,
   "metadata": {},
   "outputs": [
    {
     "name": "stdout",
     "output_type": "stream",
     "text": [
      "Added 39 columns to dataframe:\n",
      "['ALTERSKATEGORIE_GROB_9.0', 'ANZ_HAUSHALTE_AKTIV_0.0', 'ANZ_HAUSHALTE_AKTIV_15.0', 'ANZ_HH_TITEL_2.0', 'ANZ_TITEL_3.0', 'ANZ_TITEL_4.0', 'ANZ_TITEL_5.0', 'ANZ_TITEL_10.0', 'CAMEO_INTL_2015_WEALTH_40.0', 'GEBAEUDETYP_5.0', 'GEBAEUDETYP_7.0', 'HH_EINKOMMEN_SCORE_6.0', 'KBA13_ANZAHL_PKW_100.0', 'KBA13_ANZAHL_PKW_200.0', 'KBA13_ANZAHL_PKW_300.0', 'KBA13_ANZAHL_PKW_600.0', 'KBA13_ANZAHL_PKW_800.0', 'KBA13_ANZAHL_PKW_900.0', 'MIN_GEBAEUDEJAHR_0.0', 'REGIOTYP_1.0', 'SEMIO_FAM_2.0', 'SEMIO_KRIT_2.0', 'SEMIO_KRIT_6.0', 'SEMIO_KULT_6.0', 'SEMIO_LUST_3.0', 'SEMIO_LUST_6.0', 'SEMIO_MAT_3.0', 'SEMIO_PFLICHT_1.0', 'SEMIO_PFLICHT_2.0', 'SEMIO_PFLICHT_6.0', 'SEMIO_PFLICHT_7.0', 'SEMIO_RAT_3.0', 'SEMIO_REL_3.0', 'SEMIO_SOZ_1.0', 'SEMIO_SOZ_5.0', 'SEMIO_SOZ_6.0', 'SEMIO_VERT_3.0', 'SEMIO_VERT_5.0', 'SEMIO_VERT_6.0']\n"
     ]
    }
   ],
   "source": [
    "# add missing columns\n",
    "all_cols = all_possible_cols()\n",
    "added_cols = []\n",
    "i = 0\n",
    "\n",
    "for c in all_cols:\n",
    "    if c not in azdias.columns:\n",
    "        azdias = add_column(azdias, c)\n",
    "        added_cols.append(c)\n",
    "        i = i + 1\n",
    "\n",
    "# print added columns\n",
    "if i > 0:\n",
    "    print(f'Added {i} columns to dataframe:\\n{added_cols}')\n",
    "else:\n",
    "    print('No columns added to dataframe...')"
   ]
  },
  {
   "cell_type": "code",
   "execution_count": 62,
   "metadata": {},
   "outputs": [
    {
     "name": "stdout",
     "output_type": "stream",
     "text": [
      "No columns removed from dataframe...\n"
     ]
    }
   ],
   "source": [
    "# remove extra columns\n",
    "removed_cols = []\n",
    "i = 0\n",
    "\n",
    "for c in azdias.columns:\n",
    "    if c not in all_cols:\n",
    "        azdias.drop(c, axis=1, inplace=True)\n",
    "        removed_cols.append(c)\n",
    "        i = i + 1\n",
    "\n",
    "# print removed columns\n",
    "if i > 0:\n",
    "    print(f'Removed {i} columns from dataframe:\\n{removed_cols}')\n",
    "else:\n",
    "    print('No columns removed from dataframe...')"
   ]
  },
  {
   "cell_type": "code",
   "execution_count": 63,
   "metadata": {},
   "outputs": [],
   "source": [
    "# sort columns\n",
    "azdias = azdias.reindex(sorted(azdias.columns), axis=1)"
   ]
  },
  {
   "cell_type": "code",
   "execution_count": 64,
   "metadata": {},
   "outputs": [
    {
     "name": "stdout",
     "output_type": "stream",
     "text": [
      "Shape after standardization: (93260, 375)\n"
     ]
    }
   ],
   "source": [
    "# check dataframe shape after standardization\n",
    "print(f'Shape after standardization: {azdias.shape}')"
   ]
  },
  {
   "cell_type": "markdown",
   "metadata": {},
   "source": [
    "### Step 1.3: Create a Cleaning Function\n",
    "\n",
    "Even though you've finished cleaning up the general population demographics data, it's important to look ahead to the future and realize that you'll need to perform the same cleaning steps on the customer demographics data. In this substep, complete the function below to execute the main feature selection, encoding, and re-engineering steps you performed above. Then, when it comes to looking at the customer data in Step 3, you can just run this function on that DataFrame to get the trimmed dataset in a single step."
   ]
  },
  {
   "cell_type": "code",
   "execution_count": 65,
   "metadata": {},
   "outputs": [],
   "source": [
    "def remove_outliers(dataframe, n_outliers):\n",
    "    \"\"\" remove n outliers \"\"\"\n",
    "\n",
    "    df = copy_df(dataframe)\n",
    "\n",
    "    # create new df with feature name and count of missing values\n",
    "    na_df = df.isna().sum().reset_index()\n",
    "    na_df.rename({'index': 'feat', 0: 'count'}, axis='columns', inplace=True)\n",
    "    na_df.sort_values(by='count', ascending=False, inplace=True)\n",
    "\n",
    "    # create list of outliers\n",
    "    outliers = []\n",
    "    for i in range(0, n_outliers):\n",
    "        outliers.append(na_df.iloc[i]['feat'])\n",
    "\n",
    "    # remove outliers from df using outliers list created above\n",
    "    df.drop(labels=outliers, axis=1, inplace=True)\n",
    "\n",
    "    return df"
   ]
  },
  {
   "cell_type": "code",
   "execution_count": 66,
   "metadata": {},
   "outputs": [],
   "source": [
    "def misc_cleaning(dataframe):\n",
    "    \"\"\" select, re-encode, and engineer column values \"\"\"\n",
    "\n",
    "    data = copy_df(dataframe)\n",
    "\n",
    "    # add column to df with count of missing row values\n",
    "    data['cnt_na_rows'] = len(data.columns) - data.count(axis=1)\n",
    "\n",
    "    # create subset of df\n",
    "    df = data[data['cnt_na_rows'] > 25].copy().reset_index(drop=True)\n",
    "    df.drop(['cnt_na_rows'], inplace=True, axis=1)\n",
    "\n",
    "    # convert GREEN_AVANTGARDE to float\n",
    "    df['GREEN_AVANTGARDE'] = df['GREEN_AVANTGARDE'].astype(float)\n",
    "\n",
    "    # drop CAMEO_DEUG_2015 and CAMEO_DEU_2015\n",
    "    df.drop(labels=['CAMEO_DEUG_2015','CAMEO_DEU_2015'], axis=1, inplace=True)\n",
    "\n",
    "    # map OST_WEST_KZ to numeric\n",
    "    con = [\n",
    "        df['OST_WEST_KZ'] == 'O',\n",
    "        df['OST_WEST_KZ'] == 'W'\n",
    "    ]\n",
    "    res = [\n",
    "        0.0, 1.0\n",
    "    ]\n",
    "    df['OST_WEST_KZ'] = np.select(con, res, default=np.nan)\n",
    "\n",
    "    # engineer new features\n",
    "    for c in ['PRAEGENDE_JUGENDJAHRE', 'CAMEO_INTL_2015']:\n",
    "        df = eng_new_feats(df, c)\n",
    "\n",
    "    # drop original mixed type features\n",
    "    mixed_cols = list_cols_by_type('mixed')\n",
    "    df.drop(labels=mixed_cols, axis=1, inplace=True)\n",
    "\n",
    "    # group broad numeric columns\n",
    "    cols = [\n",
    "        'ANZ_PERSONEN', 'ANZ_TITEL', 'ANZ_HAUSHALTE_AKTIV', \n",
    "        'ANZ_HH_TITEL', 'MIN_GEBAEUDEJAHR', 'KBA13_ANZAHL_PKW'\n",
    "    ]\n",
    "    for c in cols:\n",
    "        df = grp_num_cols(df, c)\n",
    "    print()\n",
    "\n",
    "    # remove columns with no data (in training dataset)\n",
    "    remove_cols = [\n",
    "        'KBA05_ANTG1', 'KBA05_ANTG2', 'KBA05_ANTG3', 'KBA05_ANTG4', \n",
    "        'KBA05_GBZ', 'PLZ8_ANTG1', 'PLZ8_ANTG2', 'PLZ8_ANTG3', \n",
    "        'PLZ8_ANTG4', 'PLZ8_HHZ', 'PLZ8_GBZ', 'MOBI_REGIO'\n",
    "    ]\n",
    "    for c in remove_cols:\n",
    "        df.drop(c, axis=1, inplace=True)\n",
    "    \n",
    "    # one-hot-encode columns\n",
    "    df_cols = list(df.columns)\n",
    "    df2 = pd.get_dummies(data=df, columns=df_cols)\n",
    "\n",
    "    # create list of all possible columns\n",
    "    all_cols = all_possible_cols()\n",
    "\n",
    "    # add missing columns\n",
    "    added_cols = []\n",
    "    i = 0\n",
    "    for c in all_cols:\n",
    "        if c not in df2.columns:\n",
    "            df2 = add_column(df2, c)\n",
    "            added_cols.append(c)\n",
    "            i = i + 1\n",
    "\n",
    "    # print added columns\n",
    "    if i > 0:\n",
    "        print(f'Added {i} columns to dataframe:\\n{added_cols}\\n')\n",
    "    else:\n",
    "        print('No columns added to dataframe...')\n",
    "\n",
    "    # remove extra columns\n",
    "    removed_cols = []\n",
    "    i = 0\n",
    "    for c in df2.columns:\n",
    "        if c not in all_cols:\n",
    "            df2.drop(c, axis=1, inplace=True)\n",
    "            removed_cols.append(c)\n",
    "            i = i + 1\n",
    "\n",
    "    # print removed columns\n",
    "    if i > 0:\n",
    "        print(f'Removed {i} columns from dataframe:\\n{removed_cols}\\n')\n",
    "    else:\n",
    "        print('No columns removed from dataframe...')\n",
    "\n",
    "    # sort columns\n",
    "    df2 = df2.reindex(sorted(df2.columns), axis=1)\n",
    "            \n",
    "    return df2"
   ]
  },
  {
   "cell_type": "code",
   "execution_count": 67,
   "metadata": {},
   "outputs": [],
   "source": [
    "def clean_data(dataframe):\n",
    "    \"\"\"\n",
    "    Perform feature trimming, re-encoding, and engineering for demographics\n",
    "    data\n",
    "    \n",
    "    INPUT: Demographics DataFrame\n",
    "    OUTPUT: Trimmed and cleaned demographics DataFrame\n",
    "    \"\"\"\n",
    "\n",
    "    df = copy_df(dataframe)\n",
    "    start_time = time.time()\n",
    "\n",
    "    # convert missing value codes into NaNs\n",
    "    df = convert_to_na(df)\n",
    "\n",
    "    # remove outliers\n",
    "    df = remove_outliers(df, 6)    \n",
    "\n",
    "    # select, re-encode, and engineer column values\n",
    "    df = misc_cleaning(df)\n",
    "\n",
    "    # print input and output df shapes\n",
    "    print('\\n**********\\n')\n",
    "    print(f'Input dataframe shape: {dataframe.shape}')\n",
    "    print(f'Output dataframe shape: {df.shape}')\n",
    "\n",
    "    # print function runtime\n",
    "    end_time = time.time()\n",
    "    runtime = round((end_time - start_time), 2)\n",
    "    print(f'--- Function run time: {runtime} sec ---')\n",
    "\n",
    "    # return the cleaned dataframe\n",
    "    return df"
   ]
  },
  {
   "cell_type": "code",
   "execution_count": 68,
   "metadata": {},
   "outputs": [
    {
     "name": "stdout",
     "output_type": "stream",
     "text": [
      "New variables for PRAEGENDE_JUGENDJAHRE have been created: PRAEGENDE_JUGENDJAHRE_DECADE, PRAEGENDE_JUGENDJAHRE_MOVEMENT\n",
      "New variables for CAMEO_INTL_2015 have been created: CAMEO_INTL_2015_WEALTH, CAMEO_INTL_2015_LIFESTAGE\n",
      "\n",
      "Features with data type mixed: \n",
      " ['LP_LEBENSPHASE_FEIN' 'LP_LEBENSPHASE_GROB' 'PRAEGENDE_JUGENDJAHRE'\n",
      " 'WOHNLAGE' 'CAMEO_INTL_2015' 'PLZ8_BAUMAX']\n",
      "\n",
      "Values for ANZ_PERSONEN have been grouped...\n",
      "Values for ANZ_TITEL have been grouped...\n",
      "Values for ANZ_HAUSHALTE_AKTIV have been grouped...\n",
      "Values for ANZ_HH_TITEL have been grouped...\n",
      "Values for MIN_GEBAEUDEJAHR have been grouped...\n",
      "Values for KBA13_ANZAHL_PKW have been grouped...\n",
      "\n",
      "Added 39 columns to dataframe:\n",
      "['ALTERSKATEGORIE_GROB_9.0', 'ANZ_HAUSHALTE_AKTIV_0.0', 'ANZ_HAUSHALTE_AKTIV_15.0', 'ANZ_HH_TITEL_2.0', 'ANZ_TITEL_3.0', 'ANZ_TITEL_4.0', 'ANZ_TITEL_5.0', 'ANZ_TITEL_10.0', 'CAMEO_INTL_2015_WEALTH_40.0', 'GEBAEUDETYP_5.0', 'GEBAEUDETYP_7.0', 'HH_EINKOMMEN_SCORE_6.0', 'KBA13_ANZAHL_PKW_100.0', 'KBA13_ANZAHL_PKW_200.0', 'KBA13_ANZAHL_PKW_300.0', 'KBA13_ANZAHL_PKW_600.0', 'KBA13_ANZAHL_PKW_800.0', 'KBA13_ANZAHL_PKW_900.0', 'MIN_GEBAEUDEJAHR_0.0', 'REGIOTYP_1.0', 'SEMIO_FAM_2.0', 'SEMIO_KRIT_2.0', 'SEMIO_KRIT_6.0', 'SEMIO_KULT_6.0', 'SEMIO_LUST_3.0', 'SEMIO_LUST_6.0', 'SEMIO_MAT_3.0', 'SEMIO_PFLICHT_1.0', 'SEMIO_PFLICHT_2.0', 'SEMIO_PFLICHT_6.0', 'SEMIO_PFLICHT_7.0', 'SEMIO_RAT_3.0', 'SEMIO_REL_3.0', 'SEMIO_SOZ_1.0', 'SEMIO_SOZ_5.0', 'SEMIO_SOZ_6.0', 'SEMIO_VERT_3.0', 'SEMIO_VERT_5.0', 'SEMIO_VERT_6.0']\n",
      "\n",
      "No columns removed from dataframe...\n",
      "\n",
      "**********\n",
      "\n",
      "Input dataframe shape: (891221, 85)\n",
      "Output dataframe shape: (93260, 375)\n",
      "--- Function run time: 7.85 sec ---\n",
      "\n",
      "Output from original cleaning steps: (93260, 375)\n"
     ]
    }
   ],
   "source": [
    "# test cleaning function and compare to original cleaning steps\n",
    "test_df = pd.read_csv('udacity_azdias_subset.csv', delimiter=';')\n",
    "test_function = clean_data(test_df)\n",
    "print(f'\\nOutput from original cleaning steps: {azdias.shape}')"
   ]
  },
  {
   "cell_type": "markdown",
   "metadata": {},
   "source": [
    "## Step 2: Feature Transformation\n",
    "\n",
    "### Step 2.1: Apply Feature Scaling\n",
    "\n",
    "Before we apply dimensionality reduction techniques to the data, we need to perform feature scaling so that the principal component vectors are not influenced by the natural differences in scale for features. Starting from this part of the project, you'll want to keep an eye on the [API reference page for sklearn](http://scikit-learn.org/stable/modules/classes.html) to help you navigate to all of the classes and functions that you'll need. In this substep, you'll need to check the following:\n",
    "\n",
    "- sklearn requires that data not have missing values in order for its estimators to work properly. So, before applying the scaler to your data, make sure that you've cleaned the DataFrame of the remaining missing values. This can be as simple as just removing all data points with missing data, or applying an [Imputer](https://scikit-learn.org/0.16/modules/generated/sklearn.preprocessing.Imputer.html) to replace all missing values. You might also try a more complicated procedure where you temporarily remove missing values in order to compute the scaling parameters before re-introducing those missing values and applying imputation. Think about how much missing data you have and what possible effects each approach might have on your analysis, and justify your decision in the discussion section below.\n",
    "- For the actual scaling function, a [StandardScaler](http://scikit-learn.org/stable/modules/generated/sklearn.preprocessing.StandardScaler.html) instance is suggested, scaling each feature to mean 0 and standard deviation 1.\n",
    "- For these classes, you can make use of the `.fit_transform()` method to both fit a procedure to the data as well as apply the transformation to the data at the same time. Don't forget to keep the fit sklearn objects handy, since you'll be applying them to the customer demographics data towards the end of the project."
   ]
  },
  {
   "cell_type": "markdown",
   "metadata": {},
   "source": [
    "> If you've not yet cleaned the dataset of all NaN values, then investigate and do that now.\n"
   ]
  },
  {
   "cell_type": "code",
   "execution_count": 69,
   "metadata": {},
   "outputs": [
    {
     "data": {
      "text/plain": [
       "0"
      ]
     },
     "execution_count": 69,
     "metadata": {},
     "output_type": "execute_result"
    }
   ],
   "source": [
    "# check for NaN value\n",
    "azdias.isna().sum().sum()"
   ]
  },
  {
   "cell_type": "code",
   "execution_count": 70,
   "metadata": {},
   "outputs": [],
   "source": [
    "# Apply feature scaling to the general population demographics data.\n",
    "scaler = StandardScaler()\n",
    "azdias_standard = scaler.fit_transform(azdias)"
   ]
  },
  {
   "cell_type": "markdown",
   "metadata": {},
   "source": [
    "### Discussion 2.1: Apply Feature Scaling\n",
    "\n",
    "At this stage, there weren't any remaining NaN values in this dataset, so I simply applied the standard scaler."
   ]
  },
  {
   "cell_type": "markdown",
   "metadata": {},
   "source": [
    "### Step 2.2: Perform Dimensionality Reduction\n",
    "\n",
    "On your scaled data, you are now ready to apply dimensionality reduction techniques.\n",
    "\n",
    "- Use sklearn's [PCA](http://scikit-learn.org/stable/modules/generated/sklearn.decomposition.PCA.html) class to apply principal component analysis on the data, thus finding the vectors of maximal variance in the data. To start, you should not set any parameters (so all components are computed) or set a number of components that is at least half the number of features (so there's enough features to see the general trend in variability).\n",
    "- Check out the ratio of variance explained by each principal component as well as the cumulative variance explained. Try plotting the cumulative or sequential values using matplotlib's [`plot()`](https://matplotlib.org/api/_as_gen/matplotlib.pyplot.plot.html) function. Based on what you find, select a value for the number of transformed features you'll retain for the clustering part of the project.\n",
    "- Once you've made a choice for the number of components to keep, make sure you re-fit a PCA instance to perform the decided-on transformation."
   ]
  },
  {
   "cell_type": "code",
   "execution_count": 71,
   "metadata": {},
   "outputs": [
    {
     "data": {
      "text/plain": [
       "0.9887306131343474"
      ]
     },
     "execution_count": 71,
     "metadata": {},
     "output_type": "execute_result"
    }
   ],
   "source": [
    "# Apply PCA to the data.\n",
    "n = 100\n",
    "pca = PCA(n)\n",
    "azdias_pca = pca.fit_transform(azdias)\n",
    "pca.explained_variance_ratio_.sum()"
   ]
  },
  {
   "cell_type": "code",
   "execution_count": 72,
   "metadata": {},
   "outputs": [
    {
     "name": "stdout",
     "output_type": "stream",
     "text": [
      "explained variance ratio sum: 0.9516\n",
      "number of components: 65\n"
     ]
    }
   ],
   "source": [
    "# Re-apply PCA to the data while selecting for optimal number of components to retain\n",
    "for n in range(50, azdias.shape[1]):\n",
    "    pca = PCA(n)\n",
    "    azdias_pca = pca.fit_transform(azdias)\n",
    "    evr_sum = pca.explained_variance_ratio_.sum()\n",
    "    if evr_sum >= 0.95:\n",
    "        num_comps = n\n",
    "        break\n",
    "\n",
    "print(f'explained variance ratio sum: {round(evr_sum, 4)}')\n",
    "print(f'number of components: {num_comps}')"
   ]
  },
  {
   "cell_type": "code",
   "execution_count": 73,
   "metadata": {},
   "outputs": [
    {
     "data": {
      "image/png": "[encoded data removed]",
      "text/plain": [
       "<Figure size 1296x864 with 1 Axes>"
      ]
     },
     "metadata": {},
     "output_type": "display_data"
    }
   ],
   "source": [
    "# Plot total explained variance for principal components\n",
    "tick = np.arange(num_comps)\n",
    "vals = pca.explained_variance_ratio_\n",
    "\n",
    "plt.figure(figsize=(18,12))\n",
    "ax = plt.subplot(111)\n",
    "sumvals = np.cumsum(vals)\n",
    "ax.bar(tick, vals)\n",
    "ax.plot(tick, sumvals)\n",
    "\n",
    "ax.xaxis.set_tick_params(width=1)\n",
    "ax.yaxis.set_tick_params(width=2, length=12)\n",
    "ax.set_xlabel(\"Number of Principal Components\")\n",
    "ax.set_ylabel(\"Explained Variance (%)\")\n",
    "plt.title(\"Explained Variance Ratio by Principal Component\")\n",
    "plt.show()"
   ]
  },
  {
   "cell_type": "markdown",
   "metadata": {},
   "source": [
    "### Discussion 2.2: Perform Dimensionality Reduction\n",
    "\n",
    "I decided to loop through the possible number of principal components until I found a count that explained 95% of the variance. This reduced the number of dimensions by 83% (from 375 to 65)."
   ]
  },
  {
   "cell_type": "markdown",
   "metadata": {},
   "source": [
    "### Step 2.3: Interpret Principal Components\n",
    "\n",
    "Now that we have our transformed principal components, it's a nice idea to check out the weight of each variable on the first few components to see if they can be interpreted in some fashion.\n",
    "\n",
    "As a reminder, each principal component is a unit vector that points in the direction of highest variance (after accounting for the variance captured by earlier principal components). The further a weight is from zero, the more the principal component is in the direction of the corresponding feature. If two features have large weights of the same sign (both positive or both negative), then increases in one tend expect to be associated with increases in the other. To contrast, features with different signs can be expected to show a negative correlation: increases in one variable should result in a decrease in the other.\n",
    "\n",
    "- To investigate the features, you should map each weight to their corresponding feature name, then sort the features according to weight. The most interesting features for each principal component, then, will be those at the beginning and end of the sorted list. Use the data dictionary document to help you understand these most prominent features, their relationships, and what a positive or negative value on the principal component might indicate.\n",
    "- You should investigate and interpret feature associations from the first three principal components in this substep. To help facilitate this, you should write a function that you can call at any time to print the sorted list of feature weights, for the *i*-th principal component. This might come in handy in the next step of the project, when you interpret the tendencies of the discovered clusters."
   ]
  },
  {
   "cell_type": "code",
   "execution_count": 74,
   "metadata": {},
   "outputs": [],
   "source": [
    "def map_pca_weights(dataset, dim, n_feats):\n",
    "    \"\"\" \n",
    "    print top 25 weights for given component (n_comp)\n",
    "    plot features with most absolute variance for given component (n_comp)\n",
    "    \"\"\"\n",
    "\n",
    "    # get features names from dataset\n",
    "    feat_names = dataset.columns.values\n",
    "\n",
    "    # create dictionary with features and weights\n",
    "    pca_map_weights = {}\n",
    "    for cnt, feat in enumerate(feat_names):\n",
    "        pca_map_weights[feat] = pca.components_[dim][cnt]\n",
    "\n",
    "    sorted_weights = sorted(pca_map_weights.items(), key=operator.itemgetter(1), reverse=True)\n",
    "\n",
    "    # print top n weights\n",
    "    print(f'Top {n_feats} Features:')\n",
    "    for i in range(0, n_feats):\n",
    "        print(sorted_weights[i])\n",
    "    \n",
    "    # print bottom n weights\n",
    "    l = len(sorted_weights)\n",
    "    n = l - n_feats\n",
    "    print(f'\\nBottom {n_feats} Features:')\n",
    "    for i in range(n, l):\n",
    "        print(sorted_weights[i])\n",
    "    print()\n",
    "\n",
    "    # create dataframe from dictionary\n",
    "    df = pd.DataFrame.from_dict(sorted_weights)\n",
    "    df = pd.concat([df.head(n_feats), df.tail(n_feats)])\n",
    "    df.columns = ['feature', 'weight']\n",
    "    \n",
    "    # return plot of features with most absolute variance\n",
    "    return px.bar(\n",
    "        df, x='feature', y='weight',\n",
    "        color='weight', color_continuous_scale=px.colors.sequential.YlGnBu,\n",
    "        labels = {'weight': 'Weight', 'feature': 'Features'},\n",
    "        height=450, width=650\n",
    "    )"
   ]
  },
  {
   "cell_type": "code",
   "execution_count": 75,
   "metadata": {},
   "outputs": [
    {
     "name": "stdout",
     "output_type": "stream",
     "text": [
      "Top 5 Features:\n",
      "('LP_STATUS_FEIN_5.0', 0.3235566452758202)\n",
      "('GFK_URLAUBERTYP_5.0', 0.31734477386457643)\n",
      "('RETOURTYP_BK_S_3.0', 0.3014489842732861)\n",
      "('LP_STATUS_GROB_2.0', 0.30035851103629413)\n",
      "('CJT_GESAMTTYP_6.0', 0.29391416770246387)\n",
      "\n",
      "Bottom 5 Features:\n",
      "('LP_STATUS_FEIN_1.0', -0.11047406554645563)\n",
      "('RETOURTYP_BK_S_5.0', -0.12677929007431646)\n",
      "('LP_STATUS_GROB_1.0', -0.19320405756084977)\n",
      "('LP_FAMILIE_FEIN_1.0', -0.19735800212777815)\n",
      "('LP_FAMILIE_GROB_1.0', -0.19735800212777815)\n",
      "\n"
     ]
    },
    {
     "data": {
      "application/vnd.plotly.v1+json": {
       "config": {
        "plotlyServerURL": "https://plot.ly"
       },
       "data": [
        {
         "alignmentgroup": "True",
         "hovertemplate": "Features=%{x}<br>Weight=%{marker.color}<extra></extra>",
         "legendgroup": "",
         "marker": {
          "color": [
           0.3235566452758202,
           0.31734477386457643,
           0.3014489842732861,
           0.30035851103629413,
           0.29391416770246387,
           -0.11047406554645563,
           -0.12677929007431646,
           -0.19320405756084977,
           -0.19735800212777815,
           -0.19735800212777815
          ],
          "coloraxis": "coloraxis",
          "pattern": {
           "shape": ""
          }
         },
         "name": "",
         "offsetgroup": "",
         "orientation": "v",
         "showlegend": false,
         "textposition": "auto",
         "type": "bar",
         "x": [
          "LP_STATUS_FEIN_5.0",
          "GFK_URLAUBERTYP_5.0",
          "RETOURTYP_BK_S_3.0",
          "LP_STATUS_GROB_2.0",
          "CJT_GESAMTTYP_6.0",
          "LP_STATUS_FEIN_1.0",
          "RETOURTYP_BK_S_5.0",
          "LP_STATUS_GROB_1.0",
          "LP_FAMILIE_FEIN_1.0",
          "LP_FAMILIE_GROB_1.0"
         ],
         "xaxis": "x",
         "y": [
          0.3235566452758202,
          0.31734477386457643,
          0.3014489842732861,
          0.30035851103629413,
          0.29391416770246387,
          -0.11047406554645563,
          -0.12677929007431646,
          -0.19320405756084977,
          -0.19735800212777815,
          -0.19735800212777815
         ],
         "yaxis": "y"
        }
       ],
       "layout": {
        "barmode": "relative",
        "coloraxis": {
         "colorbar": {
          "title": {
           "text": "Weight"
          }
         },
         "colorscale": [
          [
           0,
           "rgb(255,255,217)"
          ],
          [
           0.125,
           "rgb(237,248,177)"
          ],
          [
           0.25,
           "rgb(199,233,180)"
          ],
          [
           0.375,
           "rgb(127,205,187)"
          ],
          [
           0.5,
           "rgb(65,182,196)"
          ],
          [
           0.625,
           "rgb(29,145,192)"
          ],
          [
           0.75,
           "rgb(34,94,168)"
          ],
          [
           0.875,
           "rgb(37,52,148)"
          ],
          [
           1,
           "rgb(8,29,88)"
          ]
         ]
        },
        "height": 450,
        "legend": {
         "tracegroupgap": 0
        },
        "margin": {
         "t": 60
        },
        "template": {
         "data": {
          "bar": [
           {
            "error_x": {
             "color": "#2a3f5f"
            },
            "error_y": {
             "color": "#2a3f5f"
            },
            "marker": {
             "line": {
              "color": "#E5ECF6",
              "width": 0.5
             },
             "pattern": {
              "fillmode": "overlay",
              "size": 10,
              "solidity": 0.2
             }
            },
            "type": "bar"
           }
          ],
          "barpolar": [
           {
            "marker": {
             "line": {
              "color": "#E5ECF6",
              "width": 0.5
             },
             "pattern": {
              "fillmode": "overlay",
              "size": 10,
              "solidity": 0.2
             }
            },
            "type": "barpolar"
           }
          ],
          "carpet": [
           {
            "aaxis": {
             "endlinecolor": "#2a3f5f",
             "gridcolor": "white",
             "linecolor": "white",
             "minorgridcolor": "white",
             "startlinecolor": "#2a3f5f"
            },
            "baxis": {
             "endlinecolor": "#2a3f5f",
             "gridcolor": "white",
             "linecolor": "white",
             "minorgridcolor": "white",
             "startlinecolor": "#2a3f5f"
            },
            "type": "carpet"
           }
          ],
          "choropleth": [
           {
            "colorbar": {
             "outlinewidth": 0,
             "ticks": ""
            },
            "type": "choropleth"
           }
          ],
          "contour": [
           {
            "colorbar": {
             "outlinewidth": 0,
             "ticks": ""
            },
            "colorscale": [
             [
              0,
              "#0d0887"
             ],
             [
              0.1111111111111111,
              "#46039f"
             ],
             [
              0.2222222222222222,
              "#7201a8"
             ],
             [
              0.3333333333333333,
              "#9c179e"
             ],
             [
              0.4444444444444444,
              "#bd3786"
             ],
             [
              0.5555555555555556,
              "#d8576b"
             ],
             [
              0.6666666666666666,
              "#ed7953"
             ],
             [
              0.7777777777777778,
              "#fb9f3a"
             ],
             [
              0.8888888888888888,
              "#fdca26"
             ],
             [
              1,
              "#f0f921"
             ]
            ],
            "type": "contour"
           }
          ],
          "contourcarpet": [
           {
            "colorbar": {
             "outlinewidth": 0,
             "ticks": ""
            },
            "type": "contourcarpet"
           }
          ],
          "heatmap": [
           {
            "colorbar": {
             "outlinewidth": 0,
             "ticks": ""
            },
            "colorscale": [
             [
              0,
              "#0d0887"
             ],
             [
              0.1111111111111111,
              "#46039f"
             ],
             [
              0.2222222222222222,
              "#7201a8"
             ],
             [
              0.3333333333333333,
              "#9c179e"
             ],
             [
              0.4444444444444444,
              "#bd3786"
             ],
             [
              0.5555555555555556,
              "#d8576b"
             ],
             [
              0.6666666666666666,
              "#ed7953"
             ],
             [
              0.7777777777777778,
              "#fb9f3a"
             ],
             [
              0.8888888888888888,
              "#fdca26"
             ],
             [
              1,
              "#f0f921"
             ]
            ],
            "type": "heatmap"
           }
          ],
          "heatmapgl": [
           {
            "colorbar": {
             "outlinewidth": 0,
             "ticks": ""
            },
            "colorscale": [
             [
              0,
              "#0d0887"
             ],
             [
              0.1111111111111111,
              "#46039f"
             ],
             [
              0.2222222222222222,
              "#7201a8"
             ],
             [
              0.3333333333333333,
              "#9c179e"
             ],
             [
              0.4444444444444444,
              "#bd3786"
             ],
             [
              0.5555555555555556,
              "#d8576b"
             ],
             [
              0.6666666666666666,
              "#ed7953"
             ],
             [
              0.7777777777777778,
              "#fb9f3a"
             ],
             [
              0.8888888888888888,
              "#fdca26"
             ],
             [
              1,
              "#f0f921"
             ]
            ],
            "type": "heatmapgl"
           }
          ],
          "histogram": [
           {
            "marker": {
             "pattern": {
              "fillmode": "overlay",
              "size": 10,
              "solidity": 0.2
             }
            },
            "type": "histogram"
           }
          ],
          "histogram2d": [
           {
            "colorbar": {
             "outlinewidth": 0,
             "ticks": ""
            },
            "colorscale": [
             [
              0,
              "#0d0887"
             ],
             [
              0.1111111111111111,
              "#46039f"
             ],
             [
              0.2222222222222222,
              "#7201a8"
             ],
             [
              0.3333333333333333,
              "#9c179e"
             ],
             [
              0.4444444444444444,
              "#bd3786"
             ],
             [
              0.5555555555555556,
              "#d8576b"
             ],
             [
              0.6666666666666666,
              "#ed7953"
             ],
             [
              0.7777777777777778,
              "#fb9f3a"
             ],
             [
              0.8888888888888888,
              "#fdca26"
             ],
             [
              1,
              "#f0f921"
             ]
            ],
            "type": "histogram2d"
           }
          ],
          "histogram2dcontour": [
           {
            "colorbar": {
             "outlinewidth": 0,
             "ticks": ""
            },
            "colorscale": [
             [
              0,
              "#0d0887"
             ],
             [
              0.1111111111111111,
              "#46039f"
             ],
             [
              0.2222222222222222,
              "#7201a8"
             ],
             [
              0.3333333333333333,
              "#9c179e"
             ],
             [
              0.4444444444444444,
              "#bd3786"
             ],
             [
              0.5555555555555556,
              "#d8576b"
             ],
             [
              0.6666666666666666,
              "#ed7953"
             ],
             [
              0.7777777777777778,
              "#fb9f3a"
             ],
             [
              0.8888888888888888,
              "#fdca26"
             ],
             [
              1,
              "#f0f921"
             ]
            ],
            "type": "histogram2dcontour"
           }
          ],
          "mesh3d": [
           {
            "colorbar": {
             "outlinewidth": 0,
             "ticks": ""
            },
            "type": "mesh3d"
           }
          ],
          "parcoords": [
           {
            "line": {
             "colorbar": {
              "outlinewidth": 0,
              "ticks": ""
             }
            },
            "type": "parcoords"
           }
          ],
          "pie": [
           {
            "automargin": true,
            "type": "pie"
           }
          ],
          "scatter": [
           {
            "marker": {
             "colorbar": {
              "outlinewidth": 0,
              "ticks": ""
             }
            },
            "type": "scatter"
           }
          ],
          "scatter3d": [
           {
            "line": {
             "colorbar": {
              "outlinewidth": 0,
              "ticks": ""
             }
            },
            "marker": {
             "colorbar": {
              "outlinewidth": 0,
              "ticks": ""
             }
            },
            "type": "scatter3d"
           }
          ],
          "scattercarpet": [
           {
            "marker": {
             "colorbar": {
              "outlinewidth": 0,
              "ticks": ""
             }
            },
            "type": "scattercarpet"
           }
          ],
          "scattergeo": [
           {
            "marker": {
             "colorbar": {
              "outlinewidth": 0,
              "ticks": ""
             }
            },
            "type": "scattergeo"
           }
          ],
          "scattergl": [
           {
            "marker": {
             "colorbar": {
              "outlinewidth": 0,
              "ticks": ""
             }
            },
            "type": "scattergl"
           }
          ],
          "scattermapbox": [
           {
            "marker": {
             "colorbar": {
              "outlinewidth": 0,
              "ticks": ""
             }
            },
            "type": "scattermapbox"
           }
          ],
          "scatterpolar": [
           {
            "marker": {
             "colorbar": {
              "outlinewidth": 0,
              "ticks": ""
             }
            },
            "type": "scatterpolar"
           }
          ],
          "scatterpolargl": [
           {
            "marker": {
             "colorbar": {
              "outlinewidth": 0,
              "ticks": ""
             }
            },
            "type": "scatterpolargl"
           }
          ],
          "scatterternary": [
           {
            "marker": {
             "colorbar": {
              "outlinewidth": 0,
              "ticks": ""
             }
            },
            "type": "scatterternary"
           }
          ],
          "surface": [
           {
            "colorbar": {
             "outlinewidth": 0,
             "ticks": ""
            },
            "colorscale": [
             [
              0,
              "#0d0887"
             ],
             [
              0.1111111111111111,
              "#46039f"
             ],
             [
              0.2222222222222222,
              "#7201a8"
             ],
             [
              0.3333333333333333,
              "#9c179e"
             ],
             [
              0.4444444444444444,
              "#bd3786"
             ],
             [
              0.5555555555555556,
              "#d8576b"
             ],
             [
              0.6666666666666666,
              "#ed7953"
             ],
             [
              0.7777777777777778,
              "#fb9f3a"
             ],
             [
              0.8888888888888888,
              "#fdca26"
             ],
             [
              1,
              "#f0f921"
             ]
            ],
            "type": "surface"
           }
          ],
          "table": [
           {
            "cells": {
             "fill": {
              "color": "#EBF0F8"
             },
             "line": {
              "color": "white"
             }
            },
            "header": {
             "fill": {
              "color": "#C8D4E3"
             },
             "line": {
              "color": "white"
             }
            },
            "type": "table"
           }
          ]
         },
         "layout": {
          "annotationdefaults": {
           "arrowcolor": "#2a3f5f",
           "arrowhead": 0,
           "arrowwidth": 1
          },
          "autotypenumbers": "strict",
          "coloraxis": {
           "colorbar": {
            "outlinewidth": 0,
            "ticks": ""
           }
          },
          "colorscale": {
           "diverging": [
            [
             0,
             "#8e0152"
            ],
            [
             0.1,
             "#c51b7d"
            ],
            [
             0.2,
             "#de77ae"
            ],
            [
             0.3,
             "#f1b6da"
            ],
            [
             0.4,
             "#fde0ef"
            ],
            [
             0.5,
             "#f7f7f7"
            ],
            [
             0.6,
             "#e6f5d0"
            ],
            [
             0.7,
             "#b8e186"
            ],
            [
             0.8,
             "#7fbc41"
            ],
            [
             0.9,
             "#4d9221"
            ],
            [
             1,
             "#276419"
            ]
           ],
           "sequential": [
            [
             0,
             "#0d0887"
            ],
            [
             0.1111111111111111,
             "#46039f"
            ],
            [
             0.2222222222222222,
             "#7201a8"
            ],
            [
             0.3333333333333333,
             "#9c179e"
            ],
            [
             0.4444444444444444,
             "#bd3786"
            ],
            [
             0.5555555555555556,
             "#d8576b"
            ],
            [
             0.6666666666666666,
             "#ed7953"
            ],
            [
             0.7777777777777778,
             "#fb9f3a"
            ],
            [
             0.8888888888888888,
             "#fdca26"
            ],
            [
             1,
             "#f0f921"
            ]
           ],
           "sequentialminus": [
            [
             0,
             "#0d0887"
            ],
            [
             0.1111111111111111,
             "#46039f"
            ],
            [
             0.2222222222222222,
             "#7201a8"
            ],
            [
             0.3333333333333333,
             "#9c179e"
            ],
            [
             0.4444444444444444,
             "#bd3786"
            ],
            [
             0.5555555555555556,
             "#d8576b"
            ],
            [
             0.6666666666666666,
             "#ed7953"
            ],
            [
             0.7777777777777778,
             "#fb9f3a"
            ],
            [
             0.8888888888888888,
             "#fdca26"
            ],
            [
             1,
             "#f0f921"
            ]
           ]
          },
          "colorway": [
           "#636efa",
           "#EF553B",
           "#00cc96",
           "#ab63fa",
           "#FFA15A",
           "#19d3f3",
           "#FF6692",
           "#B6E880",
           "#FF97FF",
           "#FECB52"
          ],
          "font": {
           "color": "#2a3f5f"
          },
          "geo": {
           "bgcolor": "white",
           "lakecolor": "white",
           "landcolor": "#E5ECF6",
           "showlakes": true,
           "showland": true,
           "subunitcolor": "white"
          },
          "hoverlabel": {
           "align": "left"
          },
          "hovermode": "closest",
          "mapbox": {
           "style": "light"
          },
          "paper_bgcolor": "white",
          "plot_bgcolor": "#E5ECF6",
          "polar": {
           "angularaxis": {
            "gridcolor": "white",
            "linecolor": "white",
            "ticks": ""
           },
           "bgcolor": "#E5ECF6",
           "radialaxis": {
            "gridcolor": "white",
            "linecolor": "white",
            "ticks": ""
           }
          },
          "scene": {
           "xaxis": {
            "backgroundcolor": "#E5ECF6",
            "gridcolor": "white",
            "gridwidth": 2,
            "linecolor": "white",
            "showbackground": true,
            "ticks": "",
            "zerolinecolor": "white"
           },
           "yaxis": {
            "backgroundcolor": "#E5ECF6",
            "gridcolor": "white",
            "gridwidth": 2,
            "linecolor": "white",
            "showbackground": true,
            "ticks": "",
            "zerolinecolor": "white"
           },
           "zaxis": {
            "backgroundcolor": "#E5ECF6",
            "gridcolor": "white",
            "gridwidth": 2,
            "linecolor": "white",
            "showbackground": true,
            "ticks": "",
            "zerolinecolor": "white"
           }
          },
          "shapedefaults": {
           "line": {
            "color": "#2a3f5f"
           }
          },
          "ternary": {
           "aaxis": {
            "gridcolor": "white",
            "linecolor": "white",
            "ticks": ""
           },
           "baxis": {
            "gridcolor": "white",
            "linecolor": "white",
            "ticks": ""
           },
           "bgcolor": "#E5ECF6",
           "caxis": {
            "gridcolor": "white",
            "linecolor": "white",
            "ticks": ""
           }
          },
          "title": {
           "x": 0.05
          },
          "xaxis": {
           "automargin": true,
           "gridcolor": "white",
           "linecolor": "white",
           "ticks": "",
           "title": {
            "standoff": 15
           },
           "zerolinecolor": "white",
           "zerolinewidth": 2
          },
          "yaxis": {
           "automargin": true,
           "gridcolor": "white",
           "linecolor": "white",
           "ticks": "",
           "title": {
            "standoff": 15
           },
           "zerolinecolor": "white",
           "zerolinewidth": 2
          }
         }
        },
        "width": 650,
        "xaxis": {
         "anchor": "y",
         "domain": [
          0,
          1
         ],
         "title": {
          "text": "Features"
         }
        },
        "yaxis": {
         "anchor": "x",
         "domain": [
          0,
          1
         ],
         "title": {
          "text": "Weight"
         }
        }
       }
      }
     },
     "metadata": {},
     "output_type": "display_data"
    }
   ],
   "source": [
    "# Map weights for the first principal component to corresponding feature names.\n",
    "map_pca_weights(azdias, 1, 5)"
   ]
  },
  {
   "cell_type": "code",
   "execution_count": 76,
   "metadata": {},
   "outputs": [
    {
     "name": "stdout",
     "output_type": "stream",
     "text": [
      "Top 5 Features:\n",
      "('ANREDE_KZ_2.0', 0.39285605848222904)\n",
      "('SEMIO_VERT_4.0', 0.19511371390278381)\n",
      "('SEMIO_KRIT_7.0', 0.18006524935894905)\n",
      "('SEMIO_DOM_6.0', 0.17997218553398084)\n",
      "('HEALTH_TYP_2.0', 0.15403303618104044)\n",
      "\n",
      "Bottom 5 Features:\n",
      "('SEMIO_MAT_6.0', -0.14982131105934648)\n",
      "('SEMIO_SOZ_3.0', -0.1498657555884917)\n",
      "('SEMIO_VERT_7.0', -0.18006524935894905)\n",
      "('SEMIO_FAM_6.0', -0.20983023983385668)\n",
      "('ANREDE_KZ_1.0', -0.39285605848222904)\n",
      "\n"
     ]
    },
    {
     "data": {
      "application/vnd.plotly.v1+json": {
       "config": {
        "plotlyServerURL": "https://plot.ly"
       },
       "data": [
        {
         "alignmentgroup": "True",
         "hovertemplate": "Features=%{x}<br>Weight=%{marker.color}<extra></extra>",
         "legendgroup": "",
         "marker": {
          "color": [
           0.39285605848222904,
           0.19511371390278381,
           0.18006524935894905,
           0.17997218553398084,
           0.15403303618104044,
           -0.14982131105934648,
           -0.1498657555884917,
           -0.18006524935894905,
           -0.20983023983385668,
           -0.39285605848222904
          ],
          "coloraxis": "coloraxis",
          "pattern": {
           "shape": ""
          }
         },
         "name": "",
         "offsetgroup": "",
         "orientation": "v",
         "showlegend": false,
         "textposition": "auto",
         "type": "bar",
         "x": [
          "ANREDE_KZ_2.0",
          "SEMIO_VERT_4.0",
          "SEMIO_KRIT_7.0",
          "SEMIO_DOM_6.0",
          "HEALTH_TYP_2.0",
          "SEMIO_MAT_6.0",
          "SEMIO_SOZ_3.0",
          "SEMIO_VERT_7.0",
          "SEMIO_FAM_6.0",
          "ANREDE_KZ_1.0"
         ],
         "xaxis": "x",
         "y": [
          0.39285605848222904,
          0.19511371390278381,
          0.18006524935894905,
          0.17997218553398084,
          0.15403303618104044,
          -0.14982131105934648,
          -0.1498657555884917,
          -0.18006524935894905,
          -0.20983023983385668,
          -0.39285605848222904
         ],
         "yaxis": "y"
        }
       ],
       "layout": {
        "barmode": "relative",
        "coloraxis": {
         "colorbar": {
          "title": {
           "text": "Weight"
          }
         },
         "colorscale": [
          [
           0,
           "rgb(255,255,217)"
          ],
          [
           0.125,
           "rgb(237,248,177)"
          ],
          [
           0.25,
           "rgb(199,233,180)"
          ],
          [
           0.375,
           "rgb(127,205,187)"
          ],
          [
           0.5,
           "rgb(65,182,196)"
          ],
          [
           0.625,
           "rgb(29,145,192)"
          ],
          [
           0.75,
           "rgb(34,94,168)"
          ],
          [
           0.875,
           "rgb(37,52,148)"
          ],
          [
           1,
           "rgb(8,29,88)"
          ]
         ]
        },
        "height": 450,
        "legend": {
         "tracegroupgap": 0
        },
        "margin": {
         "t": 60
        },
        "template": {
         "data": {
          "bar": [
           {
            "error_x": {
             "color": "#2a3f5f"
            },
            "error_y": {
             "color": "#2a3f5f"
            },
            "marker": {
             "line": {
              "color": "#E5ECF6",
              "width": 0.5
             },
             "pattern": {
              "fillmode": "overlay",
              "size": 10,
              "solidity": 0.2
             }
            },
            "type": "bar"
           }
          ],
          "barpolar": [
           {
            "marker": {
             "line": {
              "color": "#E5ECF6",
              "width": 0.5
             },
             "pattern": {
              "fillmode": "overlay",
              "size": 10,
              "solidity": 0.2
             }
            },
            "type": "barpolar"
           }
          ],
          "carpet": [
           {
            "aaxis": {
             "endlinecolor": "#2a3f5f",
             "gridcolor": "white",
             "linecolor": "white",
             "minorgridcolor": "white",
             "startlinecolor": "#2a3f5f"
            },
            "baxis": {
             "endlinecolor": "#2a3f5f",
             "gridcolor": "white",
             "linecolor": "white",
             "minorgridcolor": "white",
             "startlinecolor": "#2a3f5f"
            },
            "type": "carpet"
           }
          ],
          "choropleth": [
           {
            "colorbar": {
             "outlinewidth": 0,
             "ticks": ""
            },
            "type": "choropleth"
           }
          ],
          "contour": [
           {
            "colorbar": {
             "outlinewidth": 0,
             "ticks": ""
            },
            "colorscale": [
             [
              0,
              "#0d0887"
             ],
             [
              0.1111111111111111,
              "#46039f"
             ],
             [
              0.2222222222222222,
              "#7201a8"
             ],
             [
              0.3333333333333333,
              "#9c179e"
             ],
             [
              0.4444444444444444,
              "#bd3786"
             ],
             [
              0.5555555555555556,
              "#d8576b"
             ],
             [
              0.6666666666666666,
              "#ed7953"
             ],
             [
              0.7777777777777778,
              "#fb9f3a"
             ],
             [
              0.8888888888888888,
              "#fdca26"
             ],
             [
              1,
              "#f0f921"
             ]
            ],
            "type": "contour"
           }
          ],
          "contourcarpet": [
           {
            "colorbar": {
             "outlinewidth": 0,
             "ticks": ""
            },
            "type": "contourcarpet"
           }
          ],
          "heatmap": [
           {
            "colorbar": {
             "outlinewidth": 0,
             "ticks": ""
            },
            "colorscale": [
             [
              0,
              "#0d0887"
             ],
             [
              0.1111111111111111,
              "#46039f"
             ],
             [
              0.2222222222222222,
              "#7201a8"
             ],
             [
              0.3333333333333333,
              "#9c179e"
             ],
             [
              0.4444444444444444,
              "#bd3786"
             ],
             [
              0.5555555555555556,
              "#d8576b"
             ],
             [
              0.6666666666666666,
              "#ed7953"
             ],
             [
              0.7777777777777778,
              "#fb9f3a"
             ],
             [
              0.8888888888888888,
              "#fdca26"
             ],
             [
              1,
              "#f0f921"
             ]
            ],
            "type": "heatmap"
           }
          ],
          "heatmapgl": [
           {
            "colorbar": {
             "outlinewidth": 0,
             "ticks": ""
            },
            "colorscale": [
             [
              0,
              "#0d0887"
             ],
             [
              0.1111111111111111,
              "#46039f"
             ],
             [
              0.2222222222222222,
              "#7201a8"
             ],
             [
              0.3333333333333333,
              "#9c179e"
             ],
             [
              0.4444444444444444,
              "#bd3786"
             ],
             [
              0.5555555555555556,
              "#d8576b"
             ],
             [
              0.6666666666666666,
              "#ed7953"
             ],
             [
              0.7777777777777778,
              "#fb9f3a"
             ],
             [
              0.8888888888888888,
              "#fdca26"
             ],
             [
              1,
              "#f0f921"
             ]
            ],
            "type": "heatmapgl"
           }
          ],
          "histogram": [
           {
            "marker": {
             "pattern": {
              "fillmode": "overlay",
              "size": 10,
              "solidity": 0.2
             }
            },
            "type": "histogram"
           }
          ],
          "histogram2d": [
           {
            "colorbar": {
             "outlinewidth": 0,
             "ticks": ""
            },
            "colorscale": [
             [
              0,
              "#0d0887"
             ],
             [
              0.1111111111111111,
              "#46039f"
             ],
             [
              0.2222222222222222,
              "#7201a8"
             ],
             [
              0.3333333333333333,
              "#9c179e"
             ],
             [
              0.4444444444444444,
              "#bd3786"
             ],
             [
              0.5555555555555556,
              "#d8576b"
             ],
             [
              0.6666666666666666,
              "#ed7953"
             ],
             [
              0.7777777777777778,
              "#fb9f3a"
             ],
             [
              0.8888888888888888,
              "#fdca26"
             ],
             [
              1,
              "#f0f921"
             ]
            ],
            "type": "histogram2d"
           }
          ],
          "histogram2dcontour": [
           {
            "colorbar": {
             "outlinewidth": 0,
             "ticks": ""
            },
            "colorscale": [
             [
              0,
              "#0d0887"
             ],
             [
              0.1111111111111111,
              "#46039f"
             ],
             [
              0.2222222222222222,
              "#7201a8"
             ],
             [
              0.3333333333333333,
              "#9c179e"
             ],
             [
              0.4444444444444444,
              "#bd3786"
             ],
             [
              0.5555555555555556,
              "#d8576b"
             ],
             [
              0.6666666666666666,
              "#ed7953"
             ],
             [
              0.7777777777777778,
              "#fb9f3a"
             ],
             [
              0.8888888888888888,
              "#fdca26"
             ],
             [
              1,
              "#f0f921"
             ]
            ],
            "type": "histogram2dcontour"
           }
          ],
          "mesh3d": [
           {
            "colorbar": {
             "outlinewidth": 0,
             "ticks": ""
            },
            "type": "mesh3d"
           }
          ],
          "parcoords": [
           {
            "line": {
             "colorbar": {
              "outlinewidth": 0,
              "ticks": ""
             }
            },
            "type": "parcoords"
           }
          ],
          "pie": [
           {
            "automargin": true,
            "type": "pie"
           }
          ],
          "scatter": [
           {
            "marker": {
             "colorbar": {
              "outlinewidth": 0,
              "ticks": ""
             }
            },
            "type": "scatter"
           }
          ],
          "scatter3d": [
           {
            "line": {
             "colorbar": {
              "outlinewidth": 0,
              "ticks": ""
             }
            },
            "marker": {
             "colorbar": {
              "outlinewidth": 0,
              "ticks": ""
             }
            },
            "type": "scatter3d"
           }
          ],
          "scattercarpet": [
           {
            "marker": {
             "colorbar": {
              "outlinewidth": 0,
              "ticks": ""
             }
            },
            "type": "scattercarpet"
           }
          ],
          "scattergeo": [
           {
            "marker": {
             "colorbar": {
              "outlinewidth": 0,
              "ticks": ""
             }
            },
            "type": "scattergeo"
           }
          ],
          "scattergl": [
           {
            "marker": {
             "colorbar": {
              "outlinewidth": 0,
              "ticks": ""
             }
            },
            "type": "scattergl"
           }
          ],
          "scattermapbox": [
           {
            "marker": {
             "colorbar": {
              "outlinewidth": 0,
              "ticks": ""
             }
            },
            "type": "scattermapbox"
           }
          ],
          "scatterpolar": [
           {
            "marker": {
             "colorbar": {
              "outlinewidth": 0,
              "ticks": ""
             }
            },
            "type": "scatterpolar"
           }
          ],
          "scatterpolargl": [
           {
            "marker": {
             "colorbar": {
              "outlinewidth": 0,
              "ticks": ""
             }
            },
            "type": "scatterpolargl"
           }
          ],
          "scatterternary": [
           {
            "marker": {
             "colorbar": {
              "outlinewidth": 0,
              "ticks": ""
             }
            },
            "type": "scatterternary"
           }
          ],
          "surface": [
           {
            "colorbar": {
             "outlinewidth": 0,
             "ticks": ""
            },
            "colorscale": [
             [
              0,
              "#0d0887"
             ],
             [
              0.1111111111111111,
              "#46039f"
             ],
             [
              0.2222222222222222,
              "#7201a8"
             ],
             [
              0.3333333333333333,
              "#9c179e"
             ],
             [
              0.4444444444444444,
              "#bd3786"
             ],
             [
              0.5555555555555556,
              "#d8576b"
             ],
             [
              0.6666666666666666,
              "#ed7953"
             ],
             [
              0.7777777777777778,
              "#fb9f3a"
             ],
             [
              0.8888888888888888,
              "#fdca26"
             ],
             [
              1,
              "#f0f921"
             ]
            ],
            "type": "surface"
           }
          ],
          "table": [
           {
            "cells": {
             "fill": {
              "color": "#EBF0F8"
             },
             "line": {
              "color": "white"
             }
            },
            "header": {
             "fill": {
              "color": "#C8D4E3"
             },
             "line": {
              "color": "white"
             }
            },
            "type": "table"
           }
          ]
         },
         "layout": {
          "annotationdefaults": {
           "arrowcolor": "#2a3f5f",
           "arrowhead": 0,
           "arrowwidth": 1
          },
          "autotypenumbers": "strict",
          "coloraxis": {
           "colorbar": {
            "outlinewidth": 0,
            "ticks": ""
           }
          },
          "colorscale": {
           "diverging": [
            [
             0,
             "#8e0152"
            ],
            [
             0.1,
             "#c51b7d"
            ],
            [
             0.2,
             "#de77ae"
            ],
            [
             0.3,
             "#f1b6da"
            ],
            [
             0.4,
             "#fde0ef"
            ],
            [
             0.5,
             "#f7f7f7"
            ],
            [
             0.6,
             "#e6f5d0"
            ],
            [
             0.7,
             "#b8e186"
            ],
            [
             0.8,
             "#7fbc41"
            ],
            [
             0.9,
             "#4d9221"
            ],
            [
             1,
             "#276419"
            ]
           ],
           "sequential": [
            [
             0,
             "#0d0887"
            ],
            [
             0.1111111111111111,
             "#46039f"
            ],
            [
             0.2222222222222222,
             "#7201a8"
            ],
            [
             0.3333333333333333,
             "#9c179e"
            ],
            [
             0.4444444444444444,
             "#bd3786"
            ],
            [
             0.5555555555555556,
             "#d8576b"
            ],
            [
             0.6666666666666666,
             "#ed7953"
            ],
            [
             0.7777777777777778,
             "#fb9f3a"
            ],
            [
             0.8888888888888888,
             "#fdca26"
            ],
            [
             1,
             "#f0f921"
            ]
           ],
           "sequentialminus": [
            [
             0,
             "#0d0887"
            ],
            [
             0.1111111111111111,
             "#46039f"
            ],
            [
             0.2222222222222222,
             "#7201a8"
            ],
            [
             0.3333333333333333,
             "#9c179e"
            ],
            [
             0.4444444444444444,
             "#bd3786"
            ],
            [
             0.5555555555555556,
             "#d8576b"
            ],
            [
             0.6666666666666666,
             "#ed7953"
            ],
            [
             0.7777777777777778,
             "#fb9f3a"
            ],
            [
             0.8888888888888888,
             "#fdca26"
            ],
            [
             1,
             "#f0f921"
            ]
           ]
          },
          "colorway": [
           "#636efa",
           "#EF553B",
           "#00cc96",
           "#ab63fa",
           "#FFA15A",
           "#19d3f3",
           "#FF6692",
           "#B6E880",
           "#FF97FF",
           "#FECB52"
          ],
          "font": {
           "color": "#2a3f5f"
          },
          "geo": {
           "bgcolor": "white",
           "lakecolor": "white",
           "landcolor": "#E5ECF6",
           "showlakes": true,
           "showland": true,
           "subunitcolor": "white"
          },
          "hoverlabel": {
           "align": "left"
          },
          "hovermode": "closest",
          "mapbox": {
           "style": "light"
          },
          "paper_bgcolor": "white",
          "plot_bgcolor": "#E5ECF6",
          "polar": {
           "angularaxis": {
            "gridcolor": "white",
            "linecolor": "white",
            "ticks": ""
           },
           "bgcolor": "#E5ECF6",
           "radialaxis": {
            "gridcolor": "white",
            "linecolor": "white",
            "ticks": ""
           }
          },
          "scene": {
           "xaxis": {
            "backgroundcolor": "#E5ECF6",
            "gridcolor": "white",
            "gridwidth": 2,
            "linecolor": "white",
            "showbackground": true,
            "ticks": "",
            "zerolinecolor": "white"
           },
           "yaxis": {
            "backgroundcolor": "#E5ECF6",
            "gridcolor": "white",
            "gridwidth": 2,
            "linecolor": "white",
            "showbackground": true,
            "ticks": "",
            "zerolinecolor": "white"
           },
           "zaxis": {
            "backgroundcolor": "#E5ECF6",
            "gridcolor": "white",
            "gridwidth": 2,
            "linecolor": "white",
            "showbackground": true,
            "ticks": "",
            "zerolinecolor": "white"
           }
          },
          "shapedefaults": {
           "line": {
            "color": "#2a3f5f"
           }
          },
          "ternary": {
           "aaxis": {
            "gridcolor": "white",
            "linecolor": "white",
            "ticks": ""
           },
           "baxis": {
            "gridcolor": "white",
            "linecolor": "white",
            "ticks": ""
           },
           "bgcolor": "#E5ECF6",
           "caxis": {
            "gridcolor": "white",
            "linecolor": "white",
            "ticks": ""
           }
          },
          "title": {
           "x": 0.05
          },
          "xaxis": {
           "automargin": true,
           "gridcolor": "white",
           "linecolor": "white",
           "ticks": "",
           "title": {
            "standoff": 15
           },
           "zerolinecolor": "white",
           "zerolinewidth": 2
          },
          "yaxis": {
           "automargin": true,
           "gridcolor": "white",
           "linecolor": "white",
           "ticks": "",
           "title": {
            "standoff": 15
           },
           "zerolinecolor": "white",
           "zerolinewidth": 2
          }
         }
        },
        "width": 650,
        "xaxis": {
         "anchor": "y",
         "domain": [
          0,
          1
         ],
         "title": {
          "text": "Features"
         }
        },
        "yaxis": {
         "anchor": "x",
         "domain": [
          0,
          1
         ],
         "title": {
          "text": "Weight"
         }
        }
       }
      }
     },
     "metadata": {},
     "output_type": "display_data"
    }
   ],
   "source": [
    "# Map weights for the second principal component to corresponding feature names.\n",
    "map_pca_weights(azdias, 2, 5)"
   ]
  },
  {
   "cell_type": "code",
   "execution_count": 77,
   "metadata": {},
   "outputs": [
    {
     "name": "stdout",
     "output_type": "stream",
     "text": [
      "Top 5 Features:\n",
      "('SEMIO_LUST_2.0', 0.2178352862906943)\n",
      "('SEMIO_PFLICHT_5.0', 0.18157722822665542)\n",
      "('PRAEGENDE_JUGENDJAHRE_DECADE_90.0', 0.1649213730097356)\n",
      "('FINANZ_UNAUFFAELLIGER_5.0', 0.16419742527547146)\n",
      "('SEMIO_DOM_2.0', 0.13548332563031906)\n",
      "\n",
      "Bottom 5 Features:\n",
      "('FINANZTYP_2.0', -0.16414840782201173)\n",
      "('FINANZ_VORSORGER_5.0', -0.16767655237162496)\n",
      "('SEMIO_PFLICHT_4.0', -0.1815898400590127)\n",
      "('SEMIO_LUST_5.0', -0.19061419855528877)\n",
      "('ZABEOTYP_3.0', -0.22157428989202205)\n",
      "\n"
     ]
    },
    {
     "data": {
      "application/vnd.plotly.v1+json": {
       "config": {
        "plotlyServerURL": "https://plot.ly"
       },
       "data": [
        {
         "alignmentgroup": "True",
         "hovertemplate": "Features=%{x}<br>Weight=%{marker.color}<extra></extra>",
         "legendgroup": "",
         "marker": {
          "color": [
           0.2178352862906943,
           0.18157722822665542,
           0.1649213730097356,
           0.16419742527547146,
           0.13548332563031906,
           -0.16414840782201173,
           -0.16767655237162496,
           -0.1815898400590127,
           -0.19061419855528877,
           -0.22157428989202205
          ],
          "coloraxis": "coloraxis",
          "pattern": {
           "shape": ""
          }
         },
         "name": "",
         "offsetgroup": "",
         "orientation": "v",
         "showlegend": false,
         "textposition": "auto",
         "type": "bar",
         "x": [
          "SEMIO_LUST_2.0",
          "SEMIO_PFLICHT_5.0",
          "PRAEGENDE_JUGENDJAHRE_DECADE_90.0",
          "FINANZ_UNAUFFAELLIGER_5.0",
          "SEMIO_DOM_2.0",
          "FINANZTYP_2.0",
          "FINANZ_VORSORGER_5.0",
          "SEMIO_PFLICHT_4.0",
          "SEMIO_LUST_5.0",
          "ZABEOTYP_3.0"
         ],
         "xaxis": "x",
         "y": [
          0.2178352862906943,
          0.18157722822665542,
          0.1649213730097356,
          0.16419742527547146,
          0.13548332563031906,
          -0.16414840782201173,
          -0.16767655237162496,
          -0.1815898400590127,
          -0.19061419855528877,
          -0.22157428989202205
         ],
         "yaxis": "y"
        }
       ],
       "layout": {
        "barmode": "relative",
        "coloraxis": {
         "colorbar": {
          "title": {
           "text": "Weight"
          }
         },
         "colorscale": [
          [
           0,
           "rgb(255,255,217)"
          ],
          [
           0.125,
           "rgb(237,248,177)"
          ],
          [
           0.25,
           "rgb(199,233,180)"
          ],
          [
           0.375,
           "rgb(127,205,187)"
          ],
          [
           0.5,
           "rgb(65,182,196)"
          ],
          [
           0.625,
           "rgb(29,145,192)"
          ],
          [
           0.75,
           "rgb(34,94,168)"
          ],
          [
           0.875,
           "rgb(37,52,148)"
          ],
          [
           1,
           "rgb(8,29,88)"
          ]
         ]
        },
        "height": 450,
        "legend": {
         "tracegroupgap": 0
        },
        "margin": {
         "t": 60
        },
        "template": {
         "data": {
          "bar": [
           {
            "error_x": {
             "color": "#2a3f5f"
            },
            "error_y": {
             "color": "#2a3f5f"
            },
            "marker": {
             "line": {
              "color": "#E5ECF6",
              "width": 0.5
             },
             "pattern": {
              "fillmode": "overlay",
              "size": 10,
              "solidity": 0.2
             }
            },
            "type": "bar"
           }
          ],
          "barpolar": [
           {
            "marker": {
             "line": {
              "color": "#E5ECF6",
              "width": 0.5
             },
             "pattern": {
              "fillmode": "overlay",
              "size": 10,
              "solidity": 0.2
             }
            },
            "type": "barpolar"
           }
          ],
          "carpet": [
           {
            "aaxis": {
             "endlinecolor": "#2a3f5f",
             "gridcolor": "white",
             "linecolor": "white",
             "minorgridcolor": "white",
             "startlinecolor": "#2a3f5f"
            },
            "baxis": {
             "endlinecolor": "#2a3f5f",
             "gridcolor": "white",
             "linecolor": "white",
             "minorgridcolor": "white",
             "startlinecolor": "#2a3f5f"
            },
            "type": "carpet"
           }
          ],
          "choropleth": [
           {
            "colorbar": {
             "outlinewidth": 0,
             "ticks": ""
            },
            "type": "choropleth"
           }
          ],
          "contour": [
           {
            "colorbar": {
             "outlinewidth": 0,
             "ticks": ""
            },
            "colorscale": [
             [
              0,
              "#0d0887"
             ],
             [
              0.1111111111111111,
              "#46039f"
             ],
             [
              0.2222222222222222,
              "#7201a8"
             ],
             [
              0.3333333333333333,
              "#9c179e"
             ],
             [
              0.4444444444444444,
              "#bd3786"
             ],
             [
              0.5555555555555556,
              "#d8576b"
             ],
             [
              0.6666666666666666,
              "#ed7953"
             ],
             [
              0.7777777777777778,
              "#fb9f3a"
             ],
             [
              0.8888888888888888,
              "#fdca26"
             ],
             [
              1,
              "#f0f921"
             ]
            ],
            "type": "contour"
           }
          ],
          "contourcarpet": [
           {
            "colorbar": {
             "outlinewidth": 0,
             "ticks": ""
            },
            "type": "contourcarpet"
           }
          ],
          "heatmap": [
           {
            "colorbar": {
             "outlinewidth": 0,
             "ticks": ""
            },
            "colorscale": [
             [
              0,
              "#0d0887"
             ],
             [
              0.1111111111111111,
              "#46039f"
             ],
             [
              0.2222222222222222,
              "#7201a8"
             ],
             [
              0.3333333333333333,
              "#9c179e"
             ],
             [
              0.4444444444444444,
              "#bd3786"
             ],
             [
              0.5555555555555556,
              "#d8576b"
             ],
             [
              0.6666666666666666,
              "#ed7953"
             ],
             [
              0.7777777777777778,
              "#fb9f3a"
             ],
             [
              0.8888888888888888,
              "#fdca26"
             ],
             [
              1,
              "#f0f921"
             ]
            ],
            "type": "heatmap"
           }
          ],
          "heatmapgl": [
           {
            "colorbar": {
             "outlinewidth": 0,
             "ticks": ""
            },
            "colorscale": [
             [
              0,
              "#0d0887"
             ],
             [
              0.1111111111111111,
              "#46039f"
             ],
             [
              0.2222222222222222,
              "#7201a8"
             ],
             [
              0.3333333333333333,
              "#9c179e"
             ],
             [
              0.4444444444444444,
              "#bd3786"
             ],
             [
              0.5555555555555556,
              "#d8576b"
             ],
             [
              0.6666666666666666,
              "#ed7953"
             ],
             [
              0.7777777777777778,
              "#fb9f3a"
             ],
             [
              0.8888888888888888,
              "#fdca26"
             ],
             [
              1,
              "#f0f921"
             ]
            ],
            "type": "heatmapgl"
           }
          ],
          "histogram": [
           {
            "marker": {
             "pattern": {
              "fillmode": "overlay",
              "size": 10,
              "solidity": 0.2
             }
            },
            "type": "histogram"
           }
          ],
          "histogram2d": [
           {
            "colorbar": {
             "outlinewidth": 0,
             "ticks": ""
            },
            "colorscale": [
             [
              0,
              "#0d0887"
             ],
             [
              0.1111111111111111,
              "#46039f"
             ],
             [
              0.2222222222222222,
              "#7201a8"
             ],
             [
              0.3333333333333333,
              "#9c179e"
             ],
             [
              0.4444444444444444,
              "#bd3786"
             ],
             [
              0.5555555555555556,
              "#d8576b"
             ],
             [
              0.6666666666666666,
              "#ed7953"
             ],
             [
              0.7777777777777778,
              "#fb9f3a"
             ],
             [
              0.8888888888888888,
              "#fdca26"
             ],
             [
              1,
              "#f0f921"
             ]
            ],
            "type": "histogram2d"
           }
          ],
          "histogram2dcontour": [
           {
            "colorbar": {
             "outlinewidth": 0,
             "ticks": ""
            },
            "colorscale": [
             [
              0,
              "#0d0887"
             ],
             [
              0.1111111111111111,
              "#46039f"
             ],
             [
              0.2222222222222222,
              "#7201a8"
             ],
             [
              0.3333333333333333,
              "#9c179e"
             ],
             [
              0.4444444444444444,
              "#bd3786"
             ],
             [
              0.5555555555555556,
              "#d8576b"
             ],
             [
              0.6666666666666666,
              "#ed7953"
             ],
             [
              0.7777777777777778,
              "#fb9f3a"
             ],
             [
              0.8888888888888888,
              "#fdca26"
             ],
             [
              1,
              "#f0f921"
             ]
            ],
            "type": "histogram2dcontour"
           }
          ],
          "mesh3d": [
           {
            "colorbar": {
             "outlinewidth": 0,
             "ticks": ""
            },
            "type": "mesh3d"
           }
          ],
          "parcoords": [
           {
            "line": {
             "colorbar": {
              "outlinewidth": 0,
              "ticks": ""
             }
            },
            "type": "parcoords"
           }
          ],
          "pie": [
           {
            "automargin": true,
            "type": "pie"
           }
          ],
          "scatter": [
           {
            "marker": {
             "colorbar": {
              "outlinewidth": 0,
              "ticks": ""
             }
            },
            "type": "scatter"
           }
          ],
          "scatter3d": [
           {
            "line": {
             "colorbar": {
              "outlinewidth": 0,
              "ticks": ""
             }
            },
            "marker": {
             "colorbar": {
              "outlinewidth": 0,
              "ticks": ""
             }
            },
            "type": "scatter3d"
           }
          ],
          "scattercarpet": [
           {
            "marker": {
             "colorbar": {
              "outlinewidth": 0,
              "ticks": ""
             }
            },
            "type": "scattercarpet"
           }
          ],
          "scattergeo": [
           {
            "marker": {
             "colorbar": {
              "outlinewidth": 0,
              "ticks": ""
             }
            },
            "type": "scattergeo"
           }
          ],
          "scattergl": [
           {
            "marker": {
             "colorbar": {
              "outlinewidth": 0,
              "ticks": ""
             }
            },
            "type": "scattergl"
           }
          ],
          "scattermapbox": [
           {
            "marker": {
             "colorbar": {
              "outlinewidth": 0,
              "ticks": ""
             }
            },
            "type": "scattermapbox"
           }
          ],
          "scatterpolar": [
           {
            "marker": {
             "colorbar": {
              "outlinewidth": 0,
              "ticks": ""
             }
            },
            "type": "scatterpolar"
           }
          ],
          "scatterpolargl": [
           {
            "marker": {
             "colorbar": {
              "outlinewidth": 0,
              "ticks": ""
             }
            },
            "type": "scatterpolargl"
           }
          ],
          "scatterternary": [
           {
            "marker": {
             "colorbar": {
              "outlinewidth": 0,
              "ticks": ""
             }
            },
            "type": "scatterternary"
           }
          ],
          "surface": [
           {
            "colorbar": {
             "outlinewidth": 0,
             "ticks": ""
            },
            "colorscale": [
             [
              0,
              "#0d0887"
             ],
             [
              0.1111111111111111,
              "#46039f"
             ],
             [
              0.2222222222222222,
              "#7201a8"
             ],
             [
              0.3333333333333333,
              "#9c179e"
             ],
             [
              0.4444444444444444,
              "#bd3786"
             ],
             [
              0.5555555555555556,
              "#d8576b"
             ],
             [
              0.6666666666666666,
              "#ed7953"
             ],
             [
              0.7777777777777778,
              "#fb9f3a"
             ],
             [
              0.8888888888888888,
              "#fdca26"
             ],
             [
              1,
              "#f0f921"
             ]
            ],
            "type": "surface"
           }
          ],
          "table": [
           {
            "cells": {
             "fill": {
              "color": "#EBF0F8"
             },
             "line": {
              "color": "white"
             }
            },
            "header": {
             "fill": {
              "color": "#C8D4E3"
             },
             "line": {
              "color": "white"
             }
            },
            "type": "table"
           }
          ]
         },
         "layout": {
          "annotationdefaults": {
           "arrowcolor": "#2a3f5f",
           "arrowhead": 0,
           "arrowwidth": 1
          },
          "autotypenumbers": "strict",
          "coloraxis": {
           "colorbar": {
            "outlinewidth": 0,
            "ticks": ""
           }
          },
          "colorscale": {
           "diverging": [
            [
             0,
             "#8e0152"
            ],
            [
             0.1,
             "#c51b7d"
            ],
            [
             0.2,
             "#de77ae"
            ],
            [
             0.3,
             "#f1b6da"
            ],
            [
             0.4,
             "#fde0ef"
            ],
            [
             0.5,
             "#f7f7f7"
            ],
            [
             0.6,
             "#e6f5d0"
            ],
            [
             0.7,
             "#b8e186"
            ],
            [
             0.8,
             "#7fbc41"
            ],
            [
             0.9,
             "#4d9221"
            ],
            [
             1,
             "#276419"
            ]
           ],
           "sequential": [
            [
             0,
             "#0d0887"
            ],
            [
             0.1111111111111111,
             "#46039f"
            ],
            [
             0.2222222222222222,
             "#7201a8"
            ],
            [
             0.3333333333333333,
             "#9c179e"
            ],
            [
             0.4444444444444444,
             "#bd3786"
            ],
            [
             0.5555555555555556,
             "#d8576b"
            ],
            [
             0.6666666666666666,
             "#ed7953"
            ],
            [
             0.7777777777777778,
             "#fb9f3a"
            ],
            [
             0.8888888888888888,
             "#fdca26"
            ],
            [
             1,
             "#f0f921"
            ]
           ],
           "sequentialminus": [
            [
             0,
             "#0d0887"
            ],
            [
             0.1111111111111111,
             "#46039f"
            ],
            [
             0.2222222222222222,
             "#7201a8"
            ],
            [
             0.3333333333333333,
             "#9c179e"
            ],
            [
             0.4444444444444444,
             "#bd3786"
            ],
            [
             0.5555555555555556,
             "#d8576b"
            ],
            [
             0.6666666666666666,
             "#ed7953"
            ],
            [
             0.7777777777777778,
             "#fb9f3a"
            ],
            [
             0.8888888888888888,
             "#fdca26"
            ],
            [
             1,
             "#f0f921"
            ]
           ]
          },
          "colorway": [
           "#636efa",
           "#EF553B",
           "#00cc96",
           "#ab63fa",
           "#FFA15A",
           "#19d3f3",
           "#FF6692",
           "#B6E880",
           "#FF97FF",
           "#FECB52"
          ],
          "font": {
           "color": "#2a3f5f"
          },
          "geo": {
           "bgcolor": "white",
           "lakecolor": "white",
           "landcolor": "#E5ECF6",
           "showlakes": true,
           "showland": true,
           "subunitcolor": "white"
          },
          "hoverlabel": {
           "align": "left"
          },
          "hovermode": "closest",
          "mapbox": {
           "style": "light"
          },
          "paper_bgcolor": "white",
          "plot_bgcolor": "#E5ECF6",
          "polar": {
           "angularaxis": {
            "gridcolor": "white",
            "linecolor": "white",
            "ticks": ""
           },
           "bgcolor": "#E5ECF6",
           "radialaxis": {
            "gridcolor": "white",
            "linecolor": "white",
            "ticks": ""
           }
          },
          "scene": {
           "xaxis": {
            "backgroundcolor": "#E5ECF6",
            "gridcolor": "white",
            "gridwidth": 2,
            "linecolor": "white",
            "showbackground": true,
            "ticks": "",
            "zerolinecolor": "white"
           },
           "yaxis": {
            "backgroundcolor": "#E5ECF6",
            "gridcolor": "white",
            "gridwidth": 2,
            "linecolor": "white",
            "showbackground": true,
            "ticks": "",
            "zerolinecolor": "white"
           },
           "zaxis": {
            "backgroundcolor": "#E5ECF6",
            "gridcolor": "white",
            "gridwidth": 2,
            "linecolor": "white",
            "showbackground": true,
            "ticks": "",
            "zerolinecolor": "white"
           }
          },
          "shapedefaults": {
           "line": {
            "color": "#2a3f5f"
           }
          },
          "ternary": {
           "aaxis": {
            "gridcolor": "white",
            "linecolor": "white",
            "ticks": ""
           },
           "baxis": {
            "gridcolor": "white",
            "linecolor": "white",
            "ticks": ""
           },
           "bgcolor": "#E5ECF6",
           "caxis": {
            "gridcolor": "white",
            "linecolor": "white",
            "ticks": ""
           }
          },
          "title": {
           "x": 0.05
          },
          "xaxis": {
           "automargin": true,
           "gridcolor": "white",
           "linecolor": "white",
           "ticks": "",
           "title": {
            "standoff": 15
           },
           "zerolinecolor": "white",
           "zerolinewidth": 2
          },
          "yaxis": {
           "automargin": true,
           "gridcolor": "white",
           "linecolor": "white",
           "ticks": "",
           "title": {
            "standoff": 15
           },
           "zerolinecolor": "white",
           "zerolinewidth": 2
          }
         }
        },
        "width": 650,
        "xaxis": {
         "anchor": "y",
         "domain": [
          0,
          1
         ],
         "title": {
          "text": "Features"
         }
        },
        "yaxis": {
         "anchor": "x",
         "domain": [
          0,
          1
         ],
         "title": {
          "text": "Weight"
         }
        }
       }
      }
     },
     "metadata": {},
     "output_type": "display_data"
    }
   ],
   "source": [
    "# Map weights for the third principal component to corresponding feature names\n",
    "map_pca_weights(azdias, 3, 5)"
   ]
  },
  {
   "cell_type": "markdown",
   "metadata": {},
   "source": [
    "### Discussion 2.3: Interpret Principal Components\n",
    "\n",
    "- The first component appears to be driven by a mix of different features. The most impactful are all loosely related to status (e.g. building location/type, academic title holders, number of households, distance to urban center).\n",
    "- The second component is influenced by a combination of personality and financial features.\n",
    "- The third component is primarily driven by personality features."
   ]
  },
  {
   "cell_type": "markdown",
   "metadata": {},
   "source": [
    "## Step 3: Clustering\n",
    "\n",
    "### Step 3.1: Apply Clustering to General Population\n",
    "\n",
    "You've assessed and cleaned the demographics data, then scaled and transformed them. Now, it's time to see how the data clusters in the principal components space. In this substep, you will apply k-means clustering to the dataset and use the average within-cluster distances from each point to their assigned cluster's centroid to decide on a number of clusters to keep.\n",
    "\n",
    "- Use sklearn's [KMeans](http://scikit-learn.org/stable/modules/generated/sklearn.cluster.KMeans.html#sklearn.cluster.KMeans) class to perform k-means clustering on the PCA-transformed data.\n",
    "- Then, compute the average difference from each point to its assigned cluster's center. **Hint**: The KMeans object's `.score()` method might be useful here, but note that in sklearn, scores tend to be defined so that larger is better. Try applying it to a small, toy dataset, or use an internet search to help your understanding.\n",
    "- Perform the above two steps for a number of different cluster counts. You can then see how the average distance decreases with an increasing number of clusters. However, each additional cluster provides a smaller net benefit. Use this fact to select a final number of clusters in which to group the data. **Warning**: because of the large size of the dataset, it can take a long time for the algorithm to resolve. The more clusters to fit, the longer the algorithm will take. You should test for cluster counts through at least 10 clusters to get the full picture, but you shouldn't need to test for a number of clusters above about 30.\n",
    "- Once you've selected a final number of clusters to use, re-fit a KMeans instance to perform the clustering operation. Make sure that you also obtain the cluster assignments for the general demographics data, since you'll be using them in the final Step 3.3."
   ]
  },
  {
   "cell_type": "markdown",
   "metadata": {},
   "source": [
    "> Over a number of different cluster counts, run k-means clustering on the data and compute the average within-cluster distances."
   ]
  },
  {
   "cell_type": "code",
   "execution_count": 78,
   "metadata": {},
   "outputs": [
    {
     "name": "stdout",
     "output_type": "stream",
     "text": [
      "Score for 1 clusters: 1237929.36\n",
      "Score for 2 clusters: 843505.96\n",
      "Score for 3 clusters: 737533.25\n",
      "Score for 4 clusters: 664743.04\n",
      "Score for 5 clusters: 616866.91\n",
      "Score for 6 clusters: 574876.34\n",
      "Score for 7 clusters: 535787.82\n",
      "Score for 8 clusters: 505670.87\n",
      "Score for 9 clusters: 482927.64\n",
      "Score for 10 clusters: 462376.28\n",
      "Score for 11 clusters: 444284.79\n",
      "Score for 12 clusters: 436444.02\n",
      "Score for 13 clusters: 431521.48\n",
      "Score for 14 clusters: 420944.1\n",
      "Score for 15 clusters: 416221.96\n",
      "Score for 16 clusters: 406143.27\n",
      "Score for 17 clusters: 401774.86\n",
      "Score for 18 clusters: 395889.89\n",
      "Score for 19 clusters: 390796.39\n",
      "Score for 20 clusters: 387922.94\n",
      "\n",
      "Total time to score: 27.66 seconds.\n"
     ]
    }
   ],
   "source": [
    "# run k-means clustering over a number of different cluster counts\n",
    "scores = []\n",
    "clusters = np.arange(1,21)\n",
    "start = time.time()\n",
    "\n",
    "for c in clusters:\n",
    "    model = KMeans(c)\n",
    "    model.fit(azdias_pca)\n",
    "    score = round(abs(model.score(azdias_pca)), 2)\n",
    "    scores.append(score)\n",
    "    print(f'Score for {c} clusters: {score}')\n",
    "\n",
    "end = time.time()\n",
    "print(f'\\nTotal time to score: {end - start:.2f} seconds.')"
   ]
  },
  {
   "cell_type": "code",
   "execution_count": 79,
   "metadata": {},
   "outputs": [
    {
     "data": {
      "image/png": "[encoded data removed]",
      "text/plain": [
       "<Figure size 1152x576 with 1 Axes>"
      ]
     },
     "metadata": {},
     "output_type": "display_data"
    }
   ],
   "source": [
    "# Investigate the change in within-cluster distance across number of clusters.\n",
    "plt.figure(figsize=(16,8))\n",
    "plt.plot(clusters, scores, marker='o');\n",
    "plt.xlabel('K');\n",
    "plt.ylabel('SSE');\n",
    "plt.title('SSE vs. K');\n",
    "plt.show()"
   ]
  },
  {
   "cell_type": "markdown",
   "metadata": {},
   "source": [
    "> Re-fit the k-means model with the selected number of clusters and obtain cluster predictions for the general population demographics data."
   ]
  },
  {
   "cell_type": "code",
   "execution_count": 80,
   "metadata": {},
   "outputs": [],
   "source": [
    "# refit k-means model with selected number of clusters\n",
    "final_model = KMeans(12)\n",
    "final_model.fit(azdias_pca)\n",
    "\n",
    "azdias_preds = final_model.predict(azdias_pca)"
   ]
  },
  {
   "cell_type": "markdown",
   "metadata": {},
   "source": [
    "### Discussion 3.1: Apply Clustering to General Population\n",
    "\n",
    "In this section, I fit and scored KMeans using the PCA-transformed dataset. I ran the model using 1 through 20 clusters, and the resulting score is calculated as the distance between records and their corresponding center-point. As the number of clusters increases, the distances between centroid and data points (along with the scores) decrease. \n",
    "\n",
    "To determine how many clusters was appropriate for the final model, I created a chart to visualize the scores for each iteration of the model run in the previous block. Although there isn't a clear 'elbow' in the chart, the scores start to smooth out around 12 clusters."
   ]
  },
  {
   "cell_type": "markdown",
   "metadata": {},
   "source": [
    "### Step 3.2: Apply All Steps to the Customer Data\n",
    "\n",
    "Now that you have clusters and cluster centers for the general population, it's time to see how the customer data maps on to those clusters. Take care to not confuse this for re-fitting all of the models to the customer data. Instead, you're going to use the fits from the general population to clean, transform, and cluster the customer data. In the last step of the project, you will interpret how the general population fits apply to the customer data.\n",
    "\n",
    "- Don't forget when loading in the customers data, that it is semicolon (`;`) delimited.\n",
    "- Apply the same feature wrangling, selection, and engineering steps to the customer demographics using the `clean_data()` function you created earlier. (You can assume that the customer demographics data has similar meaning behind missing data patterns as the general demographics data.)\n",
    "- Use the sklearn objects from the general demographics data, and apply their transformations to the customers data. That is, you should not be using a `.fit()` or `.fit_transform()` method to re-fit the old objects, nor should you be creating new sklearn objects! Carry the data through the feature scaling, PCA, and clustering steps, obtaining cluster assignments for all of the data in the customer demographics data."
   ]
  },
  {
   "cell_type": "code",
   "execution_count": 81,
   "metadata": {},
   "outputs": [],
   "source": [
    "# Load in the customer demographics data.\n",
    "customers_og = pd.read_csv('udacity_customers_subset.csv', delimiter=';')"
   ]
  },
  {
   "cell_type": "markdown",
   "metadata": {},
   "source": [
    "> Apply preprocessing, feature transformation, and clustering from the general demographics onto the customer data, obtaining cluster predictions for the customer demographics data."
   ]
  },
  {
   "cell_type": "code",
   "execution_count": 82,
   "metadata": {},
   "outputs": [
    {
     "name": "stdout",
     "output_type": "stream",
     "text": [
      "New variables for PRAEGENDE_JUGENDJAHRE have been created: PRAEGENDE_JUGENDJAHRE_DECADE, PRAEGENDE_JUGENDJAHRE_MOVEMENT\n",
      "New variables for CAMEO_INTL_2015 have been created: CAMEO_INTL_2015_WEALTH, CAMEO_INTL_2015_LIFESTAGE\n",
      "\n",
      "Features with data type mixed: \n",
      " ['LP_LEBENSPHASE_FEIN' 'LP_LEBENSPHASE_GROB' 'PRAEGENDE_JUGENDJAHRE'\n",
      " 'WOHNLAGE' 'CAMEO_INTL_2015' 'PLZ8_BAUMAX']\n",
      "\n",
      "Values for ANZ_PERSONEN have been grouped...\n",
      "Values for ANZ_TITEL have been grouped...\n",
      "Values for ANZ_HAUSHALTE_AKTIV have been grouped...\n",
      "Values for ANZ_HH_TITEL have been grouped...\n",
      "Values for MIN_GEBAEUDEJAHR have been grouped...\n",
      "Values for KBA13_ANZAHL_PKW have been grouped...\n",
      "\n",
      "Added 80 columns to dataframe:\n",
      "['ALTERSKATEGORIE_GROB_9.0', 'ANZ_HAUSHALTE_AKTIV_0.0', 'ANZ_HAUSHALTE_AKTIV_15.0', 'ANZ_HH_TITEL_1.0', 'ANZ_HH_TITEL_2.0', 'ANZ_PERSONEN_10.0', 'ANZ_TITEL_3.0', 'ANZ_TITEL_4.0', 'ANZ_TITEL_5.0', 'ANZ_TITEL_10.0', 'ARBEIT_5.0', 'BALLRAUM_5.0', 'CAMEO_INTL_2015_LIFESTAGE_2.0', 'CAMEO_INTL_2015_LIFESTAGE_4.0', 'CAMEO_INTL_2015_WEALTH_20.0', 'CAMEO_INTL_2015_WEALTH_50.0', 'EWDICHTE_6.0', 'FINANZ_HAUSBAUER_5.0', 'GEBAEUDETYP_4.0', 'GEBAEUDETYP_5.0', 'GEBAEUDETYP_7.0', 'GEBAEUDETYP_8.0', 'GEBAEUDETYP_RASTER_1.0', 'HH_EINKOMMEN_SCORE_5.0', 'HH_EINKOMMEN_SCORE_6.0', 'INNENSTADT_2.0', 'INNENSTADT_6.0', 'INNENSTADT_8.0', 'KBA13_ANZAHL_PKW_1.0', 'KBA13_ANZAHL_PKW_100.0', 'KBA13_ANZAHL_PKW_200.0', 'KBA13_ANZAHL_PKW_300.0', 'KBA13_ANZAHL_PKW_400.0', 'KBA13_ANZAHL_PKW_500.0', 'KBA13_ANZAHL_PKW_600.0', 'KBA13_ANZAHL_PKW_700.0', 'KBA13_ANZAHL_PKW_900.0', 'KBA13_ANZAHL_PKW_1000.0', 'KKK_2.0', 'KKK_3.0', 'KKK_4.0', 'MIN_GEBAEUDEJAHR_0.0', 'MIN_GEBAEUDEJAHR_2000.0', 'ORTSGR_KLS9_1.0', 'ORTSGR_KLS9_8.0', 'PRAEGENDE_JUGENDJAHRE_DECADE_80.0', 'REGIOTYP_1.0', 'REGIOTYP_2.0', 'REGIOTYP_4.0', 'REGIOTYP_5.0', 'REGIOTYP_6.0', 'REGIOTYP_7.0', 'SEMIO_DOM_7.0', 'SEMIO_ERL_2.0', 'SEMIO_FAM_2.0', 'SEMIO_FAM_3.0', 'SEMIO_KAEM_1.0', 'SEMIO_KRIT_2.0', 'SEMIO_KRIT_6.0', 'SEMIO_KULT_6.0', 'SEMIO_LUST_3.0', 'SEMIO_LUST_7.0', 'SEMIO_MAT_1.0', 'SEMIO_MAT_3.0', 'SEMIO_PFLICHT_1.0', 'SEMIO_PFLICHT_2.0', 'SEMIO_PFLICHT_6.0', 'SEMIO_PFLICHT_7.0', 'SEMIO_RAT_3.0', 'SEMIO_RAT_7.0', 'SEMIO_REL_3.0', 'SEMIO_SOZ_1.0', 'SEMIO_SOZ_5.0', 'SEMIO_SOZ_6.0', 'SEMIO_TRADV_2.0', 'SEMIO_VERT_2.0', 'SEMIO_VERT_3.0', 'SEMIO_VERT_5.0', 'SEMIO_VERT_6.0', 'W_KEIT_KIND_HH_5.0']\n",
      "\n",
      "No columns removed from dataframe...\n",
      "\n",
      "**********\n",
      "\n",
      "Input dataframe shape: (191652, 85)\n",
      "Output dataframe shape: (49939, 375)\n",
      "--- Function run time: 3.9 sec ---\n"
     ]
    }
   ],
   "source": [
    "# preprocess/feature transformation\n",
    "customers = clean_data(customers_og)"
   ]
  },
  {
   "cell_type": "code",
   "execution_count": 83,
   "metadata": {},
   "outputs": [
    {
     "data": {
      "text/plain": [
       "0"
      ]
     },
     "execution_count": 83,
     "metadata": {},
     "output_type": "execute_result"
    }
   ],
   "source": [
    "# check for NaN values\n",
    "customers.isnull().sum().sum()"
   ]
  },
  {
   "cell_type": "code",
   "execution_count": 84,
   "metadata": {},
   "outputs": [
    {
     "name": "stdout",
     "output_type": "stream",
     "text": [
      "(49939, 375)\n"
     ]
    }
   ],
   "source": [
    "# feature scaling\n",
    "customers_std = scaler.transform(customers)\n",
    "print(customers_std.shape)"
   ]
  },
  {
   "cell_type": "code",
   "execution_count": 85,
   "metadata": {},
   "outputs": [
    {
     "name": "stdout",
     "output_type": "stream",
     "text": [
      "(49939, 65)\n"
     ]
    },
    {
     "name": "stderr",
     "output_type": "stream",
     "text": [
      "/Users/ajp/opt/anaconda3/lib/python3.9/site-packages/sklearn/base.py:445: UserWarning:\n",
      "\n",
      "X does not have valid feature names, but PCA was fitted with feature names\n",
      "\n"
     ]
    }
   ],
   "source": [
    "# pca\n",
    "customers_pca = pca.transform(customers_std)\n",
    "print(customers_pca.shape)"
   ]
  },
  {
   "cell_type": "code",
   "execution_count": 86,
   "metadata": {},
   "outputs": [],
   "source": [
    "# cluster predictions\n",
    "customers_preds = final_model.predict(customers_pca)"
   ]
  },
  {
   "cell_type": "markdown",
   "metadata": {},
   "source": [
    "### Step 3.3: Compare Customer Data to Demographics Data\n",
    "\n",
    "At this point, you have clustered data based on demographics of the general population of Germany, and seen how the customer data for a mail-order sales company maps onto those demographic clusters. In this final substep, you will compare the two cluster distributions to see where the strongest customer base for the company is.\n",
    "\n",
    "Consider the proportion of persons in each cluster for the general population, and the proportions for the customers. If we think the company's customer base to be universal, then the cluster assignment proportions should be fairly similar between the two. If there are only particular segments of the population that are interested in the company's products, then we should see a mismatch from one to the other. If there is a higher proportion of persons in a cluster for the customer data compared to the general population (e.g. 5% of persons are assigned to a cluster for the general population, but 15% of the customer data is closest to that cluster's centroid) then that suggests the people in that cluster to be a target audience for the company. On the other hand, the proportion of the data in a cluster being larger in the general population than the customer data (e.g. only 2% of customers closest to a population centroid that captures 6% of the data) suggests that group of persons to be outside of the target demographics.\n",
    "\n",
    "Take a look at the following points in this step:\n",
    "\n",
    "- Compute the proportion of data points in each cluster for the general population and the customer data. Visualizations will be useful here: both for the individual dataset proportions, but also to visualize the ratios in cluster representation between groups. Seaborn's [`countplot()`](https://seaborn.pydata.org/generated/seaborn.countplot.html) or [`barplot()`](https://seaborn.pydata.org/generated/seaborn.barplot.html) function could be handy.\n",
    "  - Recall the analysis you performed in step 1.1.3 of the project, where you separated out certain data points from the dataset if they had more than a specified threshold of missing values. If you found that this group was qualitatively different from the main bulk of the data, you should treat this as an additional data cluster in this analysis. Make sure that you account for the number of data points in this subset, for both the general population and customer datasets, when making your computations!\n",
    "- Which cluster or clusters are overrepresented in the customer dataset compared to the general population? Select at least one such cluster and infer what kind of people might be represented by that cluster. Use the principal component interpretations from step 2.3 or look at additional components to help you make this inference. Alternatively, you can use the `.inverse_transform()` method of the PCA and StandardScaler objects to transform centroids back to the original data space and interpret the retrieved values directly.\n",
    "- Perform a similar investigation for the underrepresented clusters. Which cluster or clusters are underrepresented in the customer dataset compared to the general population, and what kinds of people are typified by these clusters?"
   ]
  },
  {
   "cell_type": "markdown",
   "metadata": {},
   "source": [
    "> Compare the proportion of data in each cluster for the customer data to the proportion of data in each cluster for the general population."
   ]
  },
  {
   "cell_type": "code",
   "execution_count": 87,
   "metadata": {},
   "outputs": [
    {
     "name": "stderr",
     "output_type": "stream",
     "text": [
      "/Users/ajp/opt/anaconda3/lib/python3.9/site-packages/seaborn/_decorators.py:36: FutureWarning:\n",
      "\n",
      "Pass the following variable as a keyword arg: x. From version 0.12, the only valid positional argument will be `data`, and passing other arguments without an explicit keyword will result in an error or misinterpretation.\n",
      "\n",
      "/Users/ajp/opt/anaconda3/lib/python3.9/site-packages/seaborn/_decorators.py:36: FutureWarning:\n",
      "\n",
      "Pass the following variable as a keyword arg: x. From version 0.12, the only valid positional argument will be `data`, and passing other arguments without an explicit keyword will result in an error or misinterpretation.\n",
      "\n"
     ]
    },
    {
     "data": {
      "image/png": "[encoded data removed]",
      "text/plain": [
       "<Figure size 1152x432 with 2 Axes>"
      ]
     },
     "metadata": {},
     "output_type": "display_data"
    }
   ],
   "source": [
    "# plot proportions for customer data and general population (azdias)\n",
    "fig = plt.figure(figsize=(16,6))\n",
    "fig.tight_layout()\n",
    "y = 25000\n",
    "\n",
    "ax1 = fig.add_subplot(121)\n",
    "ax1.title.set_text('Customer Data')\n",
    "ax1.set(ylim=(0, y))\n",
    "sns.countplot(azdias_preds, palette = 'GnBu')\n",
    "\n",
    "ax2 = fig.add_subplot(122)\n",
    "ax2.title.set_text('General Population')\n",
    "ax2.set(ylim=(0, y))\n",
    "sns.countplot(customers_preds, palette = 'PuOr')\n",
    "\n",
    "plt.show()"
   ]
  },
  {
   "cell_type": "code",
   "execution_count": 88,
   "metadata": {},
   "outputs": [],
   "source": [
    "def get_centroids(cluster_num):\n",
    "    \"\"\" prints top and bottom 5 principal components by pca weight \"\"\"\n",
    "    \n",
    "    centroid = final_model.cluster_centers_[cluster_num]\n",
    "    df = pd.DataFrame(centroid,columns=['pca_weights'])\n",
    "    df = df.reindex(df.sort_values('pca_weights',ascending=False).index)\n",
    "    print(f'--- Top 5 Principal Components ---\\n{df.head()}')\n",
    "    print(f'\\n--- Bottom 5 Principal Components ---\\n{df.tail()}')"
   ]
  },
  {
   "cell_type": "markdown",
   "metadata": {},
   "source": [
    "> What kinds of people are part of a cluster that is overrepresented in the customer data compared to the general population?"
   ]
  },
  {
   "cell_type": "markdown",
   "metadata": {},
   "source": [
    "Cluster-11 appears to be the most overrepresented in the customer data compared to the general population. To find out what kinds of people are part of this cluster, I'll extract the Principal Components (PC) with the most significant impact on Cluster-11. Then I'll take a closer look at some of those PCs."
   ]
  },
  {
   "cell_type": "code",
   "execution_count": 89,
   "metadata": {},
   "outputs": [
    {
     "name": "stdout",
     "output_type": "stream",
     "text": [
      "--- Top 5 Principal Components ---\n",
      "   pca_weights\n",
      "0     2.687821\n",
      "6     2.050843\n",
      "2     1.662405\n",
      "3     1.433669\n",
      "7     1.201408\n",
      "\n",
      "--- Bottom 5 Principal Components ---\n",
      "    pca_weights\n",
      "5     -0.457762\n",
      "20    -0.465067\n",
      "4     -0.872934\n",
      "1     -0.907756\n",
      "9     -1.091373\n"
     ]
    }
   ],
   "source": [
    "# Check PCA weights of Principal Components for Cluster-8\n",
    "get_centroids(11)"
   ]
  },
  {
   "cell_type": "code",
   "execution_count": 90,
   "metadata": {},
   "outputs": [
    {
     "name": "stdout",
     "output_type": "stream",
     "text": [
      "Top 3 Features:\n",
      "('ALTERSKATEGORIE_GROB_3.0', 0.523675618366617)\n",
      "('SEMIO_LUST_1.0', 0.1532885110286666)\n",
      "('FINANZ_VORSORGER_4.0', 0.15063262489079196)\n",
      "\n",
      "Bottom 3 Features:\n",
      "('SEMIO_TRADV_1.0', -0.15652603194194664)\n",
      "('ALTERSKATEGORIE_GROB_1.0', -0.17669510870503582)\n",
      "('ALTERSKATEGORIE_GROB_2.0', -0.19041955613420142)\n",
      "\n"
     ]
    },
    {
     "data": {
      "application/vnd.plotly.v1+json": {
       "config": {
        "plotlyServerURL": "https://plot.ly"
       },
       "data": [
        {
         "alignmentgroup": "True",
         "hovertemplate": "Features=%{x}<br>Weight=%{marker.color}<extra></extra>",
         "legendgroup": "",
         "marker": {
          "color": [
           0.523675618366617,
           0.1532885110286666,
           0.15063262489079196,
           -0.15652603194194664,
           -0.17669510870503582,
           -0.19041955613420142
          ],
          "coloraxis": "coloraxis",
          "pattern": {
           "shape": ""
          }
         },
         "name": "",
         "offsetgroup": "",
         "orientation": "v",
         "showlegend": false,
         "textposition": "auto",
         "type": "bar",
         "x": [
          "ALTERSKATEGORIE_GROB_3.0",
          "SEMIO_LUST_1.0",
          "FINANZ_VORSORGER_4.0",
          "SEMIO_TRADV_1.0",
          "ALTERSKATEGORIE_GROB_1.0",
          "ALTERSKATEGORIE_GROB_2.0"
         ],
         "xaxis": "x",
         "y": [
          0.523675618366617,
          0.1532885110286666,
          0.15063262489079196,
          -0.15652603194194664,
          -0.17669510870503582,
          -0.19041955613420142
         ],
         "yaxis": "y"
        }
       ],
       "layout": {
        "barmode": "relative",
        "coloraxis": {
         "colorbar": {
          "title": {
           "text": "Weight"
          }
         },
         "colorscale": [
          [
           0,
           "rgb(255,255,217)"
          ],
          [
           0.125,
           "rgb(237,248,177)"
          ],
          [
           0.25,
           "rgb(199,233,180)"
          ],
          [
           0.375,
           "rgb(127,205,187)"
          ],
          [
           0.5,
           "rgb(65,182,196)"
          ],
          [
           0.625,
           "rgb(29,145,192)"
          ],
          [
           0.75,
           "rgb(34,94,168)"
          ],
          [
           0.875,
           "rgb(37,52,148)"
          ],
          [
           1,
           "rgb(8,29,88)"
          ]
         ]
        },
        "height": 450,
        "legend": {
         "tracegroupgap": 0
        },
        "margin": {
         "t": 60
        },
        "template": {
         "data": {
          "bar": [
           {
            "error_x": {
             "color": "#2a3f5f"
            },
            "error_y": {
             "color": "#2a3f5f"
            },
            "marker": {
             "line": {
              "color": "#E5ECF6",
              "width": 0.5
             },
             "pattern": {
              "fillmode": "overlay",
              "size": 10,
              "solidity": 0.2
             }
            },
            "type": "bar"
           }
          ],
          "barpolar": [
           {
            "marker": {
             "line": {
              "color": "#E5ECF6",
              "width": 0.5
             },
             "pattern": {
              "fillmode": "overlay",
              "size": 10,
              "solidity": 0.2
             }
            },
            "type": "barpolar"
           }
          ],
          "carpet": [
           {
            "aaxis": {
             "endlinecolor": "#2a3f5f",
             "gridcolor": "white",
             "linecolor": "white",
             "minorgridcolor": "white",
             "startlinecolor": "#2a3f5f"
            },
            "baxis": {
             "endlinecolor": "#2a3f5f",
             "gridcolor": "white",
             "linecolor": "white",
             "minorgridcolor": "white",
             "startlinecolor": "#2a3f5f"
            },
            "type": "carpet"
           }
          ],
          "choropleth": [
           {
            "colorbar": {
             "outlinewidth": 0,
             "ticks": ""
            },
            "type": "choropleth"
           }
          ],
          "contour": [
           {
            "colorbar": {
             "outlinewidth": 0,
             "ticks": ""
            },
            "colorscale": [
             [
              0,
              "#0d0887"
             ],
             [
              0.1111111111111111,
              "#46039f"
             ],
             [
              0.2222222222222222,
              "#7201a8"
             ],
             [
              0.3333333333333333,
              "#9c179e"
             ],
             [
              0.4444444444444444,
              "#bd3786"
             ],
             [
              0.5555555555555556,
              "#d8576b"
             ],
             [
              0.6666666666666666,
              "#ed7953"
             ],
             [
              0.7777777777777778,
              "#fb9f3a"
             ],
             [
              0.8888888888888888,
              "#fdca26"
             ],
             [
              1,
              "#f0f921"
             ]
            ],
            "type": "contour"
           }
          ],
          "contourcarpet": [
           {
            "colorbar": {
             "outlinewidth": 0,
             "ticks": ""
            },
            "type": "contourcarpet"
           }
          ],
          "heatmap": [
           {
            "colorbar": {
             "outlinewidth": 0,
             "ticks": ""
            },
            "colorscale": [
             [
              0,
              "#0d0887"
             ],
             [
              0.1111111111111111,
              "#46039f"
             ],
             [
              0.2222222222222222,
              "#7201a8"
             ],
             [
              0.3333333333333333,
              "#9c179e"
             ],
             [
              0.4444444444444444,
              "#bd3786"
             ],
             [
              0.5555555555555556,
              "#d8576b"
             ],
             [
              0.6666666666666666,
              "#ed7953"
             ],
             [
              0.7777777777777778,
              "#fb9f3a"
             ],
             [
              0.8888888888888888,
              "#fdca26"
             ],
             [
              1,
              "#f0f921"
             ]
            ],
            "type": "heatmap"
           }
          ],
          "heatmapgl": [
           {
            "colorbar": {
             "outlinewidth": 0,
             "ticks": ""
            },
            "colorscale": [
             [
              0,
              "#0d0887"
             ],
             [
              0.1111111111111111,
              "#46039f"
             ],
             [
              0.2222222222222222,
              "#7201a8"
             ],
             [
              0.3333333333333333,
              "#9c179e"
             ],
             [
              0.4444444444444444,
              "#bd3786"
             ],
             [
              0.5555555555555556,
              "#d8576b"
             ],
             [
              0.6666666666666666,
              "#ed7953"
             ],
             [
              0.7777777777777778,
              "#fb9f3a"
             ],
             [
              0.8888888888888888,
              "#fdca26"
             ],
             [
              1,
              "#f0f921"
             ]
            ],
            "type": "heatmapgl"
           }
          ],
          "histogram": [
           {
            "marker": {
             "pattern": {
              "fillmode": "overlay",
              "size": 10,
              "solidity": 0.2
             }
            },
            "type": "histogram"
           }
          ],
          "histogram2d": [
           {
            "colorbar": {
             "outlinewidth": 0,
             "ticks": ""
            },
            "colorscale": [
             [
              0,
              "#0d0887"
             ],
             [
              0.1111111111111111,
              "#46039f"
             ],
             [
              0.2222222222222222,
              "#7201a8"
             ],
             [
              0.3333333333333333,
              "#9c179e"
             ],
             [
              0.4444444444444444,
              "#bd3786"
             ],
             [
              0.5555555555555556,
              "#d8576b"
             ],
             [
              0.6666666666666666,
              "#ed7953"
             ],
             [
              0.7777777777777778,
              "#fb9f3a"
             ],
             [
              0.8888888888888888,
              "#fdca26"
             ],
             [
              1,
              "#f0f921"
             ]
            ],
            "type": "histogram2d"
           }
          ],
          "histogram2dcontour": [
           {
            "colorbar": {
             "outlinewidth": 0,
             "ticks": ""
            },
            "colorscale": [
             [
              0,
              "#0d0887"
             ],
             [
              0.1111111111111111,
              "#46039f"
             ],
             [
              0.2222222222222222,
              "#7201a8"
             ],
             [
              0.3333333333333333,
              "#9c179e"
             ],
             [
              0.4444444444444444,
              "#bd3786"
             ],
             [
              0.5555555555555556,
              "#d8576b"
             ],
             [
              0.6666666666666666,
              "#ed7953"
             ],
             [
              0.7777777777777778,
              "#fb9f3a"
             ],
             [
              0.8888888888888888,
              "#fdca26"
             ],
             [
              1,
              "#f0f921"
             ]
            ],
            "type": "histogram2dcontour"
           }
          ],
          "mesh3d": [
           {
            "colorbar": {
             "outlinewidth": 0,
             "ticks": ""
            },
            "type": "mesh3d"
           }
          ],
          "parcoords": [
           {
            "line": {
             "colorbar": {
              "outlinewidth": 0,
              "ticks": ""
             }
            },
            "type": "parcoords"
           }
          ],
          "pie": [
           {
            "automargin": true,
            "type": "pie"
           }
          ],
          "scatter": [
           {
            "marker": {
             "colorbar": {
              "outlinewidth": 0,
              "ticks": ""
             }
            },
            "type": "scatter"
           }
          ],
          "scatter3d": [
           {
            "line": {
             "colorbar": {
              "outlinewidth": 0,
              "ticks": ""
             }
            },
            "marker": {
             "colorbar": {
              "outlinewidth": 0,
              "ticks": ""
             }
            },
            "type": "scatter3d"
           }
          ],
          "scattercarpet": [
           {
            "marker": {
             "colorbar": {
              "outlinewidth": 0,
              "ticks": ""
             }
            },
            "type": "scattercarpet"
           }
          ],
          "scattergeo": [
           {
            "marker": {
             "colorbar": {
              "outlinewidth": 0,
              "ticks": ""
             }
            },
            "type": "scattergeo"
           }
          ],
          "scattergl": [
           {
            "marker": {
             "colorbar": {
              "outlinewidth": 0,
              "ticks": ""
             }
            },
            "type": "scattergl"
           }
          ],
          "scattermapbox": [
           {
            "marker": {
             "colorbar": {
              "outlinewidth": 0,
              "ticks": ""
             }
            },
            "type": "scattermapbox"
           }
          ],
          "scatterpolar": [
           {
            "marker": {
             "colorbar": {
              "outlinewidth": 0,
              "ticks": ""
             }
            },
            "type": "scatterpolar"
           }
          ],
          "scatterpolargl": [
           {
            "marker": {
             "colorbar": {
              "outlinewidth": 0,
              "ticks": ""
             }
            },
            "type": "scatterpolargl"
           }
          ],
          "scatterternary": [
           {
            "marker": {
             "colorbar": {
              "outlinewidth": 0,
              "ticks": ""
             }
            },
            "type": "scatterternary"
           }
          ],
          "surface": [
           {
            "colorbar": {
             "outlinewidth": 0,
             "ticks": ""
            },
            "colorscale": [
             [
              0,
              "#0d0887"
             ],
             [
              0.1111111111111111,
              "#46039f"
             ],
             [
              0.2222222222222222,
              "#7201a8"
             ],
             [
              0.3333333333333333,
              "#9c179e"
             ],
             [
              0.4444444444444444,
              "#bd3786"
             ],
             [
              0.5555555555555556,
              "#d8576b"
             ],
             [
              0.6666666666666666,
              "#ed7953"
             ],
             [
              0.7777777777777778,
              "#fb9f3a"
             ],
             [
              0.8888888888888888,
              "#fdca26"
             ],
             [
              1,
              "#f0f921"
             ]
            ],
            "type": "surface"
           }
          ],
          "table": [
           {
            "cells": {
             "fill": {
              "color": "#EBF0F8"
             },
             "line": {
              "color": "white"
             }
            },
            "header": {
             "fill": {
              "color": "#C8D4E3"
             },
             "line": {
              "color": "white"
             }
            },
            "type": "table"
           }
          ]
         },
         "layout": {
          "annotationdefaults": {
           "arrowcolor": "#2a3f5f",
           "arrowhead": 0,
           "arrowwidth": 1
          },
          "autotypenumbers": "strict",
          "coloraxis": {
           "colorbar": {
            "outlinewidth": 0,
            "ticks": ""
           }
          },
          "colorscale": {
           "diverging": [
            [
             0,
             "#8e0152"
            ],
            [
             0.1,
             "#c51b7d"
            ],
            [
             0.2,
             "#de77ae"
            ],
            [
             0.3,
             "#f1b6da"
            ],
            [
             0.4,
             "#fde0ef"
            ],
            [
             0.5,
             "#f7f7f7"
            ],
            [
             0.6,
             "#e6f5d0"
            ],
            [
             0.7,
             "#b8e186"
            ],
            [
             0.8,
             "#7fbc41"
            ],
            [
             0.9,
             "#4d9221"
            ],
            [
             1,
             "#276419"
            ]
           ],
           "sequential": [
            [
             0,
             "#0d0887"
            ],
            [
             0.1111111111111111,
             "#46039f"
            ],
            [
             0.2222222222222222,
             "#7201a8"
            ],
            [
             0.3333333333333333,
             "#9c179e"
            ],
            [
             0.4444444444444444,
             "#bd3786"
            ],
            [
             0.5555555555555556,
             "#d8576b"
            ],
            [
             0.6666666666666666,
             "#ed7953"
            ],
            [
             0.7777777777777778,
             "#fb9f3a"
            ],
            [
             0.8888888888888888,
             "#fdca26"
            ],
            [
             1,
             "#f0f921"
            ]
           ],
           "sequentialminus": [
            [
             0,
             "#0d0887"
            ],
            [
             0.1111111111111111,
             "#46039f"
            ],
            [
             0.2222222222222222,
             "#7201a8"
            ],
            [
             0.3333333333333333,
             "#9c179e"
            ],
            [
             0.4444444444444444,
             "#bd3786"
            ],
            [
             0.5555555555555556,
             "#d8576b"
            ],
            [
             0.6666666666666666,
             "#ed7953"
            ],
            [
             0.7777777777777778,
             "#fb9f3a"
            ],
            [
             0.8888888888888888,
             "#fdca26"
            ],
            [
             1,
             "#f0f921"
            ]
           ]
          },
          "colorway": [
           "#636efa",
           "#EF553B",
           "#00cc96",
           "#ab63fa",
           "#FFA15A",
           "#19d3f3",
           "#FF6692",
           "#B6E880",
           "#FF97FF",
           "#FECB52"
          ],
          "font": {
           "color": "#2a3f5f"
          },
          "geo": {
           "bgcolor": "white",
           "lakecolor": "white",
           "landcolor": "#E5ECF6",
           "showlakes": true,
           "showland": true,
           "subunitcolor": "white"
          },
          "hoverlabel": {
           "align": "left"
          },
          "hovermode": "closest",
          "mapbox": {
           "style": "light"
          },
          "paper_bgcolor": "white",
          "plot_bgcolor": "#E5ECF6",
          "polar": {
           "angularaxis": {
            "gridcolor": "white",
            "linecolor": "white",
            "ticks": ""
           },
           "bgcolor": "#E5ECF6",
           "radialaxis": {
            "gridcolor": "white",
            "linecolor": "white",
            "ticks": ""
           }
          },
          "scene": {
           "xaxis": {
            "backgroundcolor": "#E5ECF6",
            "gridcolor": "white",
            "gridwidth": 2,
            "linecolor": "white",
            "showbackground": true,
            "ticks": "",
            "zerolinecolor": "white"
           },
           "yaxis": {
            "backgroundcolor": "#E5ECF6",
            "gridcolor": "white",
            "gridwidth": 2,
            "linecolor": "white",
            "showbackground": true,
            "ticks": "",
            "zerolinecolor": "white"
           },
           "zaxis": {
            "backgroundcolor": "#E5ECF6",
            "gridcolor": "white",
            "gridwidth": 2,
            "linecolor": "white",
            "showbackground": true,
            "ticks": "",
            "zerolinecolor": "white"
           }
          },
          "shapedefaults": {
           "line": {
            "color": "#2a3f5f"
           }
          },
          "ternary": {
           "aaxis": {
            "gridcolor": "white",
            "linecolor": "white",
            "ticks": ""
           },
           "baxis": {
            "gridcolor": "white",
            "linecolor": "white",
            "ticks": ""
           },
           "bgcolor": "#E5ECF6",
           "caxis": {
            "gridcolor": "white",
            "linecolor": "white",
            "ticks": ""
           }
          },
          "title": {
           "x": 0.05
          },
          "xaxis": {
           "automargin": true,
           "gridcolor": "white",
           "linecolor": "white",
           "ticks": "",
           "title": {
            "standoff": 15
           },
           "zerolinecolor": "white",
           "zerolinewidth": 2
          },
          "yaxis": {
           "automargin": true,
           "gridcolor": "white",
           "linecolor": "white",
           "ticks": "",
           "title": {
            "standoff": 15
           },
           "zerolinecolor": "white",
           "zerolinewidth": 2
          }
         }
        },
        "width": 650,
        "xaxis": {
         "anchor": "y",
         "domain": [
          0,
          1
         ],
         "title": {
          "text": "Features"
         }
        },
        "yaxis": {
         "anchor": "x",
         "domain": [
          0,
          1
         ],
         "title": {
          "text": "Weight"
         }
        }
       }
      }
     },
     "metadata": {},
     "output_type": "display_data"
    }
   ],
   "source": [
    "# PC-1 had the largest positive impact on the PCA weights for Cluster-8\n",
    "map_pca_weights(azdias, 4, 3)"
   ]
  },
  {
   "cell_type": "markdown",
   "metadata": {},
   "source": [
    "The features that are positively correlated with Principal Component 4 are:\n",
    "- Customers with an estimated age between 46 and 60 years old (ALTERSKATEGORIE_GROB_3.0)\n",
    "- Customers with the highest affinity for the personality typology: sensual-minded (SEMIO_LUST_1.0)\n",
    "- Customers that have a low affinity for the financial typology: be prepared (FINANZ_VORSORGER_4.0)\n",
    "\n",
    "The features that are negatively correlated with Principal Component 4 are:\n",
    "- Customers with the highest affinity for the personality typology: traditional-minded (SEMIO_TRADV_1.0)\n",
    "- Customers with an estimated age of less than 45 years old (ALTERSKATEGORIE_GROB_1.0 & ALTERSKATEGORIE_GROB_2.0)"
   ]
  },
  {
   "cell_type": "code",
   "execution_count": 91,
   "metadata": {},
   "outputs": [
    {
     "name": "stdout",
     "output_type": "stream",
     "text": [
      "Top 3 Features:\n",
      "('LP_STATUS_FEIN_5.0', 0.3235566452758202)\n",
      "('GFK_URLAUBERTYP_5.0', 0.31734477386457643)\n",
      "('RETOURTYP_BK_S_3.0', 0.3014489842732861)\n",
      "\n",
      "Bottom 3 Features:\n",
      "('LP_STATUS_GROB_1.0', -0.19320405756084977)\n",
      "('LP_FAMILIE_FEIN_1.0', -0.19735800212777815)\n",
      "('LP_FAMILIE_GROB_1.0', -0.19735800212777815)\n",
      "\n"
     ]
    },
    {
     "data": {
      "application/vnd.plotly.v1+json": {
       "config": {
        "plotlyServerURL": "https://plot.ly"
       },
       "data": [
        {
         "alignmentgroup": "True",
         "hovertemplate": "Features=%{x}<br>Weight=%{marker.color}<extra></extra>",
         "legendgroup": "",
         "marker": {
          "color": [
           0.3235566452758202,
           0.31734477386457643,
           0.3014489842732861,
           -0.19320405756084977,
           -0.19735800212777815,
           -0.19735800212777815
          ],
          "coloraxis": "coloraxis",
          "pattern": {
           "shape": ""
          }
         },
         "name": "",
         "offsetgroup": "",
         "orientation": "v",
         "showlegend": false,
         "textposition": "auto",
         "type": "bar",
         "x": [
          "LP_STATUS_FEIN_5.0",
          "GFK_URLAUBERTYP_5.0",
          "RETOURTYP_BK_S_3.0",
          "LP_STATUS_GROB_1.0",
          "LP_FAMILIE_FEIN_1.0",
          "LP_FAMILIE_GROB_1.0"
         ],
         "xaxis": "x",
         "y": [
          0.3235566452758202,
          0.31734477386457643,
          0.3014489842732861,
          -0.19320405756084977,
          -0.19735800212777815,
          -0.19735800212777815
         ],
         "yaxis": "y"
        }
       ],
       "layout": {
        "barmode": "relative",
        "coloraxis": {
         "colorbar": {
          "title": {
           "text": "Weight"
          }
         },
         "colorscale": [
          [
           0,
           "rgb(255,255,217)"
          ],
          [
           0.125,
           "rgb(237,248,177)"
          ],
          [
           0.25,
           "rgb(199,233,180)"
          ],
          [
           0.375,
           "rgb(127,205,187)"
          ],
          [
           0.5,
           "rgb(65,182,196)"
          ],
          [
           0.625,
           "rgb(29,145,192)"
          ],
          [
           0.75,
           "rgb(34,94,168)"
          ],
          [
           0.875,
           "rgb(37,52,148)"
          ],
          [
           1,
           "rgb(8,29,88)"
          ]
         ]
        },
        "height": 450,
        "legend": {
         "tracegroupgap": 0
        },
        "margin": {
         "t": 60
        },
        "template": {
         "data": {
          "bar": [
           {
            "error_x": {
             "color": "#2a3f5f"
            },
            "error_y": {
             "color": "#2a3f5f"
            },
            "marker": {
             "line": {
              "color": "#E5ECF6",
              "width": 0.5
             },
             "pattern": {
              "fillmode": "overlay",
              "size": 10,
              "solidity": 0.2
             }
            },
            "type": "bar"
           }
          ],
          "barpolar": [
           {
            "marker": {
             "line": {
              "color": "#E5ECF6",
              "width": 0.5
             },
             "pattern": {
              "fillmode": "overlay",
              "size": 10,
              "solidity": 0.2
             }
            },
            "type": "barpolar"
           }
          ],
          "carpet": [
           {
            "aaxis": {
             "endlinecolor": "#2a3f5f",
             "gridcolor": "white",
             "linecolor": "white",
             "minorgridcolor": "white",
             "startlinecolor": "#2a3f5f"
            },
            "baxis": {
             "endlinecolor": "#2a3f5f",
             "gridcolor": "white",
             "linecolor": "white",
             "minorgridcolor": "white",
             "startlinecolor": "#2a3f5f"
            },
            "type": "carpet"
           }
          ],
          "choropleth": [
           {
            "colorbar": {
             "outlinewidth": 0,
             "ticks": ""
            },
            "type": "choropleth"
           }
          ],
          "contour": [
           {
            "colorbar": {
             "outlinewidth": 0,
             "ticks": ""
            },
            "colorscale": [
             [
              0,
              "#0d0887"
             ],
             [
              0.1111111111111111,
              "#46039f"
             ],
             [
              0.2222222222222222,
              "#7201a8"
             ],
             [
              0.3333333333333333,
              "#9c179e"
             ],
             [
              0.4444444444444444,
              "#bd3786"
             ],
             [
              0.5555555555555556,
              "#d8576b"
             ],
             [
              0.6666666666666666,
              "#ed7953"
             ],
             [
              0.7777777777777778,
              "#fb9f3a"
             ],
             [
              0.8888888888888888,
              "#fdca26"
             ],
             [
              1,
              "#f0f921"
             ]
            ],
            "type": "contour"
           }
          ],
          "contourcarpet": [
           {
            "colorbar": {
             "outlinewidth": 0,
             "ticks": ""
            },
            "type": "contourcarpet"
           }
          ],
          "heatmap": [
           {
            "colorbar": {
             "outlinewidth": 0,
             "ticks": ""
            },
            "colorscale": [
             [
              0,
              "#0d0887"
             ],
             [
              0.1111111111111111,
              "#46039f"
             ],
             [
              0.2222222222222222,
              "#7201a8"
             ],
             [
              0.3333333333333333,
              "#9c179e"
             ],
             [
              0.4444444444444444,
              "#bd3786"
             ],
             [
              0.5555555555555556,
              "#d8576b"
             ],
             [
              0.6666666666666666,
              "#ed7953"
             ],
             [
              0.7777777777777778,
              "#fb9f3a"
             ],
             [
              0.8888888888888888,
              "#fdca26"
             ],
             [
              1,
              "#f0f921"
             ]
            ],
            "type": "heatmap"
           }
          ],
          "heatmapgl": [
           {
            "colorbar": {
             "outlinewidth": 0,
             "ticks": ""
            },
            "colorscale": [
             [
              0,
              "#0d0887"
             ],
             [
              0.1111111111111111,
              "#46039f"
             ],
             [
              0.2222222222222222,
              "#7201a8"
             ],
             [
              0.3333333333333333,
              "#9c179e"
             ],
             [
              0.4444444444444444,
              "#bd3786"
             ],
             [
              0.5555555555555556,
              "#d8576b"
             ],
             [
              0.6666666666666666,
              "#ed7953"
             ],
             [
              0.7777777777777778,
              "#fb9f3a"
             ],
             [
              0.8888888888888888,
              "#fdca26"
             ],
             [
              1,
              "#f0f921"
             ]
            ],
            "type": "heatmapgl"
           }
          ],
          "histogram": [
           {
            "marker": {
             "pattern": {
              "fillmode": "overlay",
              "size": 10,
              "solidity": 0.2
             }
            },
            "type": "histogram"
           }
          ],
          "histogram2d": [
           {
            "colorbar": {
             "outlinewidth": 0,
             "ticks": ""
            },
            "colorscale": [
             [
              0,
              "#0d0887"
             ],
             [
              0.1111111111111111,
              "#46039f"
             ],
             [
              0.2222222222222222,
              "#7201a8"
             ],
             [
              0.3333333333333333,
              "#9c179e"
             ],
             [
              0.4444444444444444,
              "#bd3786"
             ],
             [
              0.5555555555555556,
              "#d8576b"
             ],
             [
              0.6666666666666666,
              "#ed7953"
             ],
             [
              0.7777777777777778,
              "#fb9f3a"
             ],
             [
              0.8888888888888888,
              "#fdca26"
             ],
             [
              1,
              "#f0f921"
             ]
            ],
            "type": "histogram2d"
           }
          ],
          "histogram2dcontour": [
           {
            "colorbar": {
             "outlinewidth": 0,
             "ticks": ""
            },
            "colorscale": [
             [
              0,
              "#0d0887"
             ],
             [
              0.1111111111111111,
              "#46039f"
             ],
             [
              0.2222222222222222,
              "#7201a8"
             ],
             [
              0.3333333333333333,
              "#9c179e"
             ],
             [
              0.4444444444444444,
              "#bd3786"
             ],
             [
              0.5555555555555556,
              "#d8576b"
             ],
             [
              0.6666666666666666,
              "#ed7953"
             ],
             [
              0.7777777777777778,
              "#fb9f3a"
             ],
             [
              0.8888888888888888,
              "#fdca26"
             ],
             [
              1,
              "#f0f921"
             ]
            ],
            "type": "histogram2dcontour"
           }
          ],
          "mesh3d": [
           {
            "colorbar": {
             "outlinewidth": 0,
             "ticks": ""
            },
            "type": "mesh3d"
           }
          ],
          "parcoords": [
           {
            "line": {
             "colorbar": {
              "outlinewidth": 0,
              "ticks": ""
             }
            },
            "type": "parcoords"
           }
          ],
          "pie": [
           {
            "automargin": true,
            "type": "pie"
           }
          ],
          "scatter": [
           {
            "marker": {
             "colorbar": {
              "outlinewidth": 0,
              "ticks": ""
             }
            },
            "type": "scatter"
           }
          ],
          "scatter3d": [
           {
            "line": {
             "colorbar": {
              "outlinewidth": 0,
              "ticks": ""
             }
            },
            "marker": {
             "colorbar": {
              "outlinewidth": 0,
              "ticks": ""
             }
            },
            "type": "scatter3d"
           }
          ],
          "scattercarpet": [
           {
            "marker": {
             "colorbar": {
              "outlinewidth": 0,
              "ticks": ""
             }
            },
            "type": "scattercarpet"
           }
          ],
          "scattergeo": [
           {
            "marker": {
             "colorbar": {
              "outlinewidth": 0,
              "ticks": ""
             }
            },
            "type": "scattergeo"
           }
          ],
          "scattergl": [
           {
            "marker": {
             "colorbar": {
              "outlinewidth": 0,
              "ticks": ""
             }
            },
            "type": "scattergl"
           }
          ],
          "scattermapbox": [
           {
            "marker": {
             "colorbar": {
              "outlinewidth": 0,
              "ticks": ""
             }
            },
            "type": "scattermapbox"
           }
          ],
          "scatterpolar": [
           {
            "marker": {
             "colorbar": {
              "outlinewidth": 0,
              "ticks": ""
             }
            },
            "type": "scatterpolar"
           }
          ],
          "scatterpolargl": [
           {
            "marker": {
             "colorbar": {
              "outlinewidth": 0,
              "ticks": ""
             }
            },
            "type": "scatterpolargl"
           }
          ],
          "scatterternary": [
           {
            "marker": {
             "colorbar": {
              "outlinewidth": 0,
              "ticks": ""
             }
            },
            "type": "scatterternary"
           }
          ],
          "surface": [
           {
            "colorbar": {
             "outlinewidth": 0,
             "ticks": ""
            },
            "colorscale": [
             [
              0,
              "#0d0887"
             ],
             [
              0.1111111111111111,
              "#46039f"
             ],
             [
              0.2222222222222222,
              "#7201a8"
             ],
             [
              0.3333333333333333,
              "#9c179e"
             ],
             [
              0.4444444444444444,
              "#bd3786"
             ],
             [
              0.5555555555555556,
              "#d8576b"
             ],
             [
              0.6666666666666666,
              "#ed7953"
             ],
             [
              0.7777777777777778,
              "#fb9f3a"
             ],
             [
              0.8888888888888888,
              "#fdca26"
             ],
             [
              1,
              "#f0f921"
             ]
            ],
            "type": "surface"
           }
          ],
          "table": [
           {
            "cells": {
             "fill": {
              "color": "#EBF0F8"
             },
             "line": {
              "color": "white"
             }
            },
            "header": {
             "fill": {
              "color": "#C8D4E3"
             },
             "line": {
              "color": "white"
             }
            },
            "type": "table"
           }
          ]
         },
         "layout": {
          "annotationdefaults": {
           "arrowcolor": "#2a3f5f",
           "arrowhead": 0,
           "arrowwidth": 1
          },
          "autotypenumbers": "strict",
          "coloraxis": {
           "colorbar": {
            "outlinewidth": 0,
            "ticks": ""
           }
          },
          "colorscale": {
           "diverging": [
            [
             0,
             "#8e0152"
            ],
            [
             0.1,
             "#c51b7d"
            ],
            [
             0.2,
             "#de77ae"
            ],
            [
             0.3,
             "#f1b6da"
            ],
            [
             0.4,
             "#fde0ef"
            ],
            [
             0.5,
             "#f7f7f7"
            ],
            [
             0.6,
             "#e6f5d0"
            ],
            [
             0.7,
             "#b8e186"
            ],
            [
             0.8,
             "#7fbc41"
            ],
            [
             0.9,
             "#4d9221"
            ],
            [
             1,
             "#276419"
            ]
           ],
           "sequential": [
            [
             0,
             "#0d0887"
            ],
            [
             0.1111111111111111,
             "#46039f"
            ],
            [
             0.2222222222222222,
             "#7201a8"
            ],
            [
             0.3333333333333333,
             "#9c179e"
            ],
            [
             0.4444444444444444,
             "#bd3786"
            ],
            [
             0.5555555555555556,
             "#d8576b"
            ],
            [
             0.6666666666666666,
             "#ed7953"
            ],
            [
             0.7777777777777778,
             "#fb9f3a"
            ],
            [
             0.8888888888888888,
             "#fdca26"
            ],
            [
             1,
             "#f0f921"
            ]
           ],
           "sequentialminus": [
            [
             0,
             "#0d0887"
            ],
            [
             0.1111111111111111,
             "#46039f"
            ],
            [
             0.2222222222222222,
             "#7201a8"
            ],
            [
             0.3333333333333333,
             "#9c179e"
            ],
            [
             0.4444444444444444,
             "#bd3786"
            ],
            [
             0.5555555555555556,
             "#d8576b"
            ],
            [
             0.6666666666666666,
             "#ed7953"
            ],
            [
             0.7777777777777778,
             "#fb9f3a"
            ],
            [
             0.8888888888888888,
             "#fdca26"
            ],
            [
             1,
             "#f0f921"
            ]
           ]
          },
          "colorway": [
           "#636efa",
           "#EF553B",
           "#00cc96",
           "#ab63fa",
           "#FFA15A",
           "#19d3f3",
           "#FF6692",
           "#B6E880",
           "#FF97FF",
           "#FECB52"
          ],
          "font": {
           "color": "#2a3f5f"
          },
          "geo": {
           "bgcolor": "white",
           "lakecolor": "white",
           "landcolor": "#E5ECF6",
           "showlakes": true,
           "showland": true,
           "subunitcolor": "white"
          },
          "hoverlabel": {
           "align": "left"
          },
          "hovermode": "closest",
          "mapbox": {
           "style": "light"
          },
          "paper_bgcolor": "white",
          "plot_bgcolor": "#E5ECF6",
          "polar": {
           "angularaxis": {
            "gridcolor": "white",
            "linecolor": "white",
            "ticks": ""
           },
           "bgcolor": "#E5ECF6",
           "radialaxis": {
            "gridcolor": "white",
            "linecolor": "white",
            "ticks": ""
           }
          },
          "scene": {
           "xaxis": {
            "backgroundcolor": "#E5ECF6",
            "gridcolor": "white",
            "gridwidth": 2,
            "linecolor": "white",
            "showbackground": true,
            "ticks": "",
            "zerolinecolor": "white"
           },
           "yaxis": {
            "backgroundcolor": "#E5ECF6",
            "gridcolor": "white",
            "gridwidth": 2,
            "linecolor": "white",
            "showbackground": true,
            "ticks": "",
            "zerolinecolor": "white"
           },
           "zaxis": {
            "backgroundcolor": "#E5ECF6",
            "gridcolor": "white",
            "gridwidth": 2,
            "linecolor": "white",
            "showbackground": true,
            "ticks": "",
            "zerolinecolor": "white"
           }
          },
          "shapedefaults": {
           "line": {
            "color": "#2a3f5f"
           }
          },
          "ternary": {
           "aaxis": {
            "gridcolor": "white",
            "linecolor": "white",
            "ticks": ""
           },
           "baxis": {
            "gridcolor": "white",
            "linecolor": "white",
            "ticks": ""
           },
           "bgcolor": "#E5ECF6",
           "caxis": {
            "gridcolor": "white",
            "linecolor": "white",
            "ticks": ""
           }
          },
          "title": {
           "x": 0.05
          },
          "xaxis": {
           "automargin": true,
           "gridcolor": "white",
           "linecolor": "white",
           "ticks": "",
           "title": {
            "standoff": 15
           },
           "zerolinecolor": "white",
           "zerolinewidth": 2
          },
          "yaxis": {
           "automargin": true,
           "gridcolor": "white",
           "linecolor": "white",
           "ticks": "",
           "title": {
            "standoff": 15
           },
           "zerolinecolor": "white",
           "zerolinewidth": 2
          }
         }
        },
        "width": 650,
        "xaxis": {
         "anchor": "y",
         "domain": [
          0,
          1
         ],
         "title": {
          "text": "Features"
         }
        },
        "yaxis": {
         "anchor": "x",
         "domain": [
          0,
          1
         ],
         "title": {
          "text": "Weight"
         }
        }
       }
      }
     },
     "metadata": {},
     "output_type": "display_data"
    }
   ],
   "source": [
    "# PC-0 had the largest negative impact on the PCA weights for Cluster-8\n",
    "map_pca_weights(azdias, 1, 3)"
   ]
  },
  {
   "cell_type": "markdown",
   "metadata": {},
   "source": [
    "The features that are positively correlated with Principal Component 1 are:\n",
    "- Customers with social status: minimalistic high-income earners (LP_STATUS_FEIN_5.0)\n",
    "- Customers with vacation habits: Nature fans (GFK_URLAUBERTYP_5.0)\n",
    "- Customers with return type: incentive-receptive Normal-Returner (RETOURTYP_BK_S_3.0)\n",
    "\n",
    "The features that are negatively correlated with Principal Component 1 are:\n",
    "- Customers with social status: low-income earners (LP_STATUS_GROB_1.0\n",
    "- Customers with family type: single (LP_FAMILIE_FEIN_1.0 & LP_FAMILIE_GROB_1.0)"
   ]
  },
  {
   "cell_type": "markdown",
   "metadata": {},
   "source": [
    "> What kinds of people are part of a cluster that is underrepresented in the customer data compared to the general population?"
   ]
  },
  {
   "cell_type": "markdown",
   "metadata": {},
   "source": [
    "Cluster-0 appears to be the most underrepresented in the customer data compared to the general population. To find out what kinds of people are part of this cluster, I'll extract the Principal Components (PC) with the most significant impact on Cluster-0. Then I'll take a closer look at some of those PCs."
   ]
  },
  {
   "cell_type": "code",
   "execution_count": 92,
   "metadata": {},
   "outputs": [
    {
     "name": "stdout",
     "output_type": "stream",
     "text": [
      "--- Top 5 Principal Components ---\n",
      "    pca_weights\n",
      "1      0.806791\n",
      "7      0.389837\n",
      "3      0.201572\n",
      "10     0.163883\n",
      "20     0.038003\n",
      "\n",
      "--- Bottom 5 Principal Components ---\n",
      "   pca_weights\n",
      "9    -0.205013\n",
      "8    -0.232154\n",
      "2    -0.313606\n",
      "6    -0.342650\n",
      "0    -1.398382\n"
     ]
    }
   ],
   "source": [
    "# Check PCA weights of Principal Components for Cluster-1\n",
    "get_centroids(0)"
   ]
  },
  {
   "cell_type": "code",
   "execution_count": 93,
   "metadata": {},
   "outputs": [
    {
     "name": "stdout",
     "output_type": "stream",
     "text": [
      "Top 3 Features:\n",
      "('LP_STATUS_FEIN_5.0', 0.3235566452758202)\n",
      "('GFK_URLAUBERTYP_5.0', 0.31734477386457643)\n",
      "('RETOURTYP_BK_S_3.0', 0.3014489842732861)\n",
      "\n",
      "Bottom 3 Features:\n",
      "('LP_STATUS_GROB_1.0', -0.19320405756084977)\n",
      "('LP_FAMILIE_FEIN_1.0', -0.19735800212777815)\n",
      "('LP_FAMILIE_GROB_1.0', -0.19735800212777815)\n",
      "\n"
     ]
    },
    {
     "data": {
      "application/vnd.plotly.v1+json": {
       "config": {
        "plotlyServerURL": "https://plot.ly"
       },
       "data": [
        {
         "alignmentgroup": "True",
         "hovertemplate": "Features=%{x}<br>Weight=%{marker.color}<extra></extra>",
         "legendgroup": "",
         "marker": {
          "color": [
           0.3235566452758202,
           0.31734477386457643,
           0.3014489842732861,
           -0.19320405756084977,
           -0.19735800212777815,
           -0.19735800212777815
          ],
          "coloraxis": "coloraxis",
          "pattern": {
           "shape": ""
          }
         },
         "name": "",
         "offsetgroup": "",
         "orientation": "v",
         "showlegend": false,
         "textposition": "auto",
         "type": "bar",
         "x": [
          "LP_STATUS_FEIN_5.0",
          "GFK_URLAUBERTYP_5.0",
          "RETOURTYP_BK_S_3.0",
          "LP_STATUS_GROB_1.0",
          "LP_FAMILIE_FEIN_1.0",
          "LP_FAMILIE_GROB_1.0"
         ],
         "xaxis": "x",
         "y": [
          0.3235566452758202,
          0.31734477386457643,
          0.3014489842732861,
          -0.19320405756084977,
          -0.19735800212777815,
          -0.19735800212777815
         ],
         "yaxis": "y"
        }
       ],
       "layout": {
        "barmode": "relative",
        "coloraxis": {
         "colorbar": {
          "title": {
           "text": "Weight"
          }
         },
         "colorscale": [
          [
           0,
           "rgb(255,255,217)"
          ],
          [
           0.125,
           "rgb(237,248,177)"
          ],
          [
           0.25,
           "rgb(199,233,180)"
          ],
          [
           0.375,
           "rgb(127,205,187)"
          ],
          [
           0.5,
           "rgb(65,182,196)"
          ],
          [
           0.625,
           "rgb(29,145,192)"
          ],
          [
           0.75,
           "rgb(34,94,168)"
          ],
          [
           0.875,
           "rgb(37,52,148)"
          ],
          [
           1,
           "rgb(8,29,88)"
          ]
         ]
        },
        "height": 450,
        "legend": {
         "tracegroupgap": 0
        },
        "margin": {
         "t": 60
        },
        "template": {
         "data": {
          "bar": [
           {
            "error_x": {
             "color": "#2a3f5f"
            },
            "error_y": {
             "color": "#2a3f5f"
            },
            "marker": {
             "line": {
              "color": "#E5ECF6",
              "width": 0.5
             },
             "pattern": {
              "fillmode": "overlay",
              "size": 10,
              "solidity": 0.2
             }
            },
            "type": "bar"
           }
          ],
          "barpolar": [
           {
            "marker": {
             "line": {
              "color": "#E5ECF6",
              "width": 0.5
             },
             "pattern": {
              "fillmode": "overlay",
              "size": 10,
              "solidity": 0.2
             }
            },
            "type": "barpolar"
           }
          ],
          "carpet": [
           {
            "aaxis": {
             "endlinecolor": "#2a3f5f",
             "gridcolor": "white",
             "linecolor": "white",
             "minorgridcolor": "white",
             "startlinecolor": "#2a3f5f"
            },
            "baxis": {
             "endlinecolor": "#2a3f5f",
             "gridcolor": "white",
             "linecolor": "white",
             "minorgridcolor": "white",
             "startlinecolor": "#2a3f5f"
            },
            "type": "carpet"
           }
          ],
          "choropleth": [
           {
            "colorbar": {
             "outlinewidth": 0,
             "ticks": ""
            },
            "type": "choropleth"
           }
          ],
          "contour": [
           {
            "colorbar": {
             "outlinewidth": 0,
             "ticks": ""
            },
            "colorscale": [
             [
              0,
              "#0d0887"
             ],
             [
              0.1111111111111111,
              "#46039f"
             ],
             [
              0.2222222222222222,
              "#7201a8"
             ],
             [
              0.3333333333333333,
              "#9c179e"
             ],
             [
              0.4444444444444444,
              "#bd3786"
             ],
             [
              0.5555555555555556,
              "#d8576b"
             ],
             [
              0.6666666666666666,
              "#ed7953"
             ],
             [
              0.7777777777777778,
              "#fb9f3a"
             ],
             [
              0.8888888888888888,
              "#fdca26"
             ],
             [
              1,
              "#f0f921"
             ]
            ],
            "type": "contour"
           }
          ],
          "contourcarpet": [
           {
            "colorbar": {
             "outlinewidth": 0,
             "ticks": ""
            },
            "type": "contourcarpet"
           }
          ],
          "heatmap": [
           {
            "colorbar": {
             "outlinewidth": 0,
             "ticks": ""
            },
            "colorscale": [
             [
              0,
              "#0d0887"
             ],
             [
              0.1111111111111111,
              "#46039f"
             ],
             [
              0.2222222222222222,
              "#7201a8"
             ],
             [
              0.3333333333333333,
              "#9c179e"
             ],
             [
              0.4444444444444444,
              "#bd3786"
             ],
             [
              0.5555555555555556,
              "#d8576b"
             ],
             [
              0.6666666666666666,
              "#ed7953"
             ],
             [
              0.7777777777777778,
              "#fb9f3a"
             ],
             [
              0.8888888888888888,
              "#fdca26"
             ],
             [
              1,
              "#f0f921"
             ]
            ],
            "type": "heatmap"
           }
          ],
          "heatmapgl": [
           {
            "colorbar": {
             "outlinewidth": 0,
             "ticks": ""
            },
            "colorscale": [
             [
              0,
              "#0d0887"
             ],
             [
              0.1111111111111111,
              "#46039f"
             ],
             [
              0.2222222222222222,
              "#7201a8"
             ],
             [
              0.3333333333333333,
              "#9c179e"
             ],
             [
              0.4444444444444444,
              "#bd3786"
             ],
             [
              0.5555555555555556,
              "#d8576b"
             ],
             [
              0.6666666666666666,
              "#ed7953"
             ],
             [
              0.7777777777777778,
              "#fb9f3a"
             ],
             [
              0.8888888888888888,
              "#fdca26"
             ],
             [
              1,
              "#f0f921"
             ]
            ],
            "type": "heatmapgl"
           }
          ],
          "histogram": [
           {
            "marker": {
             "pattern": {
              "fillmode": "overlay",
              "size": 10,
              "solidity": 0.2
             }
            },
            "type": "histogram"
           }
          ],
          "histogram2d": [
           {
            "colorbar": {
             "outlinewidth": 0,
             "ticks": ""
            },
            "colorscale": [
             [
              0,
              "#0d0887"
             ],
             [
              0.1111111111111111,
              "#46039f"
             ],
             [
              0.2222222222222222,
              "#7201a8"
             ],
             [
              0.3333333333333333,
              "#9c179e"
             ],
             [
              0.4444444444444444,
              "#bd3786"
             ],
             [
              0.5555555555555556,
              "#d8576b"
             ],
             [
              0.6666666666666666,
              "#ed7953"
             ],
             [
              0.7777777777777778,
              "#fb9f3a"
             ],
             [
              0.8888888888888888,
              "#fdca26"
             ],
             [
              1,
              "#f0f921"
             ]
            ],
            "type": "histogram2d"
           }
          ],
          "histogram2dcontour": [
           {
            "colorbar": {
             "outlinewidth": 0,
             "ticks": ""
            },
            "colorscale": [
             [
              0,
              "#0d0887"
             ],
             [
              0.1111111111111111,
              "#46039f"
             ],
             [
              0.2222222222222222,
              "#7201a8"
             ],
             [
              0.3333333333333333,
              "#9c179e"
             ],
             [
              0.4444444444444444,
              "#bd3786"
             ],
             [
              0.5555555555555556,
              "#d8576b"
             ],
             [
              0.6666666666666666,
              "#ed7953"
             ],
             [
              0.7777777777777778,
              "#fb9f3a"
             ],
             [
              0.8888888888888888,
              "#fdca26"
             ],
             [
              1,
              "#f0f921"
             ]
            ],
            "type": "histogram2dcontour"
           }
          ],
          "mesh3d": [
           {
            "colorbar": {
             "outlinewidth": 0,
             "ticks": ""
            },
            "type": "mesh3d"
           }
          ],
          "parcoords": [
           {
            "line": {
             "colorbar": {
              "outlinewidth": 0,
              "ticks": ""
             }
            },
            "type": "parcoords"
           }
          ],
          "pie": [
           {
            "automargin": true,
            "type": "pie"
           }
          ],
          "scatter": [
           {
            "marker": {
             "colorbar": {
              "outlinewidth": 0,
              "ticks": ""
             }
            },
            "type": "scatter"
           }
          ],
          "scatter3d": [
           {
            "line": {
             "colorbar": {
              "outlinewidth": 0,
              "ticks": ""
             }
            },
            "marker": {
             "colorbar": {
              "outlinewidth": 0,
              "ticks": ""
             }
            },
            "type": "scatter3d"
           }
          ],
          "scattercarpet": [
           {
            "marker": {
             "colorbar": {
              "outlinewidth": 0,
              "ticks": ""
             }
            },
            "type": "scattercarpet"
           }
          ],
          "scattergeo": [
           {
            "marker": {
             "colorbar": {
              "outlinewidth": 0,
              "ticks": ""
             }
            },
            "type": "scattergeo"
           }
          ],
          "scattergl": [
           {
            "marker": {
             "colorbar": {
              "outlinewidth": 0,
              "ticks": ""
             }
            },
            "type": "scattergl"
           }
          ],
          "scattermapbox": [
           {
            "marker": {
             "colorbar": {
              "outlinewidth": 0,
              "ticks": ""
             }
            },
            "type": "scattermapbox"
           }
          ],
          "scatterpolar": [
           {
            "marker": {
             "colorbar": {
              "outlinewidth": 0,
              "ticks": ""
             }
            },
            "type": "scatterpolar"
           }
          ],
          "scatterpolargl": [
           {
            "marker": {
             "colorbar": {
              "outlinewidth": 0,
              "ticks": ""
             }
            },
            "type": "scatterpolargl"
           }
          ],
          "scatterternary": [
           {
            "marker": {
             "colorbar": {
              "outlinewidth": 0,
              "ticks": ""
             }
            },
            "type": "scatterternary"
           }
          ],
          "surface": [
           {
            "colorbar": {
             "outlinewidth": 0,
             "ticks": ""
            },
            "colorscale": [
             [
              0,
              "#0d0887"
             ],
             [
              0.1111111111111111,
              "#46039f"
             ],
             [
              0.2222222222222222,
              "#7201a8"
             ],
             [
              0.3333333333333333,
              "#9c179e"
             ],
             [
              0.4444444444444444,
              "#bd3786"
             ],
             [
              0.5555555555555556,
              "#d8576b"
             ],
             [
              0.6666666666666666,
              "#ed7953"
             ],
             [
              0.7777777777777778,
              "#fb9f3a"
             ],
             [
              0.8888888888888888,
              "#fdca26"
             ],
             [
              1,
              "#f0f921"
             ]
            ],
            "type": "surface"
           }
          ],
          "table": [
           {
            "cells": {
             "fill": {
              "color": "#EBF0F8"
             },
             "line": {
              "color": "white"
             }
            },
            "header": {
             "fill": {
              "color": "#C8D4E3"
             },
             "line": {
              "color": "white"
             }
            },
            "type": "table"
           }
          ]
         },
         "layout": {
          "annotationdefaults": {
           "arrowcolor": "#2a3f5f",
           "arrowhead": 0,
           "arrowwidth": 1
          },
          "autotypenumbers": "strict",
          "coloraxis": {
           "colorbar": {
            "outlinewidth": 0,
            "ticks": ""
           }
          },
          "colorscale": {
           "diverging": [
            [
             0,
             "#8e0152"
            ],
            [
             0.1,
             "#c51b7d"
            ],
            [
             0.2,
             "#de77ae"
            ],
            [
             0.3,
             "#f1b6da"
            ],
            [
             0.4,
             "#fde0ef"
            ],
            [
             0.5,
             "#f7f7f7"
            ],
            [
             0.6,
             "#e6f5d0"
            ],
            [
             0.7,
             "#b8e186"
            ],
            [
             0.8,
             "#7fbc41"
            ],
            [
             0.9,
             "#4d9221"
            ],
            [
             1,
             "#276419"
            ]
           ],
           "sequential": [
            [
             0,
             "#0d0887"
            ],
            [
             0.1111111111111111,
             "#46039f"
            ],
            [
             0.2222222222222222,
             "#7201a8"
            ],
            [
             0.3333333333333333,
             "#9c179e"
            ],
            [
             0.4444444444444444,
             "#bd3786"
            ],
            [
             0.5555555555555556,
             "#d8576b"
            ],
            [
             0.6666666666666666,
             "#ed7953"
            ],
            [
             0.7777777777777778,
             "#fb9f3a"
            ],
            [
             0.8888888888888888,
             "#fdca26"
            ],
            [
             1,
             "#f0f921"
            ]
           ],
           "sequentialminus": [
            [
             0,
             "#0d0887"
            ],
            [
             0.1111111111111111,
             "#46039f"
            ],
            [
             0.2222222222222222,
             "#7201a8"
            ],
            [
             0.3333333333333333,
             "#9c179e"
            ],
            [
             0.4444444444444444,
             "#bd3786"
            ],
            [
             0.5555555555555556,
             "#d8576b"
            ],
            [
             0.6666666666666666,
             "#ed7953"
            ],
            [
             0.7777777777777778,
             "#fb9f3a"
            ],
            [
             0.8888888888888888,
             "#fdca26"
            ],
            [
             1,
             "#f0f921"
            ]
           ]
          },
          "colorway": [
           "#636efa",
           "#EF553B",
           "#00cc96",
           "#ab63fa",
           "#FFA15A",
           "#19d3f3",
           "#FF6692",
           "#B6E880",
           "#FF97FF",
           "#FECB52"
          ],
          "font": {
           "color": "#2a3f5f"
          },
          "geo": {
           "bgcolor": "white",
           "lakecolor": "white",
           "landcolor": "#E5ECF6",
           "showlakes": true,
           "showland": true,
           "subunitcolor": "white"
          },
          "hoverlabel": {
           "align": "left"
          },
          "hovermode": "closest",
          "mapbox": {
           "style": "light"
          },
          "paper_bgcolor": "white",
          "plot_bgcolor": "#E5ECF6",
          "polar": {
           "angularaxis": {
            "gridcolor": "white",
            "linecolor": "white",
            "ticks": ""
           },
           "bgcolor": "#E5ECF6",
           "radialaxis": {
            "gridcolor": "white",
            "linecolor": "white",
            "ticks": ""
           }
          },
          "scene": {
           "xaxis": {
            "backgroundcolor": "#E5ECF6",
            "gridcolor": "white",
            "gridwidth": 2,
            "linecolor": "white",
            "showbackground": true,
            "ticks": "",
            "zerolinecolor": "white"
           },
           "yaxis": {
            "backgroundcolor": "#E5ECF6",
            "gridcolor": "white",
            "gridwidth": 2,
            "linecolor": "white",
            "showbackground": true,
            "ticks": "",
            "zerolinecolor": "white"
           },
           "zaxis": {
            "backgroundcolor": "#E5ECF6",
            "gridcolor": "white",
            "gridwidth": 2,
            "linecolor": "white",
            "showbackground": true,
            "ticks": "",
            "zerolinecolor": "white"
           }
          },
          "shapedefaults": {
           "line": {
            "color": "#2a3f5f"
           }
          },
          "ternary": {
           "aaxis": {
            "gridcolor": "white",
            "linecolor": "white",
            "ticks": ""
           },
           "baxis": {
            "gridcolor": "white",
            "linecolor": "white",
            "ticks": ""
           },
           "bgcolor": "#E5ECF6",
           "caxis": {
            "gridcolor": "white",
            "linecolor": "white",
            "ticks": ""
           }
          },
          "title": {
           "x": 0.05
          },
          "xaxis": {
           "automargin": true,
           "gridcolor": "white",
           "linecolor": "white",
           "ticks": "",
           "title": {
            "standoff": 15
           },
           "zerolinecolor": "white",
           "zerolinewidth": 2
          },
          "yaxis": {
           "automargin": true,
           "gridcolor": "white",
           "linecolor": "white",
           "ticks": "",
           "title": {
            "standoff": 15
           },
           "zerolinecolor": "white",
           "zerolinewidth": 2
          }
         }
        },
        "width": 650,
        "xaxis": {
         "anchor": "y",
         "domain": [
          0,
          1
         ],
         "title": {
          "text": "Features"
         }
        },
        "yaxis": {
         "anchor": "x",
         "domain": [
          0,
          1
         ],
         "title": {
          "text": "Weight"
         }
        }
       }
      }
     },
     "metadata": {},
     "output_type": "display_data"
    }
   ],
   "source": [
    "# PC-1 had the largest positive impact on the PCA weights for Cluster-1\n",
    "map_pca_weights(azdias, 1, 3)"
   ]
  },
  {
   "cell_type": "markdown",
   "metadata": {},
   "source": [
    "The features that are positively correlated with Principal Component 1 are:\n",
    "- Customers with social status: minimalistic high-income earners (LP_STATUS_FEIN_5.0)\n",
    "- Customers with vacation habits: Nature fans (GFK_URLAUBERTYP_5.0)\n",
    "- Customers with return type: incentive-receptive Normal-Returner (RETOURTYP_BK_S_3.0)\n",
    "\n",
    "The features that are negatively correlated with Principal Component 1 are:\n",
    "- Customers with social status: low-income earners (LP_STATUS_GROB_1.0\n",
    "- Customers with family type: single (LP_FAMILIE_FEIN_1.0 & LP_FAMILIE_GROB_1.0)"
   ]
  },
  {
   "cell_type": "code",
   "execution_count": 94,
   "metadata": {},
   "outputs": [
    {
     "name": "stdout",
     "output_type": "stream",
     "text": [
      "Top 3 Features:\n",
      "('ANZ_TITEL_0.0', 0.18506448158702837)\n",
      "('SOHO_KZ_0.0', 0.1842357672824032)\n",
      "('NATIONALITAET_KZ_1.0', 0.15826050009461212)\n",
      "\n",
      "Bottom 3 Features:\n",
      "('SEMIO_VERT_1.0', -0.1717019005707613)\n",
      "('FINANZTYP_4.0', -0.1777372327909146)\n",
      "('HH_EINKOMMEN_SCORE_2.0', -0.17908653511308933)\n",
      "\n"
     ]
    },
    {
     "data": {
      "application/vnd.plotly.v1+json": {
       "config": {
        "plotlyServerURL": "https://plot.ly"
       },
       "data": [
        {
         "alignmentgroup": "True",
         "hovertemplate": "Features=%{x}<br>Weight=%{marker.color}<extra></extra>",
         "legendgroup": "",
         "marker": {
          "color": [
           0.18506448158702837,
           0.1842357672824032,
           0.15826050009461212,
           -0.1717019005707613,
           -0.1777372327909146,
           -0.17908653511308933
          ],
          "coloraxis": "coloraxis",
          "pattern": {
           "shape": ""
          }
         },
         "name": "",
         "offsetgroup": "",
         "orientation": "v",
         "showlegend": false,
         "textposition": "auto",
         "type": "bar",
         "x": [
          "ANZ_TITEL_0.0",
          "SOHO_KZ_0.0",
          "NATIONALITAET_KZ_1.0",
          "SEMIO_VERT_1.0",
          "FINANZTYP_4.0",
          "HH_EINKOMMEN_SCORE_2.0"
         ],
         "xaxis": "x",
         "y": [
          0.18506448158702837,
          0.1842357672824032,
          0.15826050009461212,
          -0.1717019005707613,
          -0.1777372327909146,
          -0.17908653511308933
         ],
         "yaxis": "y"
        }
       ],
       "layout": {
        "barmode": "relative",
        "coloraxis": {
         "colorbar": {
          "title": {
           "text": "Weight"
          }
         },
         "colorscale": [
          [
           0,
           "rgb(255,255,217)"
          ],
          [
           0.125,
           "rgb(237,248,177)"
          ],
          [
           0.25,
           "rgb(199,233,180)"
          ],
          [
           0.375,
           "rgb(127,205,187)"
          ],
          [
           0.5,
           "rgb(65,182,196)"
          ],
          [
           0.625,
           "rgb(29,145,192)"
          ],
          [
           0.75,
           "rgb(34,94,168)"
          ],
          [
           0.875,
           "rgb(37,52,148)"
          ],
          [
           1,
           "rgb(8,29,88)"
          ]
         ]
        },
        "height": 450,
        "legend": {
         "tracegroupgap": 0
        },
        "margin": {
         "t": 60
        },
        "template": {
         "data": {
          "bar": [
           {
            "error_x": {
             "color": "#2a3f5f"
            },
            "error_y": {
             "color": "#2a3f5f"
            },
            "marker": {
             "line": {
              "color": "#E5ECF6",
              "width": 0.5
             },
             "pattern": {
              "fillmode": "overlay",
              "size": 10,
              "solidity": 0.2
             }
            },
            "type": "bar"
           }
          ],
          "barpolar": [
           {
            "marker": {
             "line": {
              "color": "#E5ECF6",
              "width": 0.5
             },
             "pattern": {
              "fillmode": "overlay",
              "size": 10,
              "solidity": 0.2
             }
            },
            "type": "barpolar"
           }
          ],
          "carpet": [
           {
            "aaxis": {
             "endlinecolor": "#2a3f5f",
             "gridcolor": "white",
             "linecolor": "white",
             "minorgridcolor": "white",
             "startlinecolor": "#2a3f5f"
            },
            "baxis": {
             "endlinecolor": "#2a3f5f",
             "gridcolor": "white",
             "linecolor": "white",
             "minorgridcolor": "white",
             "startlinecolor": "#2a3f5f"
            },
            "type": "carpet"
           }
          ],
          "choropleth": [
           {
            "colorbar": {
             "outlinewidth": 0,
             "ticks": ""
            },
            "type": "choropleth"
           }
          ],
          "contour": [
           {
            "colorbar": {
             "outlinewidth": 0,
             "ticks": ""
            },
            "colorscale": [
             [
              0,
              "#0d0887"
             ],
             [
              0.1111111111111111,
              "#46039f"
             ],
             [
              0.2222222222222222,
              "#7201a8"
             ],
             [
              0.3333333333333333,
              "#9c179e"
             ],
             [
              0.4444444444444444,
              "#bd3786"
             ],
             [
              0.5555555555555556,
              "#d8576b"
             ],
             [
              0.6666666666666666,
              "#ed7953"
             ],
             [
              0.7777777777777778,
              "#fb9f3a"
             ],
             [
              0.8888888888888888,
              "#fdca26"
             ],
             [
              1,
              "#f0f921"
             ]
            ],
            "type": "contour"
           }
          ],
          "contourcarpet": [
           {
            "colorbar": {
             "outlinewidth": 0,
             "ticks": ""
            },
            "type": "contourcarpet"
           }
          ],
          "heatmap": [
           {
            "colorbar": {
             "outlinewidth": 0,
             "ticks": ""
            },
            "colorscale": [
             [
              0,
              "#0d0887"
             ],
             [
              0.1111111111111111,
              "#46039f"
             ],
             [
              0.2222222222222222,
              "#7201a8"
             ],
             [
              0.3333333333333333,
              "#9c179e"
             ],
             [
              0.4444444444444444,
              "#bd3786"
             ],
             [
              0.5555555555555556,
              "#d8576b"
             ],
             [
              0.6666666666666666,
              "#ed7953"
             ],
             [
              0.7777777777777778,
              "#fb9f3a"
             ],
             [
              0.8888888888888888,
              "#fdca26"
             ],
             [
              1,
              "#f0f921"
             ]
            ],
            "type": "heatmap"
           }
          ],
          "heatmapgl": [
           {
            "colorbar": {
             "outlinewidth": 0,
             "ticks": ""
            },
            "colorscale": [
             [
              0,
              "#0d0887"
             ],
             [
              0.1111111111111111,
              "#46039f"
             ],
             [
              0.2222222222222222,
              "#7201a8"
             ],
             [
              0.3333333333333333,
              "#9c179e"
             ],
             [
              0.4444444444444444,
              "#bd3786"
             ],
             [
              0.5555555555555556,
              "#d8576b"
             ],
             [
              0.6666666666666666,
              "#ed7953"
             ],
             [
              0.7777777777777778,
              "#fb9f3a"
             ],
             [
              0.8888888888888888,
              "#fdca26"
             ],
             [
              1,
              "#f0f921"
             ]
            ],
            "type": "heatmapgl"
           }
          ],
          "histogram": [
           {
            "marker": {
             "pattern": {
              "fillmode": "overlay",
              "size": 10,
              "solidity": 0.2
             }
            },
            "type": "histogram"
           }
          ],
          "histogram2d": [
           {
            "colorbar": {
             "outlinewidth": 0,
             "ticks": ""
            },
            "colorscale": [
             [
              0,
              "#0d0887"
             ],
             [
              0.1111111111111111,
              "#46039f"
             ],
             [
              0.2222222222222222,
              "#7201a8"
             ],
             [
              0.3333333333333333,
              "#9c179e"
             ],
             [
              0.4444444444444444,
              "#bd3786"
             ],
             [
              0.5555555555555556,
              "#d8576b"
             ],
             [
              0.6666666666666666,
              "#ed7953"
             ],
             [
              0.7777777777777778,
              "#fb9f3a"
             ],
             [
              0.8888888888888888,
              "#fdca26"
             ],
             [
              1,
              "#f0f921"
             ]
            ],
            "type": "histogram2d"
           }
          ],
          "histogram2dcontour": [
           {
            "colorbar": {
             "outlinewidth": 0,
             "ticks": ""
            },
            "colorscale": [
             [
              0,
              "#0d0887"
             ],
             [
              0.1111111111111111,
              "#46039f"
             ],
             [
              0.2222222222222222,
              "#7201a8"
             ],
             [
              0.3333333333333333,
              "#9c179e"
             ],
             [
              0.4444444444444444,
              "#bd3786"
             ],
             [
              0.5555555555555556,
              "#d8576b"
             ],
             [
              0.6666666666666666,
              "#ed7953"
             ],
             [
              0.7777777777777778,
              "#fb9f3a"
             ],
             [
              0.8888888888888888,
              "#fdca26"
             ],
             [
              1,
              "#f0f921"
             ]
            ],
            "type": "histogram2dcontour"
           }
          ],
          "mesh3d": [
           {
            "colorbar": {
             "outlinewidth": 0,
             "ticks": ""
            },
            "type": "mesh3d"
           }
          ],
          "parcoords": [
           {
            "line": {
             "colorbar": {
              "outlinewidth": 0,
              "ticks": ""
             }
            },
            "type": "parcoords"
           }
          ],
          "pie": [
           {
            "automargin": true,
            "type": "pie"
           }
          ],
          "scatter": [
           {
            "marker": {
             "colorbar": {
              "outlinewidth": 0,
              "ticks": ""
             }
            },
            "type": "scatter"
           }
          ],
          "scatter3d": [
           {
            "line": {
             "colorbar": {
              "outlinewidth": 0,
              "ticks": ""
             }
            },
            "marker": {
             "colorbar": {
              "outlinewidth": 0,
              "ticks": ""
             }
            },
            "type": "scatter3d"
           }
          ],
          "scattercarpet": [
           {
            "marker": {
             "colorbar": {
              "outlinewidth": 0,
              "ticks": ""
             }
            },
            "type": "scattercarpet"
           }
          ],
          "scattergeo": [
           {
            "marker": {
             "colorbar": {
              "outlinewidth": 0,
              "ticks": ""
             }
            },
            "type": "scattergeo"
           }
          ],
          "scattergl": [
           {
            "marker": {
             "colorbar": {
              "outlinewidth": 0,
              "ticks": ""
             }
            },
            "type": "scattergl"
           }
          ],
          "scattermapbox": [
           {
            "marker": {
             "colorbar": {
              "outlinewidth": 0,
              "ticks": ""
             }
            },
            "type": "scattermapbox"
           }
          ],
          "scatterpolar": [
           {
            "marker": {
             "colorbar": {
              "outlinewidth": 0,
              "ticks": ""
             }
            },
            "type": "scatterpolar"
           }
          ],
          "scatterpolargl": [
           {
            "marker": {
             "colorbar": {
              "outlinewidth": 0,
              "ticks": ""
             }
            },
            "type": "scatterpolargl"
           }
          ],
          "scatterternary": [
           {
            "marker": {
             "colorbar": {
              "outlinewidth": 0,
              "ticks": ""
             }
            },
            "type": "scatterternary"
           }
          ],
          "surface": [
           {
            "colorbar": {
             "outlinewidth": 0,
             "ticks": ""
            },
            "colorscale": [
             [
              0,
              "#0d0887"
             ],
             [
              0.1111111111111111,
              "#46039f"
             ],
             [
              0.2222222222222222,
              "#7201a8"
             ],
             [
              0.3333333333333333,
              "#9c179e"
             ],
             [
              0.4444444444444444,
              "#bd3786"
             ],
             [
              0.5555555555555556,
              "#d8576b"
             ],
             [
              0.6666666666666666,
              "#ed7953"
             ],
             [
              0.7777777777777778,
              "#fb9f3a"
             ],
             [
              0.8888888888888888,
              "#fdca26"
             ],
             [
              1,
              "#f0f921"
             ]
            ],
            "type": "surface"
           }
          ],
          "table": [
           {
            "cells": {
             "fill": {
              "color": "#EBF0F8"
             },
             "line": {
              "color": "white"
             }
            },
            "header": {
             "fill": {
              "color": "#C8D4E3"
             },
             "line": {
              "color": "white"
             }
            },
            "type": "table"
           }
          ]
         },
         "layout": {
          "annotationdefaults": {
           "arrowcolor": "#2a3f5f",
           "arrowhead": 0,
           "arrowwidth": 1
          },
          "autotypenumbers": "strict",
          "coloraxis": {
           "colorbar": {
            "outlinewidth": 0,
            "ticks": ""
           }
          },
          "colorscale": {
           "diverging": [
            [
             0,
             "#8e0152"
            ],
            [
             0.1,
             "#c51b7d"
            ],
            [
             0.2,
             "#de77ae"
            ],
            [
             0.3,
             "#f1b6da"
            ],
            [
             0.4,
             "#fde0ef"
            ],
            [
             0.5,
             "#f7f7f7"
            ],
            [
             0.6,
             "#e6f5d0"
            ],
            [
             0.7,
             "#b8e186"
            ],
            [
             0.8,
             "#7fbc41"
            ],
            [
             0.9,
             "#4d9221"
            ],
            [
             1,
             "#276419"
            ]
           ],
           "sequential": [
            [
             0,
             "#0d0887"
            ],
            [
             0.1111111111111111,
             "#46039f"
            ],
            [
             0.2222222222222222,
             "#7201a8"
            ],
            [
             0.3333333333333333,
             "#9c179e"
            ],
            [
             0.4444444444444444,
             "#bd3786"
            ],
            [
             0.5555555555555556,
             "#d8576b"
            ],
            [
             0.6666666666666666,
             "#ed7953"
            ],
            [
             0.7777777777777778,
             "#fb9f3a"
            ],
            [
             0.8888888888888888,
             "#fdca26"
            ],
            [
             1,
             "#f0f921"
            ]
           ],
           "sequentialminus": [
            [
             0,
             "#0d0887"
            ],
            [
             0.1111111111111111,
             "#46039f"
            ],
            [
             0.2222222222222222,
             "#7201a8"
            ],
            [
             0.3333333333333333,
             "#9c179e"
            ],
            [
             0.4444444444444444,
             "#bd3786"
            ],
            [
             0.5555555555555556,
             "#d8576b"
            ],
            [
             0.6666666666666666,
             "#ed7953"
            ],
            [
             0.7777777777777778,
             "#fb9f3a"
            ],
            [
             0.8888888888888888,
             "#fdca26"
            ],
            [
             1,
             "#f0f921"
            ]
           ]
          },
          "colorway": [
           "#636efa",
           "#EF553B",
           "#00cc96",
           "#ab63fa",
           "#FFA15A",
           "#19d3f3",
           "#FF6692",
           "#B6E880",
           "#FF97FF",
           "#FECB52"
          ],
          "font": {
           "color": "#2a3f5f"
          },
          "geo": {
           "bgcolor": "white",
           "lakecolor": "white",
           "landcolor": "#E5ECF6",
           "showlakes": true,
           "showland": true,
           "subunitcolor": "white"
          },
          "hoverlabel": {
           "align": "left"
          },
          "hovermode": "closest",
          "mapbox": {
           "style": "light"
          },
          "paper_bgcolor": "white",
          "plot_bgcolor": "#E5ECF6",
          "polar": {
           "angularaxis": {
            "gridcolor": "white",
            "linecolor": "white",
            "ticks": ""
           },
           "bgcolor": "#E5ECF6",
           "radialaxis": {
            "gridcolor": "white",
            "linecolor": "white",
            "ticks": ""
           }
          },
          "scene": {
           "xaxis": {
            "backgroundcolor": "#E5ECF6",
            "gridcolor": "white",
            "gridwidth": 2,
            "linecolor": "white",
            "showbackground": true,
            "ticks": "",
            "zerolinecolor": "white"
           },
           "yaxis": {
            "backgroundcolor": "#E5ECF6",
            "gridcolor": "white",
            "gridwidth": 2,
            "linecolor": "white",
            "showbackground": true,
            "ticks": "",
            "zerolinecolor": "white"
           },
           "zaxis": {
            "backgroundcolor": "#E5ECF6",
            "gridcolor": "white",
            "gridwidth": 2,
            "linecolor": "white",
            "showbackground": true,
            "ticks": "",
            "zerolinecolor": "white"
           }
          },
          "shapedefaults": {
           "line": {
            "color": "#2a3f5f"
           }
          },
          "ternary": {
           "aaxis": {
            "gridcolor": "white",
            "linecolor": "white",
            "ticks": ""
           },
           "baxis": {
            "gridcolor": "white",
            "linecolor": "white",
            "ticks": ""
           },
           "bgcolor": "#E5ECF6",
           "caxis": {
            "gridcolor": "white",
            "linecolor": "white",
            "ticks": ""
           }
          },
          "title": {
           "x": 0.05
          },
          "xaxis": {
           "automargin": true,
           "gridcolor": "white",
           "linecolor": "white",
           "ticks": "",
           "title": {
            "standoff": 15
           },
           "zerolinecolor": "white",
           "zerolinewidth": 2
          },
          "yaxis": {
           "automargin": true,
           "gridcolor": "white",
           "linecolor": "white",
           "ticks": "",
           "title": {
            "standoff": 15
           },
           "zerolinecolor": "white",
           "zerolinewidth": 2
          }
         }
        },
        "width": 650,
        "xaxis": {
         "anchor": "y",
         "domain": [
          0,
          1
         ],
         "title": {
          "text": "Features"
         }
        },
        "yaxis": {
         "anchor": "x",
         "domain": [
          0,
          1
         ],
         "title": {
          "text": "Weight"
         }
        }
       }
      }
     },
     "metadata": {},
     "output_type": "display_data"
    }
   ],
   "source": [
    "# PC-0 had the largest negative impact on the PCA weights for Cluster-1\n",
    "map_pca_weights(azdias, 0, 3)"
   ]
  },
  {
   "cell_type": "markdown",
   "metadata": {},
   "source": [
    "The features that are positively correlated with Principal Component 0 are:\n",
    "- Customers with zero professional academic title holders in the household (ANZ_TITEL_0.0)\n",
    "- Customers with no small office/home office (SOHO_KZ_0.0)\n",
    "- Customers with a German-sounding nationality based on given name analysis (NATIONALITAET_KZ_1.0)\n",
    "\n",
    "The features that are negatively correlated with Principal Component 0 are:\n",
    "- Customers with the highest affinity for the personality typology: traditional-minded (SEMIO_TRADV_1.0)\n",
    "- Customers whose most descriptive financial type is: be prepared (FINANZTYP_4.0)\n",
    "- Customers with an estimated household net income of: very high income (HH_EINKOMMEN_SCORE_2.0)"
   ]
  },
  {
   "cell_type": "markdown",
   "metadata": {},
   "source": [
    "### Discussion 3.3: Compare Customer Data to Demographics Data\n",
    "\n",
    "There are a few customer segments that stand out as being relatively popular with this mail-order company: estimated age 46-60 (ALTERSKATEGORIE_GROB_3.0), sensual-minded (SEMIO_LUST_1.0), financially unprepared (FINANZ_VORSORGER_4.0).\n",
    "\n",
    "There are also a few customer segments that are relatively unpopular with this mail-order company: minimalistic high-income earner(LP_STATUS_FEIN_5.0), nature fans (GFK_URLAUBERTYP_5.0), and incentive-receptive (RETOURTYP_BK_S_3.0)."
   ]
  },
  {
   "cell_type": "code",
   "execution_count": null,
   "metadata": {},
   "outputs": [],
   "source": [
    "''' ____                           ______                __\n",
    "   / __ )_________  ____  ____ ___/_  __/___  ____ _____/ /\n",
    "  / __  / ___/ __ \\/ __ \\/_  // _ \\/ / / __ \\/ __ `/ __  / \n",
    " / /_/ / /  / /_/ / / / / / //  __/ / / /_/ / /_/ / /_/ /  \n",
    "/_____/_/   \\____/_/ /_/ /___|___/_/  \\____/\\__,_/\\__,_/ '''"
   ]
  }
 ],
 "metadata": {
  "kernelspec": {
   "display_name": "Python 3.9.7 ('base')",
   "language": "python",
   "name": "python3"
  },
  "language_info": {
   "codemirror_mode": {
    "name": "ipython",
    "version": 3
   },
   "file_extension": ".py",
   "mimetype": "text/x-python",
   "name": "python",
   "nbconvert_exporter": "python",
   "pygments_lexer": "ipython3",
   "version": "3.9.7"
  },
  "orig_nbformat": 4,
  "vscode": {
   "interpreter": {
    "hash": "6fd725dff5a548461cc914a628153c9bab9b28d76889d064fff945c6aeb90fc8"
   }
  }
 },
 "nbformat": 4,
 "nbformat_minor": 2
}
